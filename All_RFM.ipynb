{
 "cells": [
  {
   "cell_type": "code",
   "execution_count": 1,
   "metadata": {},
   "outputs": [
    {
     "name": "stderr",
     "output_type": "stream",
     "text": [
      "/var/folders/mk/p5y6cznx60788rys6_dnljxm0000gn/T/ipykernel_23986/64509669.py:23: DtypeWarning: Columns (1,29) have mixed types. Specify dtype option on import or set low_memory=False.\n",
      "  df = pd.read_csv('ga4_data.csv')\n"
     ]
    }
   ],
   "source": [
    "import os\n",
    "import json\n",
    "from glob import glob\n",
    "from tqdm import tqdm\n",
    "import pandas as pd\n",
    "import numpy as np\n",
    "import matplotlib.pyplot as plt\n",
    "import random\n",
    "from datetime import datetime, timedelta\n",
    "\n",
    "from google.cloud import bigquery\n",
    "from google.oauth2 import service_account\n",
    "\n",
    "pd.set_option('display.max_seq_items', None)\n",
    "pd.set_option('display.max_columns', None)\n",
    "\n",
    "import matplotlib.pyplot as plt\n",
    "import seaborn as sns\n",
    "import plotly.express as px\n",
    "#matplotlib 패키지 한글 깨짐 처리 시작\n",
    "plt.rc('font', family='AppleGothic') #맥\n",
    "\n",
    "df = pd.read_csv('ga4_data.csv')"
   ]
  },
  {
   "cell_type": "code",
   "execution_count": 2,
   "metadata": {},
   "outputs": [],
   "source": [
    "# 전처리 \n",
    "df['visitStartTime'] = pd.to_datetime(df['visitStartTime'])\n",
    "df['totals_totalTransactionRevenue'] = df['totals_totalTransactionRevenue'].fillna(0)\n",
    "df['hits_transaction_transactionRevenue'] = df['hits_transaction_transactionRevenue'].fillna(0)\n",
    "df['fullVisitorId'] = df['fullVisitorId'].astype(str)\n",
    "\n",
    "def pad_with_zeros(string):\n",
    "    \"\"\"\n",
    "    문자열의 길이가 19이 될 때까지 앞에 0을 추가하는 함수\n",
    "    \"\"\"\n",
    "    # 문자열의 길이를 세기\n",
    "    length = len(string)\n",
    "    \n",
    "    # 문자열의 길이가 20이 될 때까지 앞에 0을 추가\n",
    "    while length < 19:\n",
    "        string = '0' + string\n",
    "        length += 1\n",
    "    \n",
    "    return string\n",
    "\n",
    "df['fullVisitorId'] = df['fullVisitorId'].apply(pad_with_zeros)\n",
    "\n",
    "df.visitStartTime = (df.visitStartTime - timedelta(hours=8))\n",
    "# df = df.assign(month = df.visitStartTime.dt.strftime('%Y-%m'))\n",
    "# df = df.assign(date = df.visitStartTime.dt.strftime('%m-%d'))\n",
    "# df = df.assign(day_name = df.visitStartTime.dt.weekday)"
   ]
  },
  {
   "cell_type": "code",
   "execution_count": 7,
   "metadata": {},
   "outputs": [],
   "source": [
    "# df.describe(include='all').T"
   ]
  },
  {
   "cell_type": "code",
   "execution_count": 8,
   "metadata": {},
   "outputs": [],
   "source": [
    "\n",
    "# # RFM -> VFM\n",
    "# # 방문빈도 : 구매했던 안했던 visitId count\n",
    "# # 구매건수 : revunue 찍힌 visitId 만 count\n",
    "# # 총매출 : Total Revenue\n",
    "\n",
    "# # 방문 빈도 계산 : Visit Count\n",
    "# # user_visit_Cnt = df.groupby('fullVisitorId')['visitId'].count().to_frame() : 잘못계산함\n",
    "# user_visit_Cnt = df.groupby('fullVisitorId')['visitId'].nunique().to_frame()\n",
    "\n",
    "# # 구매건수 계산 : Buy Count\n",
    "# # user_buy_total_Cnt = df[df['hits_transaction_transactionRevenue'] > 0].groupby('fullVisitorId')[['totals_totalTransactionRevenue']].count().sort_values('totals_totalTransactionRevenue') : 잠시 대기\n",
    "# # 구매건수 : 구매당 1씩\n",
    "# user_buy_total_Cnt = df[df['hits_transaction_transactionRevenue'] > 0].groupby('fullVisitorId')['visitId'].nunique()\n",
    "\n",
    "\n",
    "# # 총매출 : \n",
    "# user_buy_total_Revenue = df[df['hits_transaction_transactionRevenue'] > 0].groupby('fullVisitorId')[['totals_totalTransactionRevenue']].agg('sum').sort_values('totals_totalTransactionRevenue')\n",
    "\n",
    "# # 평균매출\n",
    "# # user_buy_total_Revenue = df[df['hits_transaction_transactionRevenue'] > 0].groupby('fullVisitorId')[['totals_totalTransactionRevenue']].agg('mean').sort_values('totals_totalTransactionRevenue')"
   ]
  },
  {
   "cell_type": "code",
   "execution_count": 3,
   "metadata": {},
   "outputs": [
    {
     "data": {
      "text/html": [
       "<div>\n",
       "<style scoped>\n",
       "    .dataframe tbody tr th:only-of-type {\n",
       "        vertical-align: middle;\n",
       "    }\n",
       "\n",
       "    .dataframe tbody tr th {\n",
       "        vertical-align: top;\n",
       "    }\n",
       "\n",
       "    .dataframe thead th {\n",
       "        text-align: right;\n",
       "    }\n",
       "</style>\n",
       "<table border=\"1\" class=\"dataframe\">\n",
       "  <thead>\n",
       "    <tr style=\"text-align: right;\">\n",
       "      <th></th>\n",
       "      <th>visit_Cnt</th>\n",
       "      <th>buy_Cnt</th>\n",
       "      <th>total_Revenue</th>\n",
       "    </tr>\n",
       "    <tr>\n",
       "      <th>fullVisitorId</th>\n",
       "      <th></th>\n",
       "      <th></th>\n",
       "      <th></th>\n",
       "    </tr>\n",
       "  </thead>\n",
       "  <tbody>\n",
       "    <tr>\n",
       "      <th>0000213131142648941</th>\n",
       "      <td>1</td>\n",
       "      <td>1</td>\n",
       "      <td>39.59</td>\n",
       "    </tr>\n",
       "    <tr>\n",
       "      <th>0000435324061339869</th>\n",
       "      <td>3</td>\n",
       "      <td>1</td>\n",
       "      <td>46.79</td>\n",
       "    </tr>\n",
       "    <tr>\n",
       "      <th>0000562678147042735</th>\n",
       "      <td>2</td>\n",
       "      <td>1</td>\n",
       "      <td>316.62</td>\n",
       "    </tr>\n",
       "    <tr>\n",
       "      <th>0000585708896049892</th>\n",
       "      <td>1</td>\n",
       "      <td>1</td>\n",
       "      <td>45.97</td>\n",
       "    </tr>\n",
       "    <tr>\n",
       "      <th>0000852801263780322</th>\n",
       "      <td>1</td>\n",
       "      <td>1</td>\n",
       "      <td>80.00</td>\n",
       "    </tr>\n",
       "    <tr>\n",
       "      <th>...</th>\n",
       "      <td>...</td>\n",
       "      <td>...</td>\n",
       "      <td>...</td>\n",
       "    </tr>\n",
       "    <tr>\n",
       "      <th>9991633376050115277</th>\n",
       "      <td>1</td>\n",
       "      <td>1</td>\n",
       "      <td>35.59</td>\n",
       "    </tr>\n",
       "    <tr>\n",
       "      <th>9994767073213036303</th>\n",
       "      <td>5</td>\n",
       "      <td>1</td>\n",
       "      <td>140.32</td>\n",
       "    </tr>\n",
       "    <tr>\n",
       "      <th>9997409246962677759</th>\n",
       "      <td>1</td>\n",
       "      <td>1</td>\n",
       "      <td>40.36</td>\n",
       "    </tr>\n",
       "    <tr>\n",
       "      <th>9998597322098588317</th>\n",
       "      <td>1</td>\n",
       "      <td>1</td>\n",
       "      <td>102.20</td>\n",
       "    </tr>\n",
       "    <tr>\n",
       "      <th>9998996003043230595</th>\n",
       "      <td>1</td>\n",
       "      <td>1</td>\n",
       "      <td>66.98</td>\n",
       "    </tr>\n",
       "  </tbody>\n",
       "</table>\n",
       "<p>9421 rows × 3 columns</p>\n",
       "</div>"
      ],
      "text/plain": [
       "                     visit_Cnt  buy_Cnt  total_Revenue\n",
       "fullVisitorId                                         \n",
       "0000213131142648941          1        1          39.59\n",
       "0000435324061339869          3        1          46.79\n",
       "0000562678147042735          2        1         316.62\n",
       "0000585708896049892          1        1          45.97\n",
       "0000852801263780322          1        1          80.00\n",
       "...                        ...      ...            ...\n",
       "9991633376050115277          1        1          35.59\n",
       "9994767073213036303          5        1         140.32\n",
       "9997409246962677759          1        1          40.36\n",
       "9998597322098588317          1        1         102.20\n",
       "9998996003043230595          1        1          66.98\n",
       "\n",
       "[9421 rows x 3 columns]"
      ]
     },
     "execution_count": 3,
     "metadata": {},
     "output_type": "execute_result"
    }
   ],
   "source": [
    "구매고객 = df[df['totals_totalTransactionRevenue'] != 0]['fullVisitorId'].unique()\n",
    "purchase = df[df['fullVisitorId'].isin(구매고객)]\n",
    "\n",
    "user_visit_Cnt = purchase.groupby('fullVisitorId')['visitId'].nunique().to_frame()\n",
    "user_buy_total_Cnt = pd.DataFrame(purchase[purchase['totals_totalTransactionRevenue'] != 0].groupby('fullVisitorId')['visitId'].nunique())\n",
    "user_buy_total_Revenue = purchase[purchase['hits_transaction_transactionRevenue'] > 0].groupby('fullVisitorId')[['totals_totalTransactionRevenue']].agg('sum')\n",
    "\n",
    "vvip_VFM = user_visit_Cnt.merge(user_buy_total_Cnt, how='inner', on='fullVisitorId') # V : visit Count\n",
    "vvip_VFM = vvip_VFM.merge(user_buy_total_Revenue, how='inner', on='fullVisitorId') \n",
    "\n",
    "vvip_VFM = vvip_VFM.rename(columns={'visitId_x' : 'visit_Cnt'})\n",
    "vvip_VFM = vvip_VFM.rename(columns={'visitId_y' : 'buy_Cnt'})\n",
    "vvip_VFM = vvip_VFM.rename(columns={'totals_totalTransactionRevenue' : 'total_Revenue'})\n",
    "\n",
    "vvip_VFM"
   ]
  },
  {
   "cell_type": "code",
   "execution_count": 4,
   "metadata": {},
   "outputs": [],
   "source": [
    "vvip_VFM.to_csv('vfm.csv', index=True)"
   ]
  },
  {
   "cell_type": "code",
   "execution_count": 10,
   "metadata": {},
   "outputs": [],
   "source": [
    "# df_distinct = df['fullVisitorId'].drop_duplicates()\n",
    "# df_distinct = pd.DataFrame(df_distinct)"
   ]
  },
  {
   "cell_type": "code",
   "execution_count": 11,
   "metadata": {},
   "outputs": [],
   "source": [
    "# # 구매한 적이 있는 9463명\n",
    "# # df 고객 방문 빈도 구하기\n",
    "# df_V = df_distinct.merge(user_visit_Cnt, how='left', on='fullVisitorId') # V : visit Count\n",
    "# df_V = df_V.rename(columns={'visitId' : 'visit_Cnt'})\n",
    "\n",
    "# # df 고객 총 구매 건수 구하기\n",
    "# df_VF = df_V.merge(user_buy_total_Cnt, how='left', on='fullVisitorId') \n",
    "# # df_VF = df_VF.rename(columns={'totals_totalTransactionRevenue' : 'buy_Cnt'})\n",
    "# df_VF = df_VF.rename(columns={'visitId' : 'buy_Cnt'})\n",
    "\n",
    "# # df 고객 총매출 구하기\n",
    "# df_VFM = df_VF.merge(user_buy_total_Revenue, how='left', on='fullVisitorId')\n",
    "# df_VFM = df_VFM.rename(columns={'totals_totalTransactionRevenue' : 'total_Revenue'})\n",
    "# df_VFM"
   ]
  },
  {
   "cell_type": "code",
   "execution_count": 12,
   "metadata": {},
   "outputs": [],
   "source": [
    "# 전체 고객 263466명 version\n",
    "# # RFM -> VFM\n",
    "# # 방문빈도 : 구매했던 안했던 visitId count\n",
    "# # 구매건수 : revunue 찍힌 visitId 만 count\n",
    "# # 총매출 : Total Revenue\n",
    "\n",
    "# # 방문 빈도 계산 : Visit Count\n",
    "# user_visit_Cnt = df.groupby('fullVisitorId')['visitId'].count().to_frame()\n",
    "\n",
    "# # 구매건수 계산 : Buy Count\n",
    "# user_buy_total_Cnt = df[df['hits_transaction_transactionRevenue'] > 0].groupby('fullVisitorId')[['totals_totalTransactionRevenue']].count().sort_values('totals_totalTransactionRevenue')\n",
    "\n",
    "# # 총매출 : \n",
    "# user_buy_total_Revenue = df[df['hits_transaction_transactionRevenue'] > 0].groupby('fullVisitorId')[['totals_totalTransactionRevenue']].agg('sum').sort_values('totals_totalTransactionRevenue')\n",
    "\n",
    "# # vvip 고객 총 구매 건수 구하기\n",
    "# vvip_VF = user_visit_Cnt.merge(user_buy_total_Cnt, how='left', on='fullVisitorId') \n",
    "# vvip_VF = vvip_VF.rename(columns={'visitId' : 'visit_Cnt'})\n",
    "# vvip_VF = vvip_VF.rename(columns={'totals_totalTransactionRevenue' : 'buy_Cnt'})\n",
    "\n",
    "# # vvip 고객 총매출 구하기\n",
    "# vvip_VFM = vvip_VF.merge(user_buy_total_Revenue, how='left', on='fullVisitorId')\n",
    "# vvip_VFM = vvip_VFM.rename(columns={'totals_totalTransactionRevenue' : 'total_Revenue'})\n",
    "\n",
    "# #매출이 없고 구매 빈도가 없는 고객을 0으로 치환\n",
    "# vvip_VFM['buy_Cnt'] = vvip_VFM['buy_Cnt'].fillna(0).astype(int)\n",
    "# vvip_VFM['total_Revenue'] = vvip_VFM['total_Revenue'].fillna(0).astype(int)\n",
    "\n",
    "# df_VFM = vvip_VFM"
   ]
  },
  {
   "cell_type": "code",
   "execution_count": 13,
   "metadata": {},
   "outputs": [
    {
     "data": {
      "text/html": [
       "<div>\n",
       "<style scoped>\n",
       "    .dataframe tbody tr th:only-of-type {\n",
       "        vertical-align: middle;\n",
       "    }\n",
       "\n",
       "    .dataframe tbody tr th {\n",
       "        vertical-align: top;\n",
       "    }\n",
       "\n",
       "    .dataframe thead th {\n",
       "        text-align: right;\n",
       "    }\n",
       "</style>\n",
       "<table border=\"1\" class=\"dataframe\">\n",
       "  <thead>\n",
       "    <tr style=\"text-align: right;\">\n",
       "      <th></th>\n",
       "      <th>PCA_x</th>\n",
       "      <th>PCA_y</th>\n",
       "    </tr>\n",
       "    <tr>\n",
       "      <th>fullVisitorId</th>\n",
       "      <th></th>\n",
       "      <th></th>\n",
       "    </tr>\n",
       "  </thead>\n",
       "  <tbody>\n",
       "    <tr>\n",
       "      <th>0000213131142648941</th>\n",
       "      <td>-179.143360</td>\n",
       "      <td>-2.387445</td>\n",
       "    </tr>\n",
       "    <tr>\n",
       "      <th>0000435324061339869</th>\n",
       "      <td>-171.941351</td>\n",
       "      <td>-0.396480</td>\n",
       "    </tr>\n",
       "    <tr>\n",
       "      <th>0000562678147042735</th>\n",
       "      <td>97.887505</td>\n",
       "      <td>-1.667829</td>\n",
       "    </tr>\n",
       "    <tr>\n",
       "      <th>0000585708896049892</th>\n",
       "      <td>-172.763363</td>\n",
       "      <td>-2.393882</td>\n",
       "    </tr>\n",
       "    <tr>\n",
       "      <th>0000852801263780322</th>\n",
       "      <td>-138.733381</td>\n",
       "      <td>-2.428215</td>\n",
       "    </tr>\n",
       "    <tr>\n",
       "      <th>...</th>\n",
       "      <td>...</td>\n",
       "      <td>...</td>\n",
       "    </tr>\n",
       "    <tr>\n",
       "      <th>9991633376050115277</th>\n",
       "      <td>-183.143358</td>\n",
       "      <td>-2.383409</td>\n",
       "    </tr>\n",
       "    <tr>\n",
       "      <th>9994767073213036303</th>\n",
       "      <td>-78.409386</td>\n",
       "      <td>1.507386</td>\n",
       "    </tr>\n",
       "    <tr>\n",
       "      <th>9997409246962677759</th>\n",
       "      <td>-178.373361</td>\n",
       "      <td>-2.388222</td>\n",
       "    </tr>\n",
       "    <tr>\n",
       "      <th>9998597322098588317</th>\n",
       "      <td>-116.533392</td>\n",
       "      <td>-2.450613</td>\n",
       "    </tr>\n",
       "    <tr>\n",
       "      <th>9998996003043230595</th>\n",
       "      <td>-151.753374</td>\n",
       "      <td>-2.415079</td>\n",
       "    </tr>\n",
       "  </tbody>\n",
       "</table>\n",
       "<p>9421 rows × 2 columns</p>\n",
       "</div>"
      ],
      "text/plain": [
       "                          PCA_x     PCA_y\n",
       "fullVisitorId                            \n",
       "0000213131142648941 -179.143360 -2.387445\n",
       "0000435324061339869 -171.941351 -0.396480\n",
       "0000562678147042735   97.887505 -1.667829\n",
       "0000585708896049892 -172.763363 -2.393882\n",
       "0000852801263780322 -138.733381 -2.428215\n",
       "...                         ...       ...\n",
       "9991633376050115277 -183.143358 -2.383409\n",
       "9994767073213036303  -78.409386  1.507386\n",
       "9997409246962677759 -178.373361 -2.388222\n",
       "9998597322098588317 -116.533392 -2.450613\n",
       "9998996003043230595 -151.753374 -2.415079\n",
       "\n",
       "[9421 rows x 2 columns]"
      ]
     },
     "execution_count": 13,
     "metadata": {},
     "output_type": "execute_result"
    }
   ],
   "source": [
    "# PCA\n",
    "from sklearn.decomposition import PCA\n",
    "\n",
    "pca = PCA(n_components=2)\n",
    "pca_transformed = pca.fit_transform(vvip_VFM)\n",
    "\n",
    "pca_transformed = pd.DataFrame(pca_transformed, columns=(['PCA_x', 'PCA_y']))\n",
    "\n",
    "pca_transformed.index = vvip_VFM.index\n",
    "\n",
    "pca_transformed"
   ]
  },
  {
   "cell_type": "code",
   "execution_count": 14,
   "metadata": {},
   "outputs": [
    {
     "data": {
      "image/png": "[encoded data removed]",
      "text/plain": [
       "<Figure size 640x480 with 1 Axes>"
      ]
     },
     "metadata": {},
     "output_type": "display_data"
    }
   ],
   "source": [
    "from sklearn.cluster import KMeans\n",
    "\n",
    "# 최적의 클러스터 확인 : 엘보우 플랏\n",
    "sse = []\n",
    "for k in range(1, 11):\n",
    "    km = KMeans(n_clusters=k, random_state=0)\n",
    "    km.fit(pca_transformed)\n",
    "    sse.append(km.inertia_)\n",
    "\n",
    "plt.plot(range(1, 11), sse, marker='o')\n",
    "plt.title('Elbow')\n",
    "plt.xlabel('Number of clusters')\n",
    "plt.ylabel('SSE')\n",
    "plt.grid(visible=True)\n",
    "plt.show()"
   ]
  },
  {
   "cell_type": "code",
   "execution_count": 15,
   "metadata": {},
   "outputs": [
    {
     "name": "stdout",
     "output_type": "stream",
     "text": [
      "클러스터 2개 : 실루엣 스코어 0.9986772887597417\n",
      "클러스터 3개 : 실루엣 스코어 0.9957106401335056\n",
      "클러스터 4개 : 실루엣 스코어 0.9772871727867156\n",
      "클러스터 5개 : 실루엣 스코어 0.9772105070580139\n",
      "클러스터 6개 : 실루엣 스코어 0.9468377296166154\n",
      "클러스터 7개 : 실루엣 스코어 0.8787912600629301\n"
     ]
    },
    {
     "data": {
      "image/png": "[encoded data removed]",
      "text/plain": [
       "<Figure size 640x480 with 1 Axes>"
      ]
     },
     "metadata": {},
     "output_type": "display_data"
    }
   ],
   "source": [
    "# 최적의 클러스터 확인 : 실루엣 계수\n",
    "from sklearn.metrics import silhouette_score\n",
    "\n",
    "silhouette_scores = []\n",
    "for k in range(2, 8):\n",
    "    kmeans = KMeans(n_clusters=k, random_state=0)\n",
    "    kmeans.fit(pca_transformed)\n",
    "    score = silhouette_score(pca_transformed, kmeans.labels_)\n",
    "    silhouette_scores.append(score)\n",
    "    print(f'클러스터 {k}개 : 실루엣 스코어 {score}')\n",
    "\n",
    "# 실루엣 분석 그래프 그리기\n",
    "plt.plot(range(2, 8), silhouette_scores, marker='o')\n",
    "plt.title('silhouette')\n",
    "plt.xlabel('Number of clusters')\n",
    "plt.ylabel('silhouette_score')\n",
    "plt.show()"
   ]
  },
  {
   "cell_type": "code",
   "execution_count": 16,
   "metadata": {},
   "outputs": [
    {
     "name": "stderr",
     "output_type": "stream",
     "text": [
      "/Users/dongjekim/Library/Python/3.10/lib/python/site-packages/IPython/core/events.py:82: UserWarning: Glyph 8722 (\\N{MINUS SIGN}) missing from current font.\n",
      "  func(*args, **kwargs)\n",
      "/Users/dongjekim/Library/Python/3.10/lib/python/site-packages/IPython/core/pylabtools.py:152: UserWarning: Glyph 8722 (\\N{MINUS SIGN}) missing from current font.\n",
      "  fig.canvas.print_figure(bytes_io, **kw)\n"
     ]
    },
    {
     "data": {
      "image/png": "[encoded data removed]",
      "text/plain": [
       "<Figure size 640x480 with 1 Axes>"
      ]
     },
     "metadata": {},
     "output_type": "display_data"
    }
   ],
   "source": [
    "# 클러스터링 함수\n",
    "from sklearn.cluster import KMeans\n",
    "import seaborn as sns\n",
    "\n",
    "def clustering_1(cluster, data):\n",
    "        # K means clustering 진행\n",
    "        km = KMeans(n_clusters=cluster, random_state=42)\n",
    "        km.fit(data)\n",
    "        # 클러스터 라벨 컬럼 생성\n",
    "        data['labels'] = km.labels_\n",
    "        \n",
    "        # scatter 시각화\n",
    "        sns.scatterplot(x=data.iloc[:, 0], y=data.iloc[:, 1], hue='labels', data=data)\n",
    "        \n",
    "clustering_1(4, pca_transformed)"
   ]
  },
  {
   "cell_type": "code",
   "execution_count": 17,
   "metadata": {},
   "outputs": [
    {
     "data": {
      "text/html": [
       "<div>\n",
       "<style scoped>\n",
       "    .dataframe tbody tr th:only-of-type {\n",
       "        vertical-align: middle;\n",
       "    }\n",
       "\n",
       "    .dataframe tbody tr th {\n",
       "        vertical-align: top;\n",
       "    }\n",
       "\n",
       "    .dataframe thead th {\n",
       "        text-align: right;\n",
       "    }\n",
       "</style>\n",
       "<table border=\"1\" class=\"dataframe\">\n",
       "  <thead>\n",
       "    <tr style=\"text-align: right;\">\n",
       "      <th></th>\n",
       "      <th>PCA_x</th>\n",
       "      <th>PCA_y</th>\n",
       "      <th>labels</th>\n",
       "    </tr>\n",
       "    <tr>\n",
       "      <th>fullVisitorId</th>\n",
       "      <th></th>\n",
       "      <th></th>\n",
       "      <th></th>\n",
       "    </tr>\n",
       "  </thead>\n",
       "  <tbody>\n",
       "    <tr>\n",
       "      <th>0000213131142648941</th>\n",
       "      <td>-179.143360</td>\n",
       "      <td>-2.387445</td>\n",
       "      <td>0</td>\n",
       "    </tr>\n",
       "    <tr>\n",
       "      <th>0000435324061339869</th>\n",
       "      <td>-171.941351</td>\n",
       "      <td>-0.396480</td>\n",
       "      <td>0</td>\n",
       "    </tr>\n",
       "    <tr>\n",
       "      <th>0000562678147042735</th>\n",
       "      <td>97.887505</td>\n",
       "      <td>-1.667829</td>\n",
       "      <td>0</td>\n",
       "    </tr>\n",
       "    <tr>\n",
       "      <th>0000585708896049892</th>\n",
       "      <td>-172.763363</td>\n",
       "      <td>-2.393882</td>\n",
       "      <td>0</td>\n",
       "    </tr>\n",
       "    <tr>\n",
       "      <th>0000852801263780322</th>\n",
       "      <td>-138.733381</td>\n",
       "      <td>-2.428215</td>\n",
       "      <td>0</td>\n",
       "    </tr>\n",
       "    <tr>\n",
       "      <th>0001123528056036404</th>\n",
       "      <td>-119.773390</td>\n",
       "      <td>-2.447344</td>\n",
       "      <td>0</td>\n",
       "    </tr>\n",
       "    <tr>\n",
       "      <th>0001905118576359487</th>\n",
       "      <td>-196.542345</td>\n",
       "      <td>-1.370776</td>\n",
       "      <td>0</td>\n",
       "    </tr>\n",
       "    <tr>\n",
       "      <th>0002527528149176601</th>\n",
       "      <td>-200.743349</td>\n",
       "      <td>-2.365653</td>\n",
       "      <td>0</td>\n",
       "    </tr>\n",
       "    <tr>\n",
       "      <th>0002709834583138581</th>\n",
       "      <td>-208.742339</td>\n",
       "      <td>-1.358467</td>\n",
       "      <td>0</td>\n",
       "    </tr>\n",
       "    <tr>\n",
       "      <th>0002838359588704338</th>\n",
       "      <td>-198.603350</td>\n",
       "      <td>-2.367812</td>\n",
       "      <td>0</td>\n",
       "    </tr>\n",
       "  </tbody>\n",
       "</table>\n",
       "</div>"
      ],
      "text/plain": [
       "                          PCA_x     PCA_y  labels\n",
       "fullVisitorId                                    \n",
       "0000213131142648941 -179.143360 -2.387445       0\n",
       "0000435324061339869 -171.941351 -0.396480       0\n",
       "0000562678147042735   97.887505 -1.667829       0\n",
       "0000585708896049892 -172.763363 -2.393882       0\n",
       "0000852801263780322 -138.733381 -2.428215       0\n",
       "0001123528056036404 -119.773390 -2.447344       0\n",
       "0001905118576359487 -196.542345 -1.370776       0\n",
       "0002527528149176601 -200.743349 -2.365653       0\n",
       "0002709834583138581 -208.742339 -1.358467       0\n",
       "0002838359588704338 -198.603350 -2.367812       0"
      ]
     },
     "execution_count": 17,
     "metadata": {},
     "output_type": "execute_result"
    }
   ],
   "source": [
    "pca_transformed.head(10)"
   ]
  },
  {
   "cell_type": "code",
   "execution_count": 18,
   "metadata": {},
   "outputs": [
    {
     "data": {
      "text/html": [
       "<div>\n",
       "<style scoped>\n",
       "    .dataframe tbody tr th:only-of-type {\n",
       "        vertical-align: middle;\n",
       "    }\n",
       "\n",
       "    .dataframe tbody tr th {\n",
       "        vertical-align: top;\n",
       "    }\n",
       "\n",
       "    .dataframe thead th {\n",
       "        text-align: right;\n",
       "    }\n",
       "</style>\n",
       "<table border=\"1\" class=\"dataframe\">\n",
       "  <thead>\n",
       "    <tr style=\"text-align: right;\">\n",
       "      <th></th>\n",
       "      <th>visit_Cnt</th>\n",
       "      <th>buy_Cnt</th>\n",
       "      <th>total_Revenue</th>\n",
       "      <th>labels</th>\n",
       "    </tr>\n",
       "    <tr>\n",
       "      <th>fullVisitorId</th>\n",
       "      <th></th>\n",
       "      <th></th>\n",
       "      <th></th>\n",
       "      <th></th>\n",
       "    </tr>\n",
       "  </thead>\n",
       "  <tbody>\n",
       "    <tr>\n",
       "      <th>0000213131142648941</th>\n",
       "      <td>1</td>\n",
       "      <td>1</td>\n",
       "      <td>39.59</td>\n",
       "      <td>0</td>\n",
       "    </tr>\n",
       "    <tr>\n",
       "      <th>0000435324061339869</th>\n",
       "      <td>3</td>\n",
       "      <td>1</td>\n",
       "      <td>46.79</td>\n",
       "      <td>0</td>\n",
       "    </tr>\n",
       "    <tr>\n",
       "      <th>0000562678147042735</th>\n",
       "      <td>2</td>\n",
       "      <td>1</td>\n",
       "      <td>316.62</td>\n",
       "      <td>0</td>\n",
       "    </tr>\n",
       "    <tr>\n",
       "      <th>0000585708896049892</th>\n",
       "      <td>1</td>\n",
       "      <td>1</td>\n",
       "      <td>45.97</td>\n",
       "      <td>0</td>\n",
       "    </tr>\n",
       "    <tr>\n",
       "      <th>0000852801263780322</th>\n",
       "      <td>1</td>\n",
       "      <td>1</td>\n",
       "      <td>80.00</td>\n",
       "      <td>0</td>\n",
       "    </tr>\n",
       "    <tr>\n",
       "      <th>...</th>\n",
       "      <td>...</td>\n",
       "      <td>...</td>\n",
       "      <td>...</td>\n",
       "      <td>...</td>\n",
       "    </tr>\n",
       "    <tr>\n",
       "      <th>9991633376050115277</th>\n",
       "      <td>1</td>\n",
       "      <td>1</td>\n",
       "      <td>35.59</td>\n",
       "      <td>0</td>\n",
       "    </tr>\n",
       "    <tr>\n",
       "      <th>9994767073213036303</th>\n",
       "      <td>5</td>\n",
       "      <td>1</td>\n",
       "      <td>140.32</td>\n",
       "      <td>0</td>\n",
       "    </tr>\n",
       "    <tr>\n",
       "      <th>9997409246962677759</th>\n",
       "      <td>1</td>\n",
       "      <td>1</td>\n",
       "      <td>40.36</td>\n",
       "      <td>0</td>\n",
       "    </tr>\n",
       "    <tr>\n",
       "      <th>9998597322098588317</th>\n",
       "      <td>1</td>\n",
       "      <td>1</td>\n",
       "      <td>102.20</td>\n",
       "      <td>0</td>\n",
       "    </tr>\n",
       "    <tr>\n",
       "      <th>9998996003043230595</th>\n",
       "      <td>1</td>\n",
       "      <td>1</td>\n",
       "      <td>66.98</td>\n",
       "      <td>0</td>\n",
       "    </tr>\n",
       "  </tbody>\n",
       "</table>\n",
       "<p>9421 rows × 4 columns</p>\n",
       "</div>"
      ],
      "text/plain": [
       "                     visit_Cnt  buy_Cnt  total_Revenue  labels\n",
       "fullVisitorId                                                 \n",
       "0000213131142648941          1        1          39.59       0\n",
       "0000435324061339869          3        1          46.79       0\n",
       "0000562678147042735          2        1         316.62       0\n",
       "0000585708896049892          1        1          45.97       0\n",
       "0000852801263780322          1        1          80.00       0\n",
       "...                        ...      ...            ...     ...\n",
       "9991633376050115277          1        1          35.59       0\n",
       "9994767073213036303          5        1         140.32       0\n",
       "9997409246962677759          1        1          40.36       0\n",
       "9998597322098588317          1        1         102.20       0\n",
       "9998996003043230595          1        1          66.98       0\n",
       "\n",
       "[9421 rows x 4 columns]"
      ]
     },
     "execution_count": 18,
     "metadata": {},
     "output_type": "execute_result"
    }
   ],
   "source": [
    "vvip_VFM['labels'] = pca_transformed['labels']\n",
    "vvip_VFM"
   ]
  },
  {
   "cell_type": "code",
   "execution_count": 19,
   "metadata": {},
   "outputs": [
    {
     "data": {
      "text/html": [
       "<div>\n",
       "<style scoped>\n",
       "    .dataframe tbody tr th:only-of-type {\n",
       "        vertical-align: middle;\n",
       "    }\n",
       "\n",
       "    .dataframe tbody tr th {\n",
       "        vertical-align: top;\n",
       "    }\n",
       "\n",
       "    .dataframe thead tr th {\n",
       "        text-align: left;\n",
       "    }\n",
       "\n",
       "    .dataframe thead tr:last-of-type th {\n",
       "        text-align: right;\n",
       "    }\n",
       "</style>\n",
       "<table border=\"1\" class=\"dataframe\">\n",
       "  <thead>\n",
       "    <tr>\n",
       "      <th></th>\n",
       "      <th>visit_Cnt</th>\n",
       "      <th>buy_Cnt</th>\n",
       "      <th colspan=\"2\" halign=\"left\">total_Revenue</th>\n",
       "    </tr>\n",
       "    <tr>\n",
       "      <th></th>\n",
       "      <th>mean</th>\n",
       "      <th>mean</th>\n",
       "      <th>mean</th>\n",
       "      <th>count</th>\n",
       "    </tr>\n",
       "    <tr>\n",
       "      <th>labels</th>\n",
       "      <th></th>\n",
       "      <th></th>\n",
       "      <th></th>\n",
       "      <th></th>\n",
       "    </tr>\n",
       "  </thead>\n",
       "  <tbody>\n",
       "    <tr>\n",
       "      <th>0</th>\n",
       "      <td>4.0</td>\n",
       "      <td>1.0</td>\n",
       "      <td>150.0</td>\n",
       "      <td>9392</td>\n",
       "    </tr>\n",
       "    <tr>\n",
       "      <th>1</th>\n",
       "      <td>275.0</td>\n",
       "      <td>16.0</td>\n",
       "      <td>241619.0</td>\n",
       "      <td>1</td>\n",
       "    </tr>\n",
       "    <tr>\n",
       "      <th>2</th>\n",
       "      <td>7.0</td>\n",
       "      <td>3.0</td>\n",
       "      <td>65893.0</td>\n",
       "      <td>2</td>\n",
       "    </tr>\n",
       "    <tr>\n",
       "      <th>3</th>\n",
       "      <td>13.0</td>\n",
       "      <td>5.0</td>\n",
       "      <td>10543.0</td>\n",
       "      <td>26</td>\n",
       "    </tr>\n",
       "  </tbody>\n",
       "</table>\n",
       "</div>"
      ],
      "text/plain": [
       "       visit_Cnt buy_Cnt total_Revenue      \n",
       "            mean    mean          mean count\n",
       "labels                                      \n",
       "0            4.0     1.0         150.0  9392\n",
       "1          275.0    16.0      241619.0     1\n",
       "2            7.0     3.0       65893.0     2\n",
       "3           13.0     5.0       10543.0    26"
      ]
     },
     "execution_count": 19,
     "metadata": {},
     "output_type": "execute_result"
    }
   ],
   "source": [
    "vvip_VFM.groupby(['labels']).agg({\n",
    "        'visit_Cnt': 'mean',\n",
    "        'buy_Cnt': 'mean',\n",
    "        'total_Revenue': ['mean', 'count']\n",
    "}).round(0)"
   ]
  },
  {
   "cell_type": "code",
   "execution_count": 20,
   "metadata": {},
   "outputs": [],
   "source": [
    "final = vvip_VFM[['labels']].reset_index()\n",
    "final.to_csv('clustering.csv', index=False)"
   ]
  },
  {
   "cell_type": "code",
   "execution_count": 21,
   "metadata": {},
   "outputs": [],
   "source": [
    "# def sequence(x):\n",
    "#     if x == 1 or x == 2:\n",
    "#         return -1\n",
    "#     elif x == 3:\n",
    "#         return 1\n",
    "#     else:\n",
    "#         return 0\n",
    "\n",
    "# vvip_VFM['labels'] = vvip_VFM['labels'].apply(sequence)\n",
    "# # (df_labels[df_labels['labels'] == 1]) = -1\n",
    "# # (df_labels[df_labels['labels'] == 2]) = -1\n",
    "# # (df_labels[df_labels['labels'] == 3]) = 1"
   ]
  },
  {
   "cell_type": "code",
   "execution_count": 22,
   "metadata": {},
   "outputs": [],
   "source": [
    "# vvip_VFM.groupby(['labels']).agg({\n",
    "#         'visit_Cnt': 'mean',\n",
    "#         'buy_Cnt': 'mean',\n",
    "#         'total_Revenue': ['mean', 'count']\n",
    "# }).round(0)"
   ]
  },
  {
   "cell_type": "code",
   "execution_count": 23,
   "metadata": {},
   "outputs": [
    {
     "data": {
      "text/plain": [
       "<Axes: xlabel='Metric', ylabel='Value'>"
      ]
     },
     "execution_count": 23,
     "metadata": {},
     "output_type": "execute_result"
    },
    {
     "data": {
      "image/png": "[encoded data removed]",
      "text/plain": [
       "<Figure size 640x480 with 1 Axes>"
      ]
     },
     "metadata": {},
     "output_type": "display_data"
    }
   ],
   "source": [
    "# 스네이크 플롯 시각화 할때만 정규화하기 (잘보이기 위해서)\n",
    "from sklearn.preprocessing import MinMaxScaler\n",
    "# MinMaxScaler 객체를 생성합니다.\n",
    "minmax_scaler = MinMaxScaler()\n",
    "\n",
    "# fit_transform()을 사용해서 학습과 스케일링을 한 번에 적용합니다.\n",
    "\n",
    "minmax = minmax_scaler.fit_transform(vvip_VFM)\n",
    "minmax = pd.DataFrame(minmax, index=vvip_VFM.index, columns=vvip_VFM.columns)\n",
    "minmax['labels'] = vvip_VFM['labels']\n",
    "\n",
    "# Melt data into long format\n",
    "df_melt = pd.melt(minmax.reset_index(), \n",
    "                        id_vars=['fullVisitorId', 'labels'],\n",
    "                        value_vars=['visit_Cnt', 'buy_Cnt', 'total_Revenue'], \n",
    "                        var_name='Metric', \n",
    "                        value_name='Value')\n",
    "plt.xlabel('Metric')\n",
    "plt.ylabel('Value')\n",
    "sns.pointplot(data=df_melt, x='Metric', y='Value', hue='labels')"
   ]
  },
  {
   "cell_type": "code",
   "execution_count": 40,
   "metadata": {},
   "outputs": [
    {
     "data": {
      "text/plain": [
       "Text(0.5, 1.0, '0번 구매 건수')"
      ]
     },
     "execution_count": 40,
     "metadata": {},
     "output_type": "execute_result"
    },
    {
     "data": {
      "image/png": "[encoded data removed]",
      "text/plain": [
       "<Figure size 640x480 with 1 Axes>"
      ]
     },
     "metadata": {},
     "output_type": "display_data"
    }
   ],
   "source": [
    "zero = vvip_VFM[vvip_VFM['labels'] == 0]\n",
    "plt.hist(zero['buy_Cnt'])\n",
    "plt.title(f\"0번 구매 건수\")"
   ]
  },
  {
   "cell_type": "code",
   "execution_count": 32,
   "metadata": {},
   "outputs": [
    {
     "data": {
      "text/plain": [
       "buy_Cnt\n",
       "1     8499\n",
       "2      673\n",
       "3      140\n",
       "4       40\n",
       "5       14\n",
       "6       12\n",
       "7        6\n",
       "8        3\n",
       "13       1\n",
       "14       1\n",
       "33       1\n",
       "10       1\n",
       "9        1\n",
       "Name: count, dtype: int64"
      ]
     },
     "execution_count": 32,
     "metadata": {},
     "output_type": "execute_result"
    }
   ],
   "source": [
    "zero['buy_Cnt'].value_counts()"
   ]
  },
  {
   "cell_type": "code",
   "execution_count": 51,
   "metadata": {},
   "outputs": [
    {
     "data": {
      "text/plain": [
       "1.1405451448040886"
      ]
     },
     "execution_count": 51,
     "metadata": {},
     "output_type": "execute_result"
    }
   ],
   "source": [
    "zero['buy_Cnt'].mean()"
   ]
  },
  {
   "cell_type": "code",
   "execution_count": 49,
   "metadata": {},
   "outputs": [
    {
     "data": {
      "text/plain": [
       "0.9049190800681431"
      ]
     },
     "execution_count": 49,
     "metadata": {},
     "output_type": "execute_result"
    }
   ],
   "source": [
    "num1 = int(zero[zero['buy_Cnt'] == 1].shape[0])\n",
    "num2 = int(zero['buy_Cnt'].shape[0])\n",
    "num1 / num2"
   ]
  },
  {
   "cell_type": "code",
   "execution_count": 50,
   "metadata": {},
   "outputs": [
    {
     "data": {
      "text/plain": [
       "3.5070272572402046"
      ]
     },
     "execution_count": 50,
     "metadata": {},
     "output_type": "execute_result"
    }
   ],
   "source": [
    "zero['visit_Cnt'].mean()"
   ]
  },
  {
   "cell_type": "code",
   "execution_count": null,
   "metadata": {},
   "outputs": [],
   "source": [
    "#df.style.bar()"
   ]
  }
 ],
 "metadata": {
  "kernelspec": {
   "display_name": "base",
   "language": "python",
   "name": "python3"
  },
  "language_info": {
   "codemirror_mode": {
    "name": "ipython",
    "version": 3
   },
   "file_extension": ".py",
   "mimetype": "text/x-python",
   "name": "python",
   "nbconvert_exporter": "python",
   "pygments_lexer": "ipython3",
   "version": "3.10.11"
  }
 },
 "nbformat": 4,
 "nbformat_minor": 2
}
