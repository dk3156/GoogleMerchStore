{
 "cells": [
  {
   "cell_type": "code",
   "execution_count": 1,
   "metadata": {},
   "outputs": [
    {
     "name": "stderr",
     "output_type": "stream",
     "text": [
      "/var/folders/mk/p5y6cznx60788rys6_dnljxm0000gn/T/ipykernel_18076/2498054660.py:17: DtypeWarning: Columns (1,29) have mixed types. Specify dtype option on import or set low_memory=False.\n",
      "  df = pd.read_csv('ga4_data.csv')\n"
     ]
    }
   ],
   "source": [
    "import os\n",
    "import json\n",
    "from glob import glob\n",
    "from tqdm import tqdm\n",
    "import pandas as pd\n",
    "import numpy as np\n",
    "import matplotlib.pyplot as plt\n",
    "import random\n",
    "from datetime import datetime, timedelta\n",
    "\n",
    "from google.cloud import bigquery\n",
    "from google.oauth2 import service_account\n",
    "\n",
    "pd.set_option('display.max_seq_items', None)\n",
    "pd.set_option('display.max_columns', None)\n",
    "\n",
    "df = pd.read_csv('ga4_data.csv')"
   ]
  },
  {
   "cell_type": "markdown",
   "metadata": {},
   "source": [
    "제가 집중한 가설: 이 서비스를 지속가능하게 만들기 위해선 매출이 적지만 꾸준하게 오는 고객을 집중해야 한다."
   ]
  },
  {
   "cell_type": "code",
   "execution_count": 2,
   "metadata": {},
   "outputs": [],
   "source": [
    "# 전처리 \n",
    "df['visitStartTime'] = pd.to_datetime(df['visitStartTime'])\n",
    "df['totals_totalTransactionRevenue'] = df['totals_totalTransactionRevenue'].fillna(0)\n",
    "df['hits_transaction_transactionRevenue'] = df['hits_transaction_transactionRevenue'].fillna(0)\n",
    "df['fullVisitorId'] = df['fullVisitorId'].astype(str)\n",
    "\n",
    "def pad_with_zeros(string):\n",
    "    \"\"\"\n",
    "    문자열의 길이가 19이 될 때까지 앞에 0을 추가하는 함수\n",
    "    \"\"\"\n",
    "    # 문자열의 길이를 세기\n",
    "    length = len(string)\n",
    "    \n",
    "    # 문자열의 길이가 20이 될 때까지 앞에 0을 추가\n",
    "    while length < 19:\n",
    "        string = '0' + string\n",
    "        length += 1\n",
    "    \n",
    "    return string\n",
    "\n",
    "df['fullVisitorId'] = df['fullVisitorId'].apply(pad_with_zeros)\n",
    "\n",
    "df.visitStartTime = (df.visitStartTime - timedelta(hours=8))\n",
    "# df = df.assign(month = df.visitStartTime.dt.strftime('%Y-%m'))\n",
    "# df = df.assign(date = df.visitStartTime.dt.strftime('%m-%d'))\n",
    "# df = df.assign(day_name = df.visitStartTime.dt.weekday)"
   ]
  },
  {
   "cell_type": "code",
   "execution_count": 3,
   "metadata": {},
   "outputs": [
    {
     "name": "stdout",
     "output_type": "stream",
     "text": [
      "전체 세션중 정확하지 않은 세션 3.0 % 그리고 정확한 세션 97.0 % \n"
     ]
    },
    {
     "data": {
      "text/plain": [
       "([<matplotlib.patches.Wedge at 0x2b03f9210>,\n",
       "  <matplotlib.patches.Wedge at 0x2b03f9150>],\n",
       " [Text(-1.095030317526183, 0.10444426120427588, '컬럼 일치'),\n",
       "  Text(1.095030308358575, -0.1044443573206543, '컬럼 불일치')])"
      ]
     },
     "execution_count": 3,
     "metadata": {},
     "output_type": "execute_result"
    },
    {
     "data": {
      "image/png": "[encoded data removed]",
      "text/plain": [
       "<Figure size 640x480 with 1 Axes>"
      ]
     },
     "metadata": {},
     "output_type": "display_data"
    }
   ],
   "source": [
    "import matplotlib.pyplot as plt\n",
    "#matplotlib 패키지 한글 깨짐 처리 시작\n",
    "plt.rc('font', family='AppleGothic') #맥\n",
    "\n",
    "# 매출 데이터 컬럼 totals 와 hits 정합성 검사 \n",
    "rev = df.groupby('visitId')[['totals_totalTransactionRevenue', 'hits_transaction_transactionRevenue']].sum().reset_index()\n",
    "total_session_num = rev['visitId'].nunique()\n",
    "# total and hits 가 똑같지 않은 세션의 수 \n",
    "wrong_sessison_num = rev[rev['totals_totalTransactionRevenue'] != rev['hits_transaction_transactionRevenue']]['visitId'].nunique()\n",
    "# total and hits 가 똑같은 세션의 수\n",
    "right_session_num = rev[rev['totals_totalTransactionRevenue'] == rev['hits_transaction_transactionRevenue']]['visitId'].nunique()\n",
    "print(f'전체 세션중 정확하지 않은 세션 {round(wrong_sessison_num / total_session_num * 100,1)} % 그리고 정확한 세션 {round(right_session_num / total_session_num * 100, 1)} % ')\n",
    "\n",
    "label = ['컬럼 일치', '컬럼 불일치']\n",
    "size = [right_session_num, wrong_sessison_num]\n",
    "plt.pie(size, labels = label)"
   ]
  },
  {
   "cell_type": "code",
   "execution_count": 15,
   "metadata": {},
   "outputs": [],
   "source": [
    "wrong_session = round(wrong_sessison_num / total_session_num * 100,1)\n",
    "right_session = round(right_session_num / total_session_num * 100, 1)\n",
    "dic = {'label': ['match', 'non-match'], 'value':[wrong_session, right_session]}\n",
    "pd.DataFrame(dic).to_csv('match_column.csv', index=False)"
   ]
  },
  {
   "cell_type": "code",
   "execution_count": 10,
   "metadata": {},
   "outputs": [
    {
     "name": "stdout",
     "output_type": "stream",
     "text": [
      "전체 고객 250143 명\n",
      "구매 고객 9421 명\n",
      "비구매 고객 247065 명\n",
      "3.7662457074553353 비율\n"
     ]
    },
    {
     "data": {
      "image/png": "[encoded data removed]",
      "text/plain": [
       "<Figure size 640x480 with 1 Axes>"
      ]
     },
     "metadata": {},
     "output_type": "display_data"
    }
   ],
   "source": [
    "# 고객 현황 파악\n",
    "# 전체 고객\n",
    "print(f\"전체 고객 {df['fullVisitorId'].nunique()} 명\")\n",
    "# 구매 고객\n",
    "print(f\"구매 고객 {df[df['totals_totalTransactionRevenue'] != 0]['fullVisitorId'].nunique()} 명\")\n",
    "# 비구매 고객\n",
    "print(f\"비구매 고객 {df[df['totals_totalTransactionRevenue'] == 0]['fullVisitorId'].nunique()} 명\")\n",
    "\n",
    "total = df['fullVisitorId'].nunique()\n",
    "purchased = df[df['totals_totalTransactionRevenue'] != 0]['fullVisitorId'].nunique()\n",
    "non_purchased = df[df['totals_totalTransactionRevenue'] == 0]['fullVisitorId'].nunique()\n",
    "label = ['비구매고객', '구매 고객']\n",
    "size = [non_purchased, purchased]\n",
    "plt.pie(size, labels = label)\n",
    "\n",
    "dic = {'label': ['total', 'purchased', 'non_purhcased'], 'num_of_customers' : [total, purchased, non_purchased]}\n",
    "purchased = pd.DataFrame(dic)\n",
    "print(f'{(9421 / 250143) * 100} 비율')\n"
   ]
  },
  {
   "cell_type": "code",
   "execution_count": 11,
   "metadata": {},
   "outputs": [
    {
     "data": {
      "text/html": [
       "<div>\n",
       "<style scoped>\n",
       "    .dataframe tbody tr th:only-of-type {\n",
       "        vertical-align: middle;\n",
       "    }\n",
       "\n",
       "    .dataframe tbody tr th {\n",
       "        vertical-align: top;\n",
       "    }\n",
       "\n",
       "    .dataframe thead th {\n",
       "        text-align: right;\n",
       "    }\n",
       "</style>\n",
       "<table border=\"1\" class=\"dataframe\">\n",
       "  <thead>\n",
       "    <tr style=\"text-align: right;\">\n",
       "      <th></th>\n",
       "      <th>label</th>\n",
       "      <th>num_of_customers</th>\n",
       "    </tr>\n",
       "  </thead>\n",
       "  <tbody>\n",
       "    <tr>\n",
       "      <th>0</th>\n",
       "      <td>total</td>\n",
       "      <td>250143</td>\n",
       "    </tr>\n",
       "    <tr>\n",
       "      <th>1</th>\n",
       "      <td>purchased</td>\n",
       "      <td>9421</td>\n",
       "    </tr>\n",
       "    <tr>\n",
       "      <th>2</th>\n",
       "      <td>non_purhcased</td>\n",
       "      <td>247065</td>\n",
       "    </tr>\n",
       "  </tbody>\n",
       "</table>\n",
       "</div>"
      ],
      "text/plain": [
       "           label  num_of_customers\n",
       "0          total            250143\n",
       "1      purchased              9421\n",
       "2  non_purhcased            247065"
      ]
     },
     "execution_count": 11,
     "metadata": {},
     "output_type": "execute_result"
    }
   ],
   "source": [
    "purchased"
   ]
  },
  {
   "cell_type": "code",
   "execution_count": 12,
   "metadata": {},
   "outputs": [],
   "source": [
    "purchased.to_csv('purhcased_num.csv', index=False)"
   ]
  },
  {
   "cell_type": "code",
   "execution_count": 17,
   "metadata": {},
   "outputs": [
    {
     "name": "stdout",
     "output_type": "stream",
     "text": [
      "8336 명이 한번만 구매, 1085 명이 두번 이상 구매, 10 명이 열두 번 이상 구매\n",
      "10.986094894384884 비율\n"
     ]
    },
    {
     "data": {
      "image/png": "[encoded data removed]",
      "text/plain": [
       "<Figure size 640x480 with 1 Axes>"
      ]
     },
     "metadata": {},
     "output_type": "display_data"
    }
   ],
   "source": [
    "# 재구매를 \"횟수로\" -- totals\n",
    "purchase_count = df[df['hits_transaction_transactionRevenue'] != 0]\n",
    "purchase_count = purchase_count.groupby(['fullVisitorId']).count().reset_index()\n",
    "more_than_once = purchase_count[purchase_count['hits_transaction_transactionRevenue'] >= 2]['fullVisitorId'].nunique()\n",
    "once = purchase_count[purchase_count['hits_transaction_transactionRevenue'] <= 1]['fullVisitorId'].nunique()\n",
    "more_than_twelve = purchase_count[purchase_count['hits_transaction_transactionRevenue'] >= 12]['fullVisitorId'].nunique()\n",
    "print(f'{once} 명이 한번만 구매, {more_than_once} 명이 두번 이상 구매, {more_than_twelve} 명이 열두 번 이상 구매')\n",
    "\n",
    "label = ['한번만 구매를 한 고객', '재구매 고객']\n",
    "size = [once, more_than_once]\n",
    "plt.pie(size, labels = label)\n",
    "\n",
    "print(f'{(1035 / 9421) * 100} 비율')"
   ]
  },
  {
   "cell_type": "code",
   "execution_count": 19,
   "metadata": {},
   "outputs": [],
   "source": [
    "dic = {'label': ['once', 'more_than_once'], 'value': [once, more_than_once]}\n",
    "pd.DataFrame(dic).to_csv('repurchase_ratio.csv', index=False)"
   ]
  },
  {
   "cell_type": "code",
   "execution_count": 20,
   "metadata": {},
   "outputs": [
    {
     "data": {
      "image/png": "[encoded data removed]",
      "text/plain": [
       "<Figure size 640x480 with 1 Axes>"
      ]
     },
     "metadata": {},
     "output_type": "display_data"
    }
   ],
   "source": [
    "# 파레토\n",
    "# id 기준으로 total revenue 의 합계를 구하고\n",
    "# 전체 revenue 를 나눠서 매출 %를 보고 %의 파레토 차트를 그린다\n",
    "\n",
    "import matplotlib.pyplot as plt\n",
    "from matplotlib.ticker import PercentFormatter\n",
    "\n",
    "non_zero = df[df['totals_totalTransactionRevenue'] != 0]\n",
    "indv = non_zero.groupby('fullVisitorId')['totals_totalTransactionRevenue'].sum().reset_index()\n",
    "indv = indv.sort_values('totals_totalTransactionRevenue', ascending=False)\n",
    "indv['revenue_pct'] = indv['totals_totalTransactionRevenue'].cumsum() / indv['totals_totalTransactionRevenue'].sum() * 100\n",
    "indv['id_count'] = indv.groupby('fullVisitorId').cumcount() + 1\n",
    "indv['id_pct'] = indv['id_count'].cumsum() / indv['id_count'].sum() * 100\n",
    "\n",
    "# indv.to_csv('pareto.csv', index=False)\n",
    "\n",
    "fig, ax = plt.subplots()\n",
    "ax.plot(indv['id_pct'], indv[\"revenue_pct\"], color=\"C1\", ms=7)\n",
    "\n",
    "ax.xaxis.set_major_formatter(PercentFormatter())\n",
    "ax.yaxis.set_major_formatter(PercentFormatter())\n",
    "ax.tick_params(axis=\"y\", colors=\"C1\")\n",
    "plt.xticks(np.arange(0, 101, 10.0))\n",
    "plt.show()"
   ]
  },
  {
   "cell_type": "code",
   "execution_count": 24,
   "metadata": {},
   "outputs": [],
   "source": [
    "indv.to_csv('pareto.csv', index=False)"
   ]
  },
  {
   "cell_type": "markdown",
   "metadata": {},
   "source": [
    "vvip 기준 - 매출 상위 20 퍼"
   ]
  },
  {
   "cell_type": "code",
   "execution_count": 91,
   "metadata": {},
   "outputs": [
    {
     "name": "stdout",
     "output_type": "stream",
     "text": [
      "vvip 평균 리텐션 1.392 번\n"
     ]
    },
    {
     "data": {
      "application/vnd.plotly.v1+json": {
       "config": {
        "plotlyServerURL": "https://plot.ly"
       },
       "data": [
        {
         "alignmentgroup": "True",
         "hovertemplate": "retention=%{x}<br>counts=%{y}<extra></extra>",
         "legendgroup": "",
         "marker": {
          "color": "#636efa",
          "pattern": {
           "shape": ""
          }
         },
         "name": "",
         "offsetgroup": "",
         "orientation": "v",
         "showlegend": false,
         "textposition": "auto",
         "type": "bar",
         "x": [
          1,
          2,
          3,
          4,
          5,
          6,
          7,
          8,
          9,
          10,
          11,
          13,
          14,
          16,
          28
         ],
         "xaxis": "x",
         "y": [
          2033,
          405,
          106,
          35,
          16,
          10,
          6,
          4,
          1,
          2,
          1,
          1,
          3,
          1,
          1
         ],
         "yaxis": "y"
        }
       ],
       "layout": {
        "barmode": "relative",
        "legend": {
         "tracegroupgap": 0
        },
        "margin": {
         "t": 60
        },
        "template": {
         "data": {
          "bar": [
           {
            "error_x": {
             "color": "#2a3f5f"
            },
            "error_y": {
             "color": "#2a3f5f"
            },
            "marker": {
             "line": {
              "color": "#E5ECF6",
              "width": 0.5
             },
             "pattern": {
              "fillmode": "overlay",
              "size": 10,
              "solidity": 0.2
             }
            },
            "type": "bar"
           }
          ],
          "barpolar": [
           {
            "marker": {
             "line": {
              "color": "#E5ECF6",
              "width": 0.5
             },
             "pattern": {
              "fillmode": "overlay",
              "size": 10,
              "solidity": 0.2
             }
            },
            "type": "barpolar"
           }
          ],
          "carpet": [
           {
            "aaxis": {
             "endlinecolor": "#2a3f5f",
             "gridcolor": "white",
             "linecolor": "white",
             "minorgridcolor": "white",
             "startlinecolor": "#2a3f5f"
            },
            "baxis": {
             "endlinecolor": "#2a3f5f",
             "gridcolor": "white",
             "linecolor": "white",
             "minorgridcolor": "white",
             "startlinecolor": "#2a3f5f"
            },
            "type": "carpet"
           }
          ],
          "choropleth": [
           {
            "colorbar": {
             "outlinewidth": 0,
             "ticks": ""
            },
            "type": "choropleth"
           }
          ],
          "contour": [
           {
            "colorbar": {
             "outlinewidth": 0,
             "ticks": ""
            },
            "colorscale": [
             [
              0,
              "#0d0887"
             ],
             [
              0.1111111111111111,
              "#46039f"
             ],
             [
              0.2222222222222222,
              "#7201a8"
             ],
             [
              0.3333333333333333,
              "#9c179e"
             ],
             [
              0.4444444444444444,
              "#bd3786"
             ],
             [
              0.5555555555555556,
              "#d8576b"
             ],
             [
              0.6666666666666666,
              "#ed7953"
             ],
             [
              0.7777777777777778,
              "#fb9f3a"
             ],
             [
              0.8888888888888888,
              "#fdca26"
             ],
             [
              1,
              "#f0f921"
             ]
            ],
            "type": "contour"
           }
          ],
          "contourcarpet": [
           {
            "colorbar": {
             "outlinewidth": 0,
             "ticks": ""
            },
            "type": "contourcarpet"
           }
          ],
          "heatmap": [
           {
            "colorbar": {
             "outlinewidth": 0,
             "ticks": ""
            },
            "colorscale": [
             [
              0,
              "#0d0887"
             ],
             [
              0.1111111111111111,
              "#46039f"
             ],
             [
              0.2222222222222222,
              "#7201a8"
             ],
             [
              0.3333333333333333,
              "#9c179e"
             ],
             [
              0.4444444444444444,
              "#bd3786"
             ],
             [
              0.5555555555555556,
              "#d8576b"
             ],
             [
              0.6666666666666666,
              "#ed7953"
             ],
             [
              0.7777777777777778,
              "#fb9f3a"
             ],
             [
              0.8888888888888888,
              "#fdca26"
             ],
             [
              1,
              "#f0f921"
             ]
            ],
            "type": "heatmap"
           }
          ],
          "heatmapgl": [
           {
            "colorbar": {
             "outlinewidth": 0,
             "ticks": ""
            },
            "colorscale": [
             [
              0,
              "#0d0887"
             ],
             [
              0.1111111111111111,
              "#46039f"
             ],
             [
              0.2222222222222222,
              "#7201a8"
             ],
             [
              0.3333333333333333,
              "#9c179e"
             ],
             [
              0.4444444444444444,
              "#bd3786"
             ],
             [
              0.5555555555555556,
              "#d8576b"
             ],
             [
              0.6666666666666666,
              "#ed7953"
             ],
             [
              0.7777777777777778,
              "#fb9f3a"
             ],
             [
              0.8888888888888888,
              "#fdca26"
             ],
             [
              1,
              "#f0f921"
             ]
            ],
            "type": "heatmapgl"
           }
          ],
          "histogram": [
           {
            "marker": {
             "pattern": {
              "fillmode": "overlay",
              "size": 10,
              "solidity": 0.2
             }
            },
            "type": "histogram"
           }
          ],
          "histogram2d": [
           {
            "colorbar": {
             "outlinewidth": 0,
             "ticks": ""
            },
            "colorscale": [
             [
              0,
              "#0d0887"
             ],
             [
              0.1111111111111111,
              "#46039f"
             ],
             [
              0.2222222222222222,
              "#7201a8"
             ],
             [
              0.3333333333333333,
              "#9c179e"
             ],
             [
              0.4444444444444444,
              "#bd3786"
             ],
             [
              0.5555555555555556,
              "#d8576b"
             ],
             [
              0.6666666666666666,
              "#ed7953"
             ],
             [
              0.7777777777777778,
              "#fb9f3a"
             ],
             [
              0.8888888888888888,
              "#fdca26"
             ],
             [
              1,
              "#f0f921"
             ]
            ],
            "type": "histogram2d"
           }
          ],
          "histogram2dcontour": [
           {
            "colorbar": {
             "outlinewidth": 0,
             "ticks": ""
            },
            "colorscale": [
             [
              0,
              "#0d0887"
             ],
             [
              0.1111111111111111,
              "#46039f"
             ],
             [
              0.2222222222222222,
              "#7201a8"
             ],
             [
              0.3333333333333333,
              "#9c179e"
             ],
             [
              0.4444444444444444,
              "#bd3786"
             ],
             [
              0.5555555555555556,
              "#d8576b"
             ],
             [
              0.6666666666666666,
              "#ed7953"
             ],
             [
              0.7777777777777778,
              "#fb9f3a"
             ],
             [
              0.8888888888888888,
              "#fdca26"
             ],
             [
              1,
              "#f0f921"
             ]
            ],
            "type": "histogram2dcontour"
           }
          ],
          "mesh3d": [
           {
            "colorbar": {
             "outlinewidth": 0,
             "ticks": ""
            },
            "type": "mesh3d"
           }
          ],
          "parcoords": [
           {
            "line": {
             "colorbar": {
              "outlinewidth": 0,
              "ticks": ""
             }
            },
            "type": "parcoords"
           }
          ],
          "pie": [
           {
            "automargin": true,
            "type": "pie"
           }
          ],
          "scatter": [
           {
            "fillpattern": {
             "fillmode": "overlay",
             "size": 10,
             "solidity": 0.2
            },
            "type": "scatter"
           }
          ],
          "scatter3d": [
           {
            "line": {
             "colorbar": {
              "outlinewidth": 0,
              "ticks": ""
             }
            },
            "marker": {
             "colorbar": {
              "outlinewidth": 0,
              "ticks": ""
             }
            },
            "type": "scatter3d"
           }
          ],
          "scattercarpet": [
           {
            "marker": {
             "colorbar": {
              "outlinewidth": 0,
              "ticks": ""
             }
            },
            "type": "scattercarpet"
           }
          ],
          "scattergeo": [
           {
            "marker": {
             "colorbar": {
              "outlinewidth": 0,
              "ticks": ""
             }
            },
            "type": "scattergeo"
           }
          ],
          "scattergl": [
           {
            "marker": {
             "colorbar": {
              "outlinewidth": 0,
              "ticks": ""
             }
            },
            "type": "scattergl"
           }
          ],
          "scattermapbox": [
           {
            "marker": {
             "colorbar": {
              "outlinewidth": 0,
              "ticks": ""
             }
            },
            "type": "scattermapbox"
           }
          ],
          "scatterpolar": [
           {
            "marker": {
             "colorbar": {
              "outlinewidth": 0,
              "ticks": ""
             }
            },
            "type": "scatterpolar"
           }
          ],
          "scatterpolargl": [
           {
            "marker": {
             "colorbar": {
              "outlinewidth": 0,
              "ticks": ""
             }
            },
            "type": "scatterpolargl"
           }
          ],
          "scatterternary": [
           {
            "marker": {
             "colorbar": {
              "outlinewidth": 0,
              "ticks": ""
             }
            },
            "type": "scatterternary"
           }
          ],
          "surface": [
           {
            "colorbar": {
             "outlinewidth": 0,
             "ticks": ""
            },
            "colorscale": [
             [
              0,
              "#0d0887"
             ],
             [
              0.1111111111111111,
              "#46039f"
             ],
             [
              0.2222222222222222,
              "#7201a8"
             ],
             [
              0.3333333333333333,
              "#9c179e"
             ],
             [
              0.4444444444444444,
              "#bd3786"
             ],
             [
              0.5555555555555556,
              "#d8576b"
             ],
             [
              0.6666666666666666,
              "#ed7953"
             ],
             [
              0.7777777777777778,
              "#fb9f3a"
             ],
             [
              0.8888888888888888,
              "#fdca26"
             ],
             [
              1,
              "#f0f921"
             ]
            ],
            "type": "surface"
           }
          ],
          "table": [
           {
            "cells": {
             "fill": {
              "color": "#EBF0F8"
             },
             "line": {
              "color": "white"
             }
            },
            "header": {
             "fill": {
              "color": "#C8D4E3"
             },
             "line": {
              "color": "white"
             }
            },
            "type": "table"
           }
          ]
         },
         "layout": {
          "annotationdefaults": {
           "arrowcolor": "#2a3f5f",
           "arrowhead": 0,
           "arrowwidth": 1
          },
          "autotypenumbers": "strict",
          "coloraxis": {
           "colorbar": {
            "outlinewidth": 0,
            "ticks": ""
           }
          },
          "colorscale": {
           "diverging": [
            [
             0,
             "#8e0152"
            ],
            [
             0.1,
             "#c51b7d"
            ],
            [
             0.2,
             "#de77ae"
            ],
            [
             0.3,
             "#f1b6da"
            ],
            [
             0.4,
             "#fde0ef"
            ],
            [
             0.5,
             "#f7f7f7"
            ],
            [
             0.6,
             "#e6f5d0"
            ],
            [
             0.7,
             "#b8e186"
            ],
            [
             0.8,
             "#7fbc41"
            ],
            [
             0.9,
             "#4d9221"
            ],
            [
             1,
             "#276419"
            ]
           ],
           "sequential": [
            [
             0,
             "#0d0887"
            ],
            [
             0.1111111111111111,
             "#46039f"
            ],
            [
             0.2222222222222222,
             "#7201a8"
            ],
            [
             0.3333333333333333,
             "#9c179e"
            ],
            [
             0.4444444444444444,
             "#bd3786"
            ],
            [
             0.5555555555555556,
             "#d8576b"
            ],
            [
             0.6666666666666666,
             "#ed7953"
            ],
            [
             0.7777777777777778,
             "#fb9f3a"
            ],
            [
             0.8888888888888888,
             "#fdca26"
            ],
            [
             1,
             "#f0f921"
            ]
           ],
           "sequentialminus": [
            [
             0,
             "#0d0887"
            ],
            [
             0.1111111111111111,
             "#46039f"
            ],
            [
             0.2222222222222222,
             "#7201a8"
            ],
            [
             0.3333333333333333,
             "#9c179e"
            ],
            [
             0.4444444444444444,
             "#bd3786"
            ],
            [
             0.5555555555555556,
             "#d8576b"
            ],
            [
             0.6666666666666666,
             "#ed7953"
            ],
            [
             0.7777777777777778,
             "#fb9f3a"
            ],
            [
             0.8888888888888888,
             "#fdca26"
            ],
            [
             1,
             "#f0f921"
            ]
           ]
          },
          "colorway": [
           "#636efa",
           "#EF553B",
           "#00cc96",
           "#ab63fa",
           "#FFA15A",
           "#19d3f3",
           "#FF6692",
           "#B6E880",
           "#FF97FF",
           "#FECB52"
          ],
          "font": {
           "color": "#2a3f5f"
          },
          "geo": {
           "bgcolor": "white",
           "lakecolor": "white",
           "landcolor": "#E5ECF6",
           "showlakes": true,
           "showland": true,
           "subunitcolor": "white"
          },
          "hoverlabel": {
           "align": "left"
          },
          "hovermode": "closest",
          "mapbox": {
           "style": "light"
          },
          "paper_bgcolor": "white",
          "plot_bgcolor": "#E5ECF6",
          "polar": {
           "angularaxis": {
            "gridcolor": "white",
            "linecolor": "white",
            "ticks": ""
           },
           "bgcolor": "#E5ECF6",
           "radialaxis": {
            "gridcolor": "white",
            "linecolor": "white",
            "ticks": ""
           }
          },
          "scene": {
           "xaxis": {
            "backgroundcolor": "#E5ECF6",
            "gridcolor": "white",
            "gridwidth": 2,
            "linecolor": "white",
            "showbackground": true,
            "ticks": "",
            "zerolinecolor": "white"
           },
           "yaxis": {
            "backgroundcolor": "#E5ECF6",
            "gridcolor": "white",
            "gridwidth": 2,
            "linecolor": "white",
            "showbackground": true,
            "ticks": "",
            "zerolinecolor": "white"
           },
           "zaxis": {
            "backgroundcolor": "#E5ECF6",
            "gridcolor": "white",
            "gridwidth": 2,
            "linecolor": "white",
            "showbackground": true,
            "ticks": "",
            "zerolinecolor": "white"
           }
          },
          "shapedefaults": {
           "line": {
            "color": "#2a3f5f"
           }
          },
          "ternary": {
           "aaxis": {
            "gridcolor": "white",
            "linecolor": "white",
            "ticks": ""
           },
           "baxis": {
            "gridcolor": "white",
            "linecolor": "white",
            "ticks": ""
           },
           "bgcolor": "#E5ECF6",
           "caxis": {
            "gridcolor": "white",
            "linecolor": "white",
            "ticks": ""
           }
          },
          "title": {
           "x": 0.05
          },
          "xaxis": {
           "automargin": true,
           "gridcolor": "white",
           "linecolor": "white",
           "ticks": "",
           "title": {
            "standoff": 15
           },
           "zerolinecolor": "white",
           "zerolinewidth": 2
          },
          "yaxis": {
           "automargin": true,
           "gridcolor": "white",
           "linecolor": "white",
           "ticks": "",
           "title": {
            "standoff": 15
           },
           "zerolinecolor": "white",
           "zerolinewidth": 2
          }
         }
        },
        "xaxis": {
         "anchor": "y",
         "domain": [
          0,
          1
         ],
         "title": {
          "text": "retention"
         }
        },
        "yaxis": {
         "anchor": "x",
         "domain": [
          0,
          1
         ],
         "title": {
          "text": "counts"
         }
        }
       }
      }
     },
     "metadata": {},
     "output_type": "display_data"
    }
   ],
   "source": [
    "#매출 90퍼를 차지하는 20퍼센트의 고객이 vvip 로 나와야한다. revenue_pct 가 90퍼 이하인 id 만 뽑아서 vvip로 취급한다. vvip는 총 2625명\n",
    "vvip_ids = indv[indv['revenue_pct'] <= 90]['fullVisitorId'].unique()\n",
    "\n",
    "#vvip 고객을 추출한다\n",
    "vvip_df = df[['fullVisitorId', 'totals_totalTransactionRevenue', 'visitStartTime']]\n",
    "vvip_df = vvip_df[vvip_df['fullVisitorId'].isin(vvip_ids)]\n",
    "\n",
    "# 매출이 0 이 아닌 데이터만 필터링 한다\n",
    "vvip_df = vvip_df[vvip_df['totals_totalTransactionRevenue'] != 0]\n",
    "\n",
    "#vvip의 리텐션 == 일별 구매 횟수 (고객별 totalTransactionRevenue 가 0 이 아닌 날짜의 고유값) 를 본다. 하루에 10번을 구매해도 한번 구매로 친다. == 우리의 리텐션 기준 --> 중요 중요!!\n",
    "vvip_df['fulldate'] = vvip_df['visitStartTime'].dt.date\n",
    "vvip_retention = vvip_df.groupby('fullVisitorId')['fulldate'].nunique().reset_index()\n",
    "vvip_retention.rename(columns={'fulldate': 'retention'}, inplace=True)\n",
    "vvip_retention = vvip_retention.sort_values('retention', ascending=False)\n",
    "\n",
    "print(f\"vvip 평균 리텐션 {vvip_retention['retention'].mean()} 번\")\n",
    "\n",
    "#vvip 평균 리텐션의 분포 확인\n",
    "vvip_retention['retention'] = round(vvip_retention['retention'], 0)\n",
    "temp_count = vvip_retention.groupby('retention')['fullVisitorId'].nunique().reset_index()\n",
    "temp_count.rename(columns={'fullVisitorId': 'counts'}, inplace=True)\n",
    "\n",
    "import plotly.express as px\n",
    "fig = px.bar(temp_count, x=\"retention\", y=\"counts\")\n",
    "fig.show()\n",
    "\n",
    "# # 6번 이상 구매한 사람은 아웃라이어로 취급\n",
    "# vvip_ids = vvip_retention[vvip_retention['retention'] <= 5]['fullVisitorId'].unique()\n",
    "\n",
    "# #전체 매출\n",
    "# total_rev = df['totals_totalTransactionRevenue'].sum()\n",
    "# #vvip 가 한번에 쓰는 돈 계산\n",
    "# vvip_df = df[['fullVisitorId', 'totals_totalTransactionRevenue', 'visitStartTime']]\n",
    "# vvip_df = vvip_df[vvip_df['fullVisitorId'].isin(vvip_ids)]\n",
    "# vvip_df = vvip_df[vvip_df['totals_totalTransactionRevenue'] != 0]\n",
    "# revenue_df = vvip_df['totals_totalTransactionRevenue'].sum()\n",
    "# #전체 매출 대비 vvip 매출 (한번에 쓸때)\n",
    "# print(f\"전체 매출 대비 vvip 한번 매출 {round(revenue_df / total_rev * 100, 1)} %\")"
   ]
  },
  {
   "cell_type": "markdown",
   "metadata": {},
   "source": [
    "target 기준 -- 매출 하위 80퍼센트\n",
    "그중에서도 찾을 수 있다면 리텐션이 아주 높은 사람들 (구매를 꾸준히 한 사람들)"
   ]
  },
  {
   "cell_type": "code",
   "execution_count": 120,
   "metadata": {},
   "outputs": [
    {
     "name": "stdout",
     "output_type": "stream",
     "text": [
      "타겟 고객 평균 리텐션 1.046203649205415 번\n"
     ]
    },
    {
     "data": {
      "application/vnd.plotly.v1+json": {
       "config": {
        "plotlyServerURL": "https://plot.ly"
       },
       "data": [
        {
         "alignmentgroup": "True",
         "hovertemplate": "retention=%{x}<br>counts=%{y}<extra></extra>",
         "legendgroup": "",
         "marker": {
          "color": "#636efa",
          "pattern": {
           "shape": ""
          }
         },
         "name": "",
         "offsetgroup": "",
         "orientation": "v",
         "showlegend": false,
         "textposition": "auto",
         "type": "bar",
         "x": [
          1,
          2,
          3,
          4,
          5
         ],
         "xaxis": "x",
         "y": [
          6520,
          245,
          25,
          5,
          1
         ],
         "yaxis": "y"
        }
       ],
       "layout": {
        "barmode": "relative",
        "legend": {
         "tracegroupgap": 0
        },
        "margin": {
         "t": 60
        },
        "template": {
         "data": {
          "bar": [
           {
            "error_x": {
             "color": "#2a3f5f"
            },
            "error_y": {
             "color": "#2a3f5f"
            },
            "marker": {
             "line": {
              "color": "#E5ECF6",
              "width": 0.5
             },
             "pattern": {
              "fillmode": "overlay",
              "size": 10,
              "solidity": 0.2
             }
            },
            "type": "bar"
           }
          ],
          "barpolar": [
           {
            "marker": {
             "line": {
              "color": "#E5ECF6",
              "width": 0.5
             },
             "pattern": {
              "fillmode": "overlay",
              "size": 10,
              "solidity": 0.2
             }
            },
            "type": "barpolar"
           }
          ],
          "carpet": [
           {
            "aaxis": {
             "endlinecolor": "#2a3f5f",
             "gridcolor": "white",
             "linecolor": "white",
             "minorgridcolor": "white",
             "startlinecolor": "#2a3f5f"
            },
            "baxis": {
             "endlinecolor": "#2a3f5f",
             "gridcolor": "white",
             "linecolor": "white",
             "minorgridcolor": "white",
             "startlinecolor": "#2a3f5f"
            },
            "type": "carpet"
           }
          ],
          "choropleth": [
           {
            "colorbar": {
             "outlinewidth": 0,
             "ticks": ""
            },
            "type": "choropleth"
           }
          ],
          "contour": [
           {
            "colorbar": {
             "outlinewidth": 0,
             "ticks": ""
            },
            "colorscale": [
             [
              0,
              "#0d0887"
             ],
             [
              0.1111111111111111,
              "#46039f"
             ],
             [
              0.2222222222222222,
              "#7201a8"
             ],
             [
              0.3333333333333333,
              "#9c179e"
             ],
             [
              0.4444444444444444,
              "#bd3786"
             ],
             [
              0.5555555555555556,
              "#d8576b"
             ],
             [
              0.6666666666666666,
              "#ed7953"
             ],
             [
              0.7777777777777778,
              "#fb9f3a"
             ],
             [
              0.8888888888888888,
              "#fdca26"
             ],
             [
              1,
              "#f0f921"
             ]
            ],
            "type": "contour"
           }
          ],
          "contourcarpet": [
           {
            "colorbar": {
             "outlinewidth": 0,
             "ticks": ""
            },
            "type": "contourcarpet"
           }
          ],
          "heatmap": [
           {
            "colorbar": {
             "outlinewidth": 0,
             "ticks": ""
            },
            "colorscale": [
             [
              0,
              "#0d0887"
             ],
             [
              0.1111111111111111,
              "#46039f"
             ],
             [
              0.2222222222222222,
              "#7201a8"
             ],
             [
              0.3333333333333333,
              "#9c179e"
             ],
             [
              0.4444444444444444,
              "#bd3786"
             ],
             [
              0.5555555555555556,
              "#d8576b"
             ],
             [
              0.6666666666666666,
              "#ed7953"
             ],
             [
              0.7777777777777778,
              "#fb9f3a"
             ],
             [
              0.8888888888888888,
              "#fdca26"
             ],
             [
              1,
              "#f0f921"
             ]
            ],
            "type": "heatmap"
           }
          ],
          "heatmapgl": [
           {
            "colorbar": {
             "outlinewidth": 0,
             "ticks": ""
            },
            "colorscale": [
             [
              0,
              "#0d0887"
             ],
             [
              0.1111111111111111,
              "#46039f"
             ],
             [
              0.2222222222222222,
              "#7201a8"
             ],
             [
              0.3333333333333333,
              "#9c179e"
             ],
             [
              0.4444444444444444,
              "#bd3786"
             ],
             [
              0.5555555555555556,
              "#d8576b"
             ],
             [
              0.6666666666666666,
              "#ed7953"
             ],
             [
              0.7777777777777778,
              "#fb9f3a"
             ],
             [
              0.8888888888888888,
              "#fdca26"
             ],
             [
              1,
              "#f0f921"
             ]
            ],
            "type": "heatmapgl"
           }
          ],
          "histogram": [
           {
            "marker": {
             "pattern": {
              "fillmode": "overlay",
              "size": 10,
              "solidity": 0.2
             }
            },
            "type": "histogram"
           }
          ],
          "histogram2d": [
           {
            "colorbar": {
             "outlinewidth": 0,
             "ticks": ""
            },
            "colorscale": [
             [
              0,
              "#0d0887"
             ],
             [
              0.1111111111111111,
              "#46039f"
             ],
             [
              0.2222222222222222,
              "#7201a8"
             ],
             [
              0.3333333333333333,
              "#9c179e"
             ],
             [
              0.4444444444444444,
              "#bd3786"
             ],
             [
              0.5555555555555556,
              "#d8576b"
             ],
             [
              0.6666666666666666,
              "#ed7953"
             ],
             [
              0.7777777777777778,
              "#fb9f3a"
             ],
             [
              0.8888888888888888,
              "#fdca26"
             ],
             [
              1,
              "#f0f921"
             ]
            ],
            "type": "histogram2d"
           }
          ],
          "histogram2dcontour": [
           {
            "colorbar": {
             "outlinewidth": 0,
             "ticks": ""
            },
            "colorscale": [
             [
              0,
              "#0d0887"
             ],
             [
              0.1111111111111111,
              "#46039f"
             ],
             [
              0.2222222222222222,
              "#7201a8"
             ],
             [
              0.3333333333333333,
              "#9c179e"
             ],
             [
              0.4444444444444444,
              "#bd3786"
             ],
             [
              0.5555555555555556,
              "#d8576b"
             ],
             [
              0.6666666666666666,
              "#ed7953"
             ],
             [
              0.7777777777777778,
              "#fb9f3a"
             ],
             [
              0.8888888888888888,
              "#fdca26"
             ],
             [
              1,
              "#f0f921"
             ]
            ],
            "type": "histogram2dcontour"
           }
          ],
          "mesh3d": [
           {
            "colorbar": {
             "outlinewidth": 0,
             "ticks": ""
            },
            "type": "mesh3d"
           }
          ],
          "parcoords": [
           {
            "line": {
             "colorbar": {
              "outlinewidth": 0,
              "ticks": ""
             }
            },
            "type": "parcoords"
           }
          ],
          "pie": [
           {
            "automargin": true,
            "type": "pie"
           }
          ],
          "scatter": [
           {
            "fillpattern": {
             "fillmode": "overlay",
             "size": 10,
             "solidity": 0.2
            },
            "type": "scatter"
           }
          ],
          "scatter3d": [
           {
            "line": {
             "colorbar": {
              "outlinewidth": 0,
              "ticks": ""
             }
            },
            "marker": {
             "colorbar": {
              "outlinewidth": 0,
              "ticks": ""
             }
            },
            "type": "scatter3d"
           }
          ],
          "scattercarpet": [
           {
            "marker": {
             "colorbar": {
              "outlinewidth": 0,
              "ticks": ""
             }
            },
            "type": "scattercarpet"
           }
          ],
          "scattergeo": [
           {
            "marker": {
             "colorbar": {
              "outlinewidth": 0,
              "ticks": ""
             }
            },
            "type": "scattergeo"
           }
          ],
          "scattergl": [
           {
            "marker": {
             "colorbar": {
              "outlinewidth": 0,
              "ticks": ""
             }
            },
            "type": "scattergl"
           }
          ],
          "scattermapbox": [
           {
            "marker": {
             "colorbar": {
              "outlinewidth": 0,
              "ticks": ""
             }
            },
            "type": "scattermapbox"
           }
          ],
          "scatterpolar": [
           {
            "marker": {
             "colorbar": {
              "outlinewidth": 0,
              "ticks": ""
             }
            },
            "type": "scatterpolar"
           }
          ],
          "scatterpolargl": [
           {
            "marker": {
             "colorbar": {
              "outlinewidth": 0,
              "ticks": ""
             }
            },
            "type": "scatterpolargl"
           }
          ],
          "scatterternary": [
           {
            "marker": {
             "colorbar": {
              "outlinewidth": 0,
              "ticks": ""
             }
            },
            "type": "scatterternary"
           }
          ],
          "surface": [
           {
            "colorbar": {
             "outlinewidth": 0,
             "ticks": ""
            },
            "colorscale": [
             [
              0,
              "#0d0887"
             ],
             [
              0.1111111111111111,
              "#46039f"
             ],
             [
              0.2222222222222222,
              "#7201a8"
             ],
             [
              0.3333333333333333,
              "#9c179e"
             ],
             [
              0.4444444444444444,
              "#bd3786"
             ],
             [
              0.5555555555555556,
              "#d8576b"
             ],
             [
              0.6666666666666666,
              "#ed7953"
             ],
             [
              0.7777777777777778,
              "#fb9f3a"
             ],
             [
              0.8888888888888888,
              "#fdca26"
             ],
             [
              1,
              "#f0f921"
             ]
            ],
            "type": "surface"
           }
          ],
          "table": [
           {
            "cells": {
             "fill": {
              "color": "#EBF0F8"
             },
             "line": {
              "color": "white"
             }
            },
            "header": {
             "fill": {
              "color": "#C8D4E3"
             },
             "line": {
              "color": "white"
             }
            },
            "type": "table"
           }
          ]
         },
         "layout": {
          "annotationdefaults": {
           "arrowcolor": "#2a3f5f",
           "arrowhead": 0,
           "arrowwidth": 1
          },
          "autotypenumbers": "strict",
          "coloraxis": {
           "colorbar": {
            "outlinewidth": 0,
            "ticks": ""
           }
          },
          "colorscale": {
           "diverging": [
            [
             0,
             "#8e0152"
            ],
            [
             0.1,
             "#c51b7d"
            ],
            [
             0.2,
             "#de77ae"
            ],
            [
             0.3,
             "#f1b6da"
            ],
            [
             0.4,
             "#fde0ef"
            ],
            [
             0.5,
             "#f7f7f7"
            ],
            [
             0.6,
             "#e6f5d0"
            ],
            [
             0.7,
             "#b8e186"
            ],
            [
             0.8,
             "#7fbc41"
            ],
            [
             0.9,
             "#4d9221"
            ],
            [
             1,
             "#276419"
            ]
           ],
           "sequential": [
            [
             0,
             "#0d0887"
            ],
            [
             0.1111111111111111,
             "#46039f"
            ],
            [
             0.2222222222222222,
             "#7201a8"
            ],
            [
             0.3333333333333333,
             "#9c179e"
            ],
            [
             0.4444444444444444,
             "#bd3786"
            ],
            [
             0.5555555555555556,
             "#d8576b"
            ],
            [
             0.6666666666666666,
             "#ed7953"
            ],
            [
             0.7777777777777778,
             "#fb9f3a"
            ],
            [
             0.8888888888888888,
             "#fdca26"
            ],
            [
             1,
             "#f0f921"
            ]
           ],
           "sequentialminus": [
            [
             0,
             "#0d0887"
            ],
            [
             0.1111111111111111,
             "#46039f"
            ],
            [
             0.2222222222222222,
             "#7201a8"
            ],
            [
             0.3333333333333333,
             "#9c179e"
            ],
            [
             0.4444444444444444,
             "#bd3786"
            ],
            [
             0.5555555555555556,
             "#d8576b"
            ],
            [
             0.6666666666666666,
             "#ed7953"
            ],
            [
             0.7777777777777778,
             "#fb9f3a"
            ],
            [
             0.8888888888888888,
             "#fdca26"
            ],
            [
             1,
             "#f0f921"
            ]
           ]
          },
          "colorway": [
           "#636efa",
           "#EF553B",
           "#00cc96",
           "#ab63fa",
           "#FFA15A",
           "#19d3f3",
           "#FF6692",
           "#B6E880",
           "#FF97FF",
           "#FECB52"
          ],
          "font": {
           "color": "#2a3f5f"
          },
          "geo": {
           "bgcolor": "white",
           "lakecolor": "white",
           "landcolor": "#E5ECF6",
           "showlakes": true,
           "showland": true,
           "subunitcolor": "white"
          },
          "hoverlabel": {
           "align": "left"
          },
          "hovermode": "closest",
          "mapbox": {
           "style": "light"
          },
          "paper_bgcolor": "white",
          "plot_bgcolor": "#E5ECF6",
          "polar": {
           "angularaxis": {
            "gridcolor": "white",
            "linecolor": "white",
            "ticks": ""
           },
           "bgcolor": "#E5ECF6",
           "radialaxis": {
            "gridcolor": "white",
            "linecolor": "white",
            "ticks": ""
           }
          },
          "scene": {
           "xaxis": {
            "backgroundcolor": "#E5ECF6",
            "gridcolor": "white",
            "gridwidth": 2,
            "linecolor": "white",
            "showbackground": true,
            "ticks": "",
            "zerolinecolor": "white"
           },
           "yaxis": {
            "backgroundcolor": "#E5ECF6",
            "gridcolor": "white",
            "gridwidth": 2,
            "linecolor": "white",
            "showbackground": true,
            "ticks": "",
            "zerolinecolor": "white"
           },
           "zaxis": {
            "backgroundcolor": "#E5ECF6",
            "gridcolor": "white",
            "gridwidth": 2,
            "linecolor": "white",
            "showbackground": true,
            "ticks": "",
            "zerolinecolor": "white"
           }
          },
          "shapedefaults": {
           "line": {
            "color": "#2a3f5f"
           }
          },
          "ternary": {
           "aaxis": {
            "gridcolor": "white",
            "linecolor": "white",
            "ticks": ""
           },
           "baxis": {
            "gridcolor": "white",
            "linecolor": "white",
            "ticks": ""
           },
           "bgcolor": "#E5ECF6",
           "caxis": {
            "gridcolor": "white",
            "linecolor": "white",
            "ticks": ""
           }
          },
          "title": {
           "x": 0.05
          },
          "xaxis": {
           "automargin": true,
           "gridcolor": "white",
           "linecolor": "white",
           "ticks": "",
           "title": {
            "standoff": 15
           },
           "zerolinecolor": "white",
           "zerolinewidth": 2
          },
          "yaxis": {
           "automargin": true,
           "gridcolor": "white",
           "linecolor": "white",
           "ticks": "",
           "title": {
            "standoff": 15
           },
           "zerolinecolor": "white",
           "zerolinewidth": 2
          }
         }
        },
        "xaxis": {
         "anchor": "y",
         "domain": [
          0,
          1
         ],
         "title": {
          "text": "retention"
         }
        },
        "yaxis": {
         "anchor": "x",
         "domain": [
          0,
          1
         ],
         "title": {
          "text": "counts"
         }
        }
       }
      }
     },
     "metadata": {},
     "output_type": "display_data"
    },
    {
     "name": "stdout",
     "output_type": "stream",
     "text": [
      "전체 매출 대비 타겟 한번 매출 10.0 %\n"
     ]
    }
   ],
   "source": [
    "#매출 10퍼를 차지하는 80퍼센트의 고객을 타겟 고객으로 잡는다. revenue_pct 가 90퍼 이상인 id 만 뽑아서 target로 취급한다. \n",
    "#다시 쓰기 귀찮아서 vvip 로직을 함수로 만들어 퍼센트지 등호만 바꿔 주었다.\n",
    "def get_target_retention(pct_num):\n",
    "    vvip_ids = indv[indv['revenue_pct'] > pct_num]['fullVisitorId'].unique()\n",
    "\n",
    "    #vvip 고객을 추출한다\n",
    "    vvip_df = df[['fullVisitorId', 'totals_totalTransactionRevenue', 'visitStartTime']]\n",
    "    vvip_df = vvip_df[vvip_df['fullVisitorId'].isin(vvip_ids)]\n",
    "\n",
    "    # 매출이 0 이 아닌 데이터만 필터링 한다\n",
    "    vvip_df = vvip_df[vvip_df['totals_totalTransactionRevenue'] != 0]\n",
    "\n",
    "    #vvip의 리텐션 == 일별 구매 횟수 (고객별 totalTransactionRevenue 가 0 이 아닌 날짜의 고유값) 를 본다. 하루에 10번을 구매해도 한번 구매로 친다. == 우리의 리텐션 기준 --> 중요 중요!!\n",
    "    vvip_df['fulldate'] = vvip_df['visitStartTime'].dt.date\n",
    "    vvip_retention = vvip_df.groupby('fullVisitorId')['fulldate'].nunique().reset_index()\n",
    "    vvip_retention.rename(columns={'fulldate': 'retention'}, inplace=True)\n",
    "    vvip_retention = vvip_retention.sort_values('retention', ascending=False)\n",
    "\n",
    "    print(f\"타겟 고객 평균 리텐션 {vvip_retention['retention'].mean()} 번\")\n",
    "\n",
    "    #vvip 평균 리텐션의 분포 확인\n",
    "    vvip_retention['retention'] = round(vvip_retention['retention'], 0)\n",
    "    temp_count = vvip_retention.groupby('retention')['fullVisitorId'].nunique().reset_index()\n",
    "    temp_count.rename(columns={'fullVisitorId': 'counts'}, inplace=True)\n",
    "\n",
    "    import plotly.express as px\n",
    "    fig = px.bar(temp_count, x=\"retention\", y=\"counts\")\n",
    "    fig.show()\n",
    "\n",
    "    # 6번 이상 구매한 사람은 아웃라이어로 취급\n",
    "    vvip_ids = vvip_retention[vvip_retention['retention'] <= 5]['fullVisitorId'].unique()\n",
    "\n",
    "    #전체 매출\n",
    "    total_rev = df['totals_totalTransactionRevenue'].sum()\n",
    "    #vvip 가 한번에 쓰는 돈 계산\n",
    "    vvip_df = df[['fullVisitorId', 'totals_totalTransactionRevenue', 'visitStartTime']]\n",
    "    vvip_df = vvip_df[vvip_df['fullVisitorId'].isin(vvip_ids)]\n",
    "    vvip_df = vvip_df[vvip_df['totals_totalTransactionRevenue'] != 0]\n",
    "    revenue_df = vvip_df['totals_totalTransactionRevenue'].sum()\n",
    "    #전체 매출 대비 vvip 매출 (한번에 쓸때)\n",
    "    print(f\"전체 매출 대비 타겟 한번 매출 {round(revenue_df / total_rev * 100, 1)} %\")\n",
    "    \n",
    "get_target_retention(90)"
   ]
  },
  {
   "cell_type": "markdown",
   "metadata": {},
   "source": [
    "제가 내린 결론은...우리가 찾고 싶었던 고객은 찾기가 어렵다는 것...\n",
    "우리가 찾고 싶었던 고객은 매출이 낮아도 \"꾸준히 오는 고객\" 인데,\n",
    "\n",
    "매출이 높은 상위 10% 고객들중에 오히려 재방문이 25번이 되는 고객이 있고, 매출이 낮은 사람들중에서는 최대 재방문이 5번이라고 결과가 나왔어요.\n",
    "\n",
    "오히려 매출이 높은 상위 10%한테 집중해야하는 서비스가 아닌가 싶습니다"
   ]
  },
  {
   "cell_type": "markdown",
   "metadata": {},
   "source": [
    "가설: vvip 들은 한번에 대량 구매하는 사람들이다. 구매하는 시간대가 오전 9시에서 오후 6시 사이일 것이다."
   ]
  },
  {
   "cell_type": "code",
   "execution_count": 25,
   "metadata": {},
   "outputs": [
    {
     "data": {
      "text/plain": [
       "array([ 0,  1,  2,  3,  4,  5,  6,  7,  8,  9, 10, 11, 12, 13, 14, 15, 16,\n",
       "       17, 18, 19, 20, 21, 22, 23], dtype=int32)"
      ]
     },
     "execution_count": 25,
     "metadata": {},
     "output_type": "execute_result"
    }
   ],
   "source": [
    "df['visitStartTime'].dt.hour.sort_values().unique()"
   ]
  },
  {
   "cell_type": "code",
   "execution_count": 26,
   "metadata": {},
   "outputs": [
    {
     "data": {
      "image/png": "[encoded data removed]",
      "text/plain": [
       "<Figure size 1000x800 with 2 Axes>"
      ]
     },
     "metadata": {},
     "output_type": "display_data"
    }
   ],
   "source": [
    "#전체 구매 고객의 구매시간대와 요일과 vvip 의 구매 시간대, 요일을 비교한다\n",
    "hourday = df[['fullVisitorId', 'visitId', 'visitStartTime', 'totals_totalTransactionRevenue']]\n",
    "hourday = hourday[hourday['totals_totalTransactionRevenue'] != 0]\n",
    "\n",
    "# day, time 컬럼 계산\n",
    "hourday['day'] = hourday['visitStartTime'].dt.day_name()\n",
    "hourday['time'] = hourday['visitStartTime'].dt.hour\n",
    "\n",
    "# total tran 이 찍힌 세션의 개수 계산\n",
    "hourday = hourday.groupby(['day', 'time'])['visitId'].count().reset_index()\n",
    "hourday.head()\n",
    "\n",
    "# pivot\n",
    "order = ['Monday', 'Tuesday', 'Wednesday', 'Thursday', 'Friday', 'Saturday', 'Sunday']\n",
    "week_count = hourday.pivot(index='time', columns='day', values='visitId')\n",
    "week_count = week_count.reindex(columns=order)\n",
    "\n",
    "import seaborn as sns\n",
    "plt.figure(figsize=(10, 8))\n",
    "sns.heatmap(data=week_count, linewidth=0.5, cmap='Reds')\n",
    "\n",
    "plt.xlabel('day of week', fontsize=11,labelpad=30)\n",
    "plt.ylabel('hour', fontsize=11,rotation=90,labelpad=30)\n",
    "#y축 레이블 축 변경 하기\n",
    "plt.yticks(rotation=360)\n",
    "#테이블 보여주기\n",
    "plt.show()"
   ]
  },
  {
   "cell_type": "code",
   "execution_count": 28,
   "metadata": {},
   "outputs": [],
   "source": [
    "week_count.to_csv('total_customers_timeslot.csv', index=False)"
   ]
  },
  {
   "cell_type": "code",
   "execution_count": 29,
   "metadata": {},
   "outputs": [
    {
     "data": {
      "image/png": "[encoded data removed]",
      "text/plain": [
       "<Figure size 1000x800 with 2 Axes>"
      ]
     },
     "metadata": {},
     "output_type": "display_data"
    }
   ],
   "source": [
    "#vvip 들의 구매하는 시간대와 요일을 히트맵으로 그린다.\n",
    "vvip_ids = indv[indv['revenue_pct'] <= 90]['fullVisitorId'].unique()\n",
    "\n",
    "#df의 id, sessionid, date, visitStartTime, total_trans 컬럼을 사용.\n",
    "#hits_revenue 보다 total_revenue 컬럼을 사용하는 이유는, 편의성을 위해. 한 세션에 구매를 했으면 total_revenue 는 모든 세션 데이터에 찍힌다.\n",
    "#따라서 그 시간대 접속한 고객이 세션에 total_revenue 가 찍히면 구매를 했다는 것이다. \n",
    "#따라서 [day, hour] 로 묶어서 total_revenue 가 찍힌 세션의 개수를 \"시간대별 구매 횟수\" 로 계산한다.\n",
    "hourday = df[['fullVisitorId', 'visitId', 'visitStartTime', 'totals_totalTransactionRevenue']]\n",
    "hourday = hourday[hourday['fullVisitorId'].isin(vvip_ids)]\n",
    "hourday = hourday[hourday['totals_totalTransactionRevenue'] != 0]\n",
    "\n",
    "# day, time 컬럼 계산\n",
    "hourday['day'] = hourday['visitStartTime'].dt.day_name()\n",
    "hourday['time'] = hourday['visitStartTime'].dt.hour\n",
    "\n",
    "# total tran 이 찍힌 세션의 개수 계산\n",
    "hourday = hourday.groupby(['day', 'time'])['visitId'].count().reset_index()\n",
    "hourday.head()\n",
    "\n",
    "# pivot\n",
    "order = ['Monday', 'Tuesday', 'Wednesday', 'Thursday', 'Friday', 'Saturday', 'Sunday']\n",
    "week_count = hourday.pivot(index='time', columns='day', values='visitId')\n",
    "week_count = week_count.reindex(columns=order)\n",
    "    \n",
    "import seaborn as sns\n",
    "plt.figure(figsize=(10, 8))\n",
    "sns.heatmap(data=week_count, linewidth=0.5, cmap='Blues')\n",
    "\n",
    "plt.xlabel('day of week', fontsize=11,labelpad=30)\n",
    "plt.ylabel('hour', fontsize=11,rotation=90,labelpad=30)\n",
    "#y축 레이블 축 변경 하기\n",
    "plt.yticks(rotation=360)\n",
    "#테이블 보여주기\n",
    "plt.show()\n",
    "\n"
   ]
  },
  {
   "cell_type": "code",
   "execution_count": 30,
   "metadata": {},
   "outputs": [],
   "source": [
    "week_count.to_csv('vip_timeslot.csv', index=False)"
   ]
  },
  {
   "cell_type": "code",
   "execution_count": 31,
   "metadata": {},
   "outputs": [
    {
     "data": {
      "image/png": "[encoded data removed]",
      "text/plain": [
       "<Figure size 1000x800 with 2 Axes>"
      ]
     },
     "metadata": {},
     "output_type": "display_data"
    }
   ],
   "source": [
    "#plain 들의 구매하는 시간대와 요일을 히트맵으로 그린다.\n",
    "plain_ids = indv[indv['revenue_pct'] > 90]['fullVisitorId'].unique()\n",
    "\n",
    "#df의 id, sessionid, date, visitStartTime, total_trans 컬럼을 사용.\n",
    "#hits_revenue 보다 total_revenue 컬럼을 사용하는 이유는, 편의성을 위해. 한 세션에 구매를 했으면 total_revenue 는 모든 세션 데이터에 찍힌다.\n",
    "#따라서 그 시간대 접속한 고객이 세션에 total_revenue 가 찍히면 구매를 했다는 것이다. \n",
    "#따라서 [day, hour] 로 묶어서 total_revenue 가 찍힌 세션의 개수를 \"시간대별 구매 횟수\" 로 계산한다.\n",
    "hourday = df[['fullVisitorId', 'visitId', 'visitStartTime', 'totals_totalTransactionRevenue']]\n",
    "hourday = hourday[hourday['fullVisitorId'].isin(plain_ids)]\n",
    "hourday = hourday[hourday['totals_totalTransactionRevenue'] != 0]\n",
    "\n",
    "# day, time 컬럼 계산\n",
    "hourday['day'] = hourday['visitStartTime'].dt.day_name()\n",
    "hourday['time'] = hourday['visitStartTime'].dt.hour\n",
    "\n",
    "# total tran 이 찍힌 세션의 개수 계산\n",
    "hourday = hourday.groupby(['day', 'time'])['visitId'].count().reset_index()\n",
    "hourday.head()\n",
    "\n",
    "# pivot\n",
    "order = ['Monday', 'Tuesday', 'Wednesday', 'Thursday', 'Friday', 'Saturday', 'Sunday']\n",
    "week_count = hourday.pivot(index='time', columns='day', values='visitId')\n",
    "week_count = week_count.reindex(columns=order)\n",
    "    \n",
    "import seaborn as sns\n",
    "plt.figure(figsize=(10, 8))\n",
    "sns.heatmap(data=week_count, linewidth=0.5, cmap='Greens')\n",
    "\n",
    "plt.xlabel('day of week', fontsize=11,labelpad=30)\n",
    "plt.ylabel('hour', fontsize=11,rotation=90,labelpad=30)\n",
    "#y축 레이블 축 변경 하기\n",
    "plt.yticks(rotation=360)\n",
    "#테이블 보여주기\n",
    "plt.show()\n",
    "\n"
   ]
  },
  {
   "cell_type": "code",
   "execution_count": 32,
   "metadata": {},
   "outputs": [],
   "source": [
    "week_count.to_csv('plain_timeslot.csv', index=False)"
   ]
  },
  {
   "cell_type": "markdown",
   "metadata": {},
   "source": [
    "전체 구매고객의 패턴은 주중에 구매하고, 오전 6시에서 3시 사이에 가장 많이 구매한다."
   ]
  },
  {
   "cell_type": "code",
   "execution_count": null,
   "metadata": {},
   "outputs": [],
   "source": [
    "# 왜 체류시간이 30분이 넘어가지.....???? 250 분이 걸린 사람의 로그를 한번 보자."
   ]
  },
  {
   "cell_type": "markdown",
   "metadata": {},
   "source": []
  },
  {
   "cell_type": "code",
   "execution_count": null,
   "metadata": {},
   "outputs": [],
   "source": [
    "#리텐션\n",
    "\n",
    "# df['visitStartTime'] = pd.to_datetime(df['visitStartTime'])\n",
    "# total_rev = df.groupby(['fullVisitorId']).sum('hits_transaction_transactionRevenue')\n",
    "# total_rev = total_rev.reset_index()\n",
    "# vvips = total_rev[total_rev['hits_transaction_transactionRevenue'] >= 40000]['fullVisitorId']\n",
    "# print(vvips.values)\n",
    "# for id in vvips.values:\n",
    "#     temp = df[df['fullVisitorId'] == id]\n",
    "#     temp['date'] = temp['visitStartTime'].dt.strftime('%Y-%m-%d')\n",
    "    \n",
    "#     # Group by date and count visitId\n",
    "#     visit_counts = temp.groupby('date')['visitId'].count()\n",
    "    \n",
    "#     # Plotting\n",
    "#     plt.figure(figsize=(10, 6))  # Adjust figure size as needed\n",
    "#     plt.plot(visit_counts.index, visit_counts.values, marker='o', color='blue', linestyle='-')\n",
    "#     plt.xlabel('Date')\n",
    "#     plt.ylabel('Visit count')\n",
    "#     plt.title(f'Visit count for fullVisitorId: {id}')\n",
    "#     plt.xticks(rotation=45)  # Rotate x-axis labels for better readability\n",
    "#     plt.grid(True)\n",
    "#     plt.tight_layout()\n",
    "#     plt.show()\n",
    "    "
   ]
  }
 ],
 "metadata": {
  "kernelspec": {
   "display_name": "Python 3",
   "language": "python",
   "name": "python3"
  },
  "language_info": {
   "codemirror_mode": {
    "name": "ipython",
    "version": 3
   },
   "file_extension": ".py",
   "mimetype": "text/x-python",
   "name": "python",
   "nbconvert_exporter": "python",
   "pygments_lexer": "ipython3",
   "version": "3.10.11"
  }
 },
 "nbformat": 4,
 "nbformat_minor": 2
}
