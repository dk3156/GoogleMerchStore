{
 "cells": [
  {
   "cell_type": "code",
   "execution_count": 1,
   "metadata": {},
   "outputs": [
    {
     "name": "stderr",
     "output_type": "stream",
     "text": [
      "/var/folders/mk/p5y6cznx60788rys6_dnljxm0000gn/T/ipykernel_23162/64509669.py:23: DtypeWarning: Columns (1,29) have mixed types. Specify dtype option on import or set low_memory=False.\n",
      "  df = pd.read_csv('ga4_data.csv')\n"
     ]
    }
   ],
   "source": [
    "import os\n",
    "import json\n",
    "from glob import glob\n",
    "from tqdm import tqdm\n",
    "import pandas as pd\n",
    "import numpy as np\n",
    "import matplotlib.pyplot as plt\n",
    "import random\n",
    "from datetime import datetime, timedelta\n",
    "\n",
    "from google.cloud import bigquery\n",
    "from google.oauth2 import service_account\n",
    "\n",
    "pd.set_option('display.max_seq_items', None)\n",
    "pd.set_option('display.max_columns', None)\n",
    "\n",
    "import matplotlib.pyplot as plt\n",
    "import seaborn as sns\n",
    "import plotly.express as px\n",
    "#matplotlib 패키지 한글 깨짐 처리 시작\n",
    "plt.rc('font', family='AppleGothic') #맥\n",
    "\n",
    "df = pd.read_csv('ga4_data.csv')"
   ]
  },
  {
   "cell_type": "code",
   "execution_count": 2,
   "metadata": {},
   "outputs": [],
   "source": [
    "# 전처리 \n",
    "df['visitStartTime'] = pd.to_datetime(df['visitStartTime'])\n",
    "df['totals_totalTransactionRevenue'] = df['totals_totalTransactionRevenue'].fillna(0)\n",
    "df['hits_transaction_transactionRevenue'] = df['hits_transaction_transactionRevenue'].fillna(0)\n",
    "\n",
    "def pad_with_zeros(string):\n",
    "    \"\"\"\n",
    "    문자열의 길이가 19이 될 때까지 앞에 0을 추가하는 함수\n",
    "    \"\"\"\n",
    "    # 문자열의 길이를 세기\n",
    "    length = len(string)\n",
    "    \n",
    "    # 문자열의 길이가 20이 될 때까지 앞에 0을 추가\n",
    "    while length < 19:\n",
    "        string = '0' + string\n",
    "        length += 1\n",
    "    \n",
    "    return string\n",
    "\n",
    "df['fullVisitorId'] = df['fullVisitorId'].astype(str)\n",
    "df['fullVisitorId'] = df['fullVisitorId'].apply(pad_with_zeros)\n",
    "\n",
    "df.visitStartTime = (df.visitStartTime - timedelta(hours=8))\n",
    "# df = df.assign(month = df.visitStartTime.dt.strftime('%Y-%m'))\n",
    "# df = df.assign(date = df.visitStartTime.dt.strftime('%m-%d'))\n",
    "# df = df.assign(day_name = df.visitStartTime.dt.weekday)"
   ]
  },
  {
   "cell_type": "code",
   "execution_count": 3,
   "metadata": {},
   "outputs": [],
   "source": [
    "#vvip 와 plain\n",
    "non_zero = df[df['totals_totalTransactionRevenue'] != 0]\n",
    "indv = non_zero.groupby('fullVisitorId')['totals_totalTransactionRevenue'].sum().reset_index()\n",
    "indv = indv.sort_values('totals_totalTransactionRevenue', ascending=False)\n",
    "indv['revenue_pct'] = indv['totals_totalTransactionRevenue'].cumsum() / indv['totals_totalTransactionRevenue'].sum() * 100\n",
    "indv['id_count'] = indv.groupby('fullVisitorId').cumcount() + 1\n",
    "indv['id_pct'] = indv['id_count'].cumsum() / indv['id_count'].sum() * 100\n",
    "\n",
    "vvip_ids = indv[indv['revenue_pct'] <= 90]['fullVisitorId'].unique()\n",
    "plain_ids = indv[indv['revenue_pct'] > 90]['fullVisitorId'].unique()"
   ]
  },
  {
   "cell_type": "markdown",
   "metadata": {},
   "source": [
    "가설2. : vvip 와 plain 고객은 웹사이트 접속해서 구매까지 걸리는 시간이 다를 것이다.\n",
    "\n",
    "vvip 와 plain 고객은 오랫동안 고민하고 구매하는 신중한 고객인가? 고민하지 않고 결정을 신속하게 내리는 고객인가?"
   ]
  },
  {
   "cell_type": "code",
   "execution_count": 4,
   "metadata": {},
   "outputs": [
    {
     "name": "stdout",
     "output_type": "stream",
     "text": [
      "고민을 정말 많이한 고객의 수 1명\n",
      "합칠 세션 id [1491543261, 1496018608]\n"
     ]
    }
   ],
   "source": [
    "#df -- id, visitStartTime, hit_hour, hit_minute, eCommerce_action_type 컬럼을 사용.\n",
    "#유저가 아무행동 하지 않아도 hit_hour, minute 은 찍힌다. \n",
    "time_df = df[['fullVisitorId', 'visitId', 'visitStartTime', 'hits_hour', 'hits_minute', 'hits_eCommerceAction_action_type', 'totals_totalTransactionRevenue']]\n",
    "\n",
    "#전체 구매 고객 기준\n",
    "time_df = time_df[time_df['totals_totalTransactionRevenue'] != 0]\n",
    "\n",
    "# 에지 케이스. 한 세션 (30분) 동안 장바구니 보면서 고민만 하다가 다음 세션으로 넘어가서 구매를 결정한 고객도 있을 것이다.\n",
    "# 세션의 마지막 hit_hour, hit_minute 가 그 다음 세션의 hit_hour, hit_minute 과 1분이상 차이가 나지 않으면 하나의 세션으로 간주한다. \n",
    "# 세션을 visitStartTime 으로 정렬하고, 그 전 세션과 hit_hour, minute 차이를 구한뒤 1분미만 차이가 나면 하나의 세션으로 계산한다. \n",
    "\n",
    "# hits_hour, hits_minute 을 dt.time 으로 바꾼다\n",
    "time_df['time_str'] = time_df['hits_hour'].astype(str).str.zfill(2) + ':' + time_df['hits_minute'].astype(str).str.zfill(2)\n",
    "time_df['time'] = pd.to_datetime(time_df['time_str'], format='%H:%M').dt.time\n",
    "time_df.drop(columns=['time_str'], inplace=True)\n",
    "\n",
    "#day 컬럼을 만들어준다\n",
    "time_df['day'] = time_df['visitStartTime'].dt.date\n",
    "\n",
    "#  \"first_hits\", \"last_hits\" 컬럼을 만든다.\n",
    "time_df['first_hits'] = time_df.groupby('visitId')['time'].transform('min')\n",
    "time_df['last_hits'] = time_df.groupby('visitId')['time'].transform('max')\n",
    "time_df = time_df.drop_duplicates(subset=['visitId'])\n",
    "\n",
    "#visitStartTime 으로 정렬하고, 그 전 세션의 last_hits와 차이를 구한뒤 1분미만 차이가 나면 하나의 세션으로 계산한다.\n",
    "result = 0\n",
    "result_lst = []\n",
    "for id_name, id_data in time_df.groupby(['fullVisitorId', 'day']):\n",
    "    id_data = id_data.sort_values('visitStartTime')\n",
    "    num = id_data['visitId'].nunique()\n",
    "    if num > 1:\n",
    "        for index, (visit_id, visit_data) in enumerate(id_data.groupby('visitId')):\n",
    "            if index == 0:\n",
    "                previous_last_hit = visit_data['last_hits'].values[0]\n",
    "            else:\n",
    "                current_first_hit = visit_data['first_hits'].values[0]\n",
    "                minutes_diff = (current_first_hit.hour - previous_last_hit.hour) * 60 + (current_first_hit.minute - previous_last_hit.minute)\n",
    "                # 1분 이하면 increment\n",
    "                if minutes_diff <= 1:\n",
    "                    result += 1\n",
    "                    result_lst.append(visit_id)\n",
    "                    result_lst.append(prev_id)\n",
    "                previous_last_hit = visit_data['last_hits'].values[0]\n",
    "                prev_id = visit_id\n",
    "                \n",
    "print(f'고민을 정말 많이한 고객의 수 {result}명')\n",
    "#이 한명 보려고 내가 2시간을 썻나...\n",
    "print(f'합칠 세션 id {result_lst}')\n",
    "\n",
    "#세션을 병합\n",
    "df.loc[df['visitId'] == 1496018608, 'visitID'] = 1491543261\n",
    "time_df.loc[time_df['visitId'] == 1496018608, 'visitID'] = 1491543261"
   ]
  },
  {
   "cell_type": "code",
   "execution_count": 5,
   "metadata": {},
   "outputs": [
    {
     "name": "stdout",
     "output_type": "stream",
     "text": [
      "비구매\n",
      "평균 체류 시간 3.6025878477723197 분\n",
      "구매\n",
      "평균 체류 시간 17.165484197917625 분\n"
     ]
    }
   ],
   "source": [
    "#한 세션의 시작 시간 (처음 hits_hour, hits_minute) 과 끝나는 시간 (마지막 hits_hour, hits_minute) 의 차이를 구하고 고객 id 별 평균을 구한다.\n",
    "time_df = df[['fullVisitorId', 'visitId', 'visitStartTime', 'hits_hour', 'hits_minute', 'hits_eCommerceAction_action_type', 'totals_totalTransactionRevenue']]\n",
    "\n",
    "import warnings\n",
    "warnings.filterwarnings(action='ignore')\n",
    "\n",
    "#first_hit, last_hit\n",
    "def get_time(time_df):\n",
    "    time_df['time_str'] = time_df['visitStartTime'].dt.strftime('%Y-%m-%d') + \" \" + time_df['hits_hour'].astype(str).str.zfill(2) + ':' + time_df['hits_minute'].astype(str).str.zfill(2)\n",
    "    time_df['time'] = pd.to_datetime(time_df['time_str'], format='%Y-%m-%d %H:%M')\n",
    "    time_df.drop(columns=['time_str'], inplace=True)\n",
    "    time_df = time_df.groupby(['fullVisitorId', 'visitId'])['time'].agg(['min', 'max']).reset_index()\n",
    "    time_df.rename(columns={'min': 'first_hit'}, inplace=True)\n",
    "    time_df.rename(columns={'max': 'last_hit'}, inplace=True)\n",
    "    time_df['diff_in_mins'] = (time_df['last_hit'] - time_df['first_hit']).dt.total_seconds() / 60\n",
    "    \n",
    "    #평균\n",
    "    mean = time_df['diff_in_mins'].mean()\n",
    "    print(f'평균 체류 시간 {mean} 분')\n",
    "\n",
    "\n",
    "#비구매 고객 기준\n",
    "norev_df = time_df[time_df['totals_totalTransactionRevenue'] == 0]\n",
    "print('비구매')\n",
    "get_time(norev_df)\n",
    "#구매 고객 기준\n",
    "rev_df = time_df[time_df['totals_totalTransactionRevenue'] != 0]\n",
    "print('구매')\n",
    "get_time(rev_df)"
   ]
  },
  {
   "cell_type": "code",
   "execution_count": 6,
   "metadata": {},
   "outputs": [],
   "source": [
    "dic = {'label':['비구매', '구매'], 'value':[norev_df, rev_df]}\n",
    "pd.DataFrame(dic).to_csv('lingering_time.csv', index=False)"
   ]
  },
  {
   "cell_type": "code",
   "execution_count": 8,
   "metadata": {},
   "outputs": [
    {
     "name": "stdout",
     "output_type": "stream",
     "text": [
      "vip\n",
      "평균 체류 시간 22.57777179763186 분\n",
      "중간값 체류 시간 18.0 분\n"
     ]
    },
    {
     "data": {
      "text/plain": [
       "<Axes: xlabel='diff_in_mins', ylabel='Count'>"
      ]
     },
     "execution_count": 8,
     "metadata": {},
     "output_type": "execute_result"
    },
    {
     "data": {
      "image/png": "[encoded data removed]",
      "text/plain": [
       "<Figure size 640x480 with 1 Axes>"
      ]
     },
     "metadata": {},
     "output_type": "display_data"
    }
   ],
   "source": [
    "#vvips\n",
    "time_df = df[['fullVisitorId', 'visitId', 'visitStartTime', 'hits_hour', 'hits_minute', 'hits_eCommerceAction_action_type', 'totals_totalTransactionRevenue']]\n",
    "vip_time_df = time_df[time_df['fullVisitorId'].isin(vvip_ids)]\n",
    "vip_time_df = vip_time_df[vip_time_df['totals_totalTransactionRevenue'] != 0]\n",
    "\n",
    "#first_hit, last_hit\n",
    "vip_time_df['time_str'] = vip_time_df['visitStartTime'].dt.strftime('%Y-%m-%d') + \" \" + vip_time_df['hits_hour'].astype(str).str.zfill(2) + ':' + vip_time_df['hits_minute'].astype(str).str.zfill(2)\n",
    "vip_time_df['time'] = pd.to_datetime(vip_time_df['time_str'], format='%Y-%m-%d %H:%M')\n",
    "vip_time_df.drop(columns=['time_str'], inplace=True)\n",
    "vip_time_df = vip_time_df.groupby(['visitId'])['time'].agg(['min', 'max']).reset_index()\n",
    "vip_time_df.rename(columns={'min': 'first_hit'}, inplace=True)\n",
    "vip_time_df.rename(columns={'max': 'last_hit'}, inplace=True)\n",
    "vip_time_df['diff_in_mins'] = (vip_time_df['last_hit'] - vip_time_df['first_hit']).dt.total_seconds() / 60\n",
    "\n",
    "#평균\n",
    "mean = vip_time_df['diff_in_mins'].mean()\n",
    "median = vip_time_df['diff_in_mins'].median()\n",
    "print('vip')\n",
    "print(f'평균 체류 시간 {mean} 분')\n",
    "print(f'중간값 체류 시간 {median} 분')\n",
    "\n",
    "#그리기\n",
    "sns.histplot(vip_time_df, x='diff_in_mins')"
   ]
  },
  {
   "cell_type": "code",
   "execution_count": 9,
   "metadata": {},
   "outputs": [
    {
     "name": "stdout",
     "output_type": "stream",
     "text": [
      "plain\n",
      "평균 체류 시간 14.347253363228699 분\n",
      "중간값 체류 시간 11.0 분\n"
     ]
    },
    {
     "data": {
      "text/plain": [
       "<Axes: xlabel='diff_in_mins', ylabel='Count'>"
      ]
     },
     "execution_count": 9,
     "metadata": {},
     "output_type": "execute_result"
    },
    {
     "data": {
      "image/png": "[encoded data removed]",
      "text/plain": [
       "<Figure size 640x480 with 1 Axes>"
      ]
     },
     "metadata": {},
     "output_type": "display_data"
    }
   ],
   "source": [
    "#plain\n",
    "time_df = df[['fullVisitorId', 'visitId', 'visitStartTime', 'hits_hour', 'hits_minute', 'hits_eCommerceAction_action_type', 'totals_totalTransactionRevenue']]\n",
    "plain_time_df = time_df[time_df['fullVisitorId'].isin(plain_ids)]\n",
    "\n",
    "#전체 구매 고객 기준\n",
    "plain_time_df = plain_time_df[plain_time_df['totals_totalTransactionRevenue'] != 0]\n",
    "\n",
    "#first_hit, last_hit\n",
    "plain_time_df['time_str'] = plain_time_df['visitStartTime'].dt.strftime('%Y-%m-%d') + \" \" + plain_time_df['hits_hour'].astype(str).str.zfill(2) + ':' + plain_time_df['hits_minute'].astype(str).str.zfill(2)\n",
    "plain_time_df['time'] = pd.to_datetime(plain_time_df['time_str'], format='%Y-%m-%d %H:%M')\n",
    "plain_time_df.drop(columns=['time_str'], inplace=True)\n",
    "plain_time_df = plain_time_df.groupby(['visitId'])['time'].agg(['min', 'max']).reset_index()\n",
    "plain_time_df.rename(columns={'min': 'first_hit'}, inplace=True)\n",
    "plain_time_df.rename(columns={'max': 'last_hit'}, inplace=True)\n",
    "plain_time_df['diff_in_mins'] = (plain_time_df['last_hit'] - plain_time_df['first_hit']).dt.total_seconds() / 60\n",
    "\n",
    "#평균\n",
    "mean = plain_time_df['diff_in_mins'].mean()\n",
    "median = plain_time_df['diff_in_mins'].median()\n",
    "print('plain')\n",
    "print(f'평균 체류 시간 {mean} 분')\n",
    "print(f'중간값 체류 시간 {median} 분')\n",
    "\n",
    "#그리기\n",
    "sns.histplot(plain_time_df, x='diff_in_mins')"
   ]
  },
  {
   "cell_type": "markdown",
   "metadata": {},
   "source": [
    "vvip 는 평균 22분, plain 은 14분. 전체 고객은 그 사이인 17분. 이 차이는 유의미한 차이일까? 쿠팡의 한달 평균 체류시간은 6분이다. 이에 비하면 17분은 정말 긴데, 그 이유를 전체적으로 찾아보자.\n",
    "\n",
    "http://m.apparelnews.co.kr/news/news_view/?idx=187387\n",
    "\n",
    "vvip 는 왜 오래 머무를까?\n",
    "\n",
    "vvip 는 오래 고민하는 걸까? \n",
    "\n",
    "아니면 vvip 는 다양한 카테고리 상품을 보고 대량 구매를 하기때문에 오래 걸리는 걸까?"
   ]
  },
  {
   "cell_type": "code",
   "execution_count": 10,
   "metadata": {},
   "outputs": [
    {
     "name": "stdout",
     "output_type": "stream",
     "text": [
      "비구매 고객 세션 개수 8.4\n",
      "구매 고객 세션 개수 40.9\n",
      "vvip 세션 개수 114.8\n",
      "plain 세션 개수 47.3\n"
     ]
    }
   ],
   "source": [
    "# vvip = pd.DataFrame(vvip_ids)\n",
    "# vvip.columns = ['vvip_id']\n",
    "# vvip.to_csv('vvip.csv', index=False)\n",
    "# plain = pd.DataFrame(plain_ids)\n",
    "# plain.columns = ['plain_id']\n",
    "# plain.to_csv('plain.csv', index=False)\n",
    "\n",
    "# vvip 의 세션당 평균 구매 횟수 vs plain\n",
    "# vvip 의 세션당 장바구니에 담는 상품 종류 개수 vs plain\n",
    "\n",
    "# vvip 의 세션의 개수를 보기 -- 총량 vs 한번 들어왔을때 -- 이 사람들이 한번사고 끝\n",
    "# vvip 의 상품카테고리를 어떻게 구매하는지 보기 -- 하나의 세션에 사는 카테고리의 개수\n",
    "\n",
    "#일단 구매 vs 비구매\n",
    "# count() 로 하면 웹사이트에 다시 들어오는 것도 횟수로 계산한다.\n",
    "# nunique() 로 하면 접속한 웹사이트 페이지 고유 값으로 계산된다. \n",
    "n1 = round(df[df['totals_totalTransactionRevenue'] == 0].groupby('fullVisitorId')['visitId'].count().mean(), 1)\n",
    "print(f'비구매 고객 세션 개수 {n1}')\n",
    "\n",
    "n2 = round(df[df['totals_totalTransactionRevenue'] != 0].groupby('fullVisitorId')['visitId'].count().mean(), 1)\n",
    "print(f'구매 고객 세션 개수 {n2}')\n",
    "\n",
    "vip = df[df['fullVisitorId'].isin(vvip_ids)]\n",
    "n3 = round(vip.groupby('fullVisitorId')['visitId'].count().mean(), 1)\n",
    "print(f'vvip 세션 개수 {n3}')\n",
    "\n",
    "plain = df[df['fullVisitorId'].isin(plain_ids)]\n",
    "n4 = round(plain.groupby('fullVisitorId')['visitId'].count().mean(), 1)\n",
    "print(f'plain 세션 개수 {n4}')"
   ]
  },
  {
   "cell_type": "code",
   "execution_count": 11,
   "metadata": {},
   "outputs": [],
   "source": [
    "dic = {'label': ['비구매', '구매','0군집', '그외'], 'value': [n1, n2, n3, n4]}\n",
    "pd.DataFrame(dic).to_csv('session_num.csv', index=False)"
   ]
  },
  {
   "cell_type": "markdown",
   "metadata": {},
   "source": [
    "vvip는 압도적으로 더 많은 활동을 한다."
   ]
  },
  {
   "cell_type": "code",
   "execution_count": 12,
   "metadata": {},
   "outputs": [
    {
     "name": "stdout",
     "output_type": "stream",
     "text": [
      "vip 평균 장바구니 추가 횟수 4.7, plain 평균 장바구니 추가 횟수 2.2\n",
      "vip 가 2.0 배 많음\n"
     ]
    }
   ],
   "source": [
    "# 가설 -- vvip 는 사는 제품이 다양해서 오래 걸리는 것이다. \n",
    "\n",
    "# 장바구니 추가 3을 횟수를 카운트. hits_eCommerceAction_action_type\n",
    "# 장바구니 추가로 제품 카테고리의 다양성을 추측할수 있다.\n",
    "\n",
    "add_cart = vip[vip['hits_eCommerceAction_action_type'] == 3]\n",
    "vip_add_cart = add_cart.groupby('visitId')['hits_eCommerceAction_action_type'].count().mean()\n",
    "\n",
    "add_cart = plain[plain['hits_eCommerceAction_action_type'] == 3]\n",
    "plain_add_cart = add_cart.groupby('visitId')['hits_eCommerceAction_action_type'].count().mean()\n",
    "\n",
    "print(f'vip 평균 장바구니 추가 횟수 {round(vip_add_cart, 1)}, plain 평균 장바구니 추가 횟수 {round(plain_add_cart, 1)}')\n",
    "print(f'vip 가 {round(vip_add_cart, 1) // round(plain_add_cart, 1)} 배 많음')"
   ]
  },
  {
   "cell_type": "code",
   "execution_count": 13,
   "metadata": {},
   "outputs": [],
   "source": [
    "dic = {'label': ['군집0', '그외'], 'value': [vip_add_cart, plain_add_cart]}\n",
    "pd.DataFrame(dic).to_csv('add_cart_num.csv', index=False)"
   ]
  },
  {
   "cell_type": "code",
   "execution_count": 14,
   "metadata": {},
   "outputs": [
    {
     "data": {
      "text/plain": [
       "hits_page_pageTitle\n",
       "Home                                                    12.17\n",
       "Shopping Cart                                           11.82\n",
       "Men's T-Shirts | Apparel | Google Merchandise Store      3.58\n",
       "The Google Merchandise Store - Log In                    3.18\n",
       "Men's Outerwear | Apparel | Google Merchandise Store     3.10\n",
       "Name: count, dtype: float64"
      ]
     },
     "execution_count": 14,
     "metadata": {},
     "output_type": "execute_result"
    }
   ],
   "source": [
    "# vvip 랜딩 페이지 확인\n",
    "vip = df[df['fullVisitorId'].isin(vvip_ids)]\n",
    "vip = vip[vip['totals_totalTransactionRevenue'] != 0]\n",
    "total = vip.sort_values('hits_hitNumber').groupby('visitId')['hits_page_pageTitle'].head(1).value_counts().sum()\n",
    "first_page = vip.groupby('visitId')['hits_page_pageTitle'].head(1).value_counts() / total\n",
    "first_page = round(first_page * 100, 2)\n",
    "first_page.head(5)"
   ]
  },
  {
   "cell_type": "code",
   "execution_count": 16,
   "metadata": {},
   "outputs": [],
   "source": [
    "first_page.to_csv('target_landing_page.csv', index=True)"
   ]
  },
  {
   "cell_type": "code",
   "execution_count": 18,
   "metadata": {},
   "outputs": [
    {
     "data": {
      "text/plain": [
       "hits_page_pageTitle\n",
       "Checkout Confirmation                                       21.72\n",
       "Shopping Cart                                               14.67\n",
       "Payment Method                                              11.11\n",
       "Checkout Review                                              8.85\n",
       "Checkout Your Information                                    8.45\n",
       "The Google Merchandise Store - Log In                        3.85\n",
       "The Google Merchandise Store - My Account                    3.61\n",
       "Home                                                         2.72\n",
       "Notebooks & Journals | Office | Google Merchandise Store     1.35\n",
       "Store search results                                         1.32\n",
       "Name: count, dtype: float64"
      ]
     },
     "execution_count": 18,
     "metadata": {},
     "output_type": "execute_result"
    }
   ],
   "source": [
    "# vvip 세션 종료율 먼저 확인\n",
    "# hits_page_pageTitile\n",
    "total = vip.sort_values('hits_hitNumber').groupby('visitId')['hits_page_pageTitle'].tail(1).value_counts().sum()\n",
    "last_page = vip.groupby('visitId')['hits_page_pageTitle'].tail(1).value_counts() / total\n",
    "last_page = round(last_page * 100, 2)\n",
    "last_page.head(10)\n",
    "# 로그인페이지에서 관둔 사람들이 7 % 로 많음."
   ]
  },
  {
   "cell_type": "code",
   "execution_count": 19,
   "metadata": {},
   "outputs": [],
   "source": [
    "last_page.to_csv('target_last_page.csv', index=True)"
   ]
  },
  {
   "cell_type": "code",
   "execution_count": 20,
   "metadata": {},
   "outputs": [
    {
     "data": {
      "text/html": [
       "<div>\n",
       "<style scoped>\n",
       "    .dataframe tbody tr th:only-of-type {\n",
       "        vertical-align: middle;\n",
       "    }\n",
       "\n",
       "    .dataframe tbody tr th {\n",
       "        vertical-align: top;\n",
       "    }\n",
       "\n",
       "    .dataframe thead th {\n",
       "        text-align: right;\n",
       "    }\n",
       "</style>\n",
       "<table border=\"1\" class=\"dataframe\">\n",
       "  <thead>\n",
       "    <tr style=\"text-align: right;\">\n",
       "      <th></th>\n",
       "      <th>hits_page_pageTitle</th>\n",
       "      <th>time_diff</th>\n",
       "    </tr>\n",
       "  </thead>\n",
       "  <tbody>\n",
       "    <tr>\n",
       "      <th>447</th>\n",
       "      <td>Shopping Cart - https://shop.googlemerchandise...</td>\n",
       "      <td>0 days 00:08:00</td>\n",
       "    </tr>\n",
       "    <tr>\n",
       "      <th>525</th>\n",
       "      <td>The Google Merchandise Store/UFO Bluetooth Wat...</td>\n",
       "      <td>0 days 00:04:00</td>\n",
       "    </tr>\n",
       "    <tr>\n",
       "      <th>32</th>\n",
       "      <td>Android Men's Engineer Short Sleeve Tee Charcoal</td>\n",
       "      <td>0 days 00:01:56.470588235</td>\n",
       "    </tr>\n",
       "    <tr>\n",
       "      <th>512</th>\n",
       "      <td>The Google Merchandise Store/Plastic Sliding F...</td>\n",
       "      <td>0 days 00:01:55.384615384</td>\n",
       "    </tr>\n",
       "    <tr>\n",
       "      <th>424</th>\n",
       "      <td>Potencia y Cargadores | Electrónica | Google t...</td>\n",
       "      <td>0 days 00:01:50</td>\n",
       "    </tr>\n",
       "    <tr>\n",
       "      <th>...</th>\n",
       "      <td>...</td>\n",
       "      <td>...</td>\n",
       "    </tr>\n",
       "    <tr>\n",
       "      <th>357</th>\n",
       "      <td>Google botella de agua de 22 oz</td>\n",
       "      <td>0 days 00:00:00</td>\n",
       "    </tr>\n",
       "    <tr>\n",
       "      <th>514</th>\n",
       "      <td>The Google Merchandise Store/PowerClip Lightni...</td>\n",
       "      <td>0 days 00:00:00</td>\n",
       "    </tr>\n",
       "    <tr>\n",
       "      <th>513</th>\n",
       "      <td>The Google Merchandise Store/Pop-a-Point Crayon</td>\n",
       "      <td>0 days 00:00:00</td>\n",
       "    </tr>\n",
       "    <tr>\n",
       "      <th>0</th>\n",
       "      <td>10,400mAh cargador de alta capacidad de Google</td>\n",
       "      <td>0 days 00:00:00</td>\n",
       "    </tr>\n",
       "    <tr>\n",
       "      <th>141</th>\n",
       "      <td>Google Adult Tee Fruit Games Cherries</td>\n",
       "      <td>NaT</td>\n",
       "    </tr>\n",
       "  </tbody>\n",
       "</table>\n",
       "<p>595 rows × 2 columns</p>\n",
       "</div>"
      ],
      "text/plain": [
       "                                   hits_page_pageTitle  \\\n",
       "447  Shopping Cart - https://shop.googlemerchandise...   \n",
       "525  The Google Merchandise Store/UFO Bluetooth Wat...   \n",
       "32    Android Men's Engineer Short Sleeve Tee Charcoal   \n",
       "512  The Google Merchandise Store/Plastic Sliding F...   \n",
       "424  Potencia y Cargadores | Electrónica | Google t...   \n",
       "..                                                 ...   \n",
       "357                    Google botella de agua de 22 oz   \n",
       "514  The Google Merchandise Store/PowerClip Lightni...   \n",
       "513    The Google Merchandise Store/Pop-a-Point Crayon   \n",
       "0       10,400mAh cargador de alta capacidad de Google   \n",
       "141              Google Adult Tee Fruit Games Cherries   \n",
       "\n",
       "                    time_diff  \n",
       "447           0 days 00:08:00  \n",
       "525           0 days 00:04:00  \n",
       "32  0 days 00:01:56.470588235  \n",
       "512 0 days 00:01:55.384615384  \n",
       "424           0 days 00:01:50  \n",
       "..                        ...  \n",
       "357           0 days 00:00:00  \n",
       "514           0 days 00:00:00  \n",
       "513           0 days 00:00:00  \n",
       "0             0 days 00:00:00  \n",
       "141                       NaT  \n",
       "\n",
       "[595 rows x 2 columns]"
      ]
     },
     "execution_count": 20,
     "metadata": {},
     "output_type": "execute_result"
    }
   ],
   "source": [
    "# 체류시간은 대부분 1분 미만인데 초가 없어서 구하지 못함. \n",
    "# hits_page_pageTitile 기준, \n",
    "vip['time_str'] = vip['visitStartTime'].dt.strftime('%Y-%m-%d') + \" \" + vip['hits_hour'].astype(str).str.zfill(2) + ':' + vip['hits_minute'].astype(str).str.zfill(2)\n",
    "vip['time'] = pd.to_datetime(vip['time_str'], format='%Y-%m-%d %H:%M')\n",
    "vip.drop(columns=['time_str'], inplace=True)\n",
    "temp = vip.sort_values('time', ascending=True)\n",
    "\n",
    "temp['time_diff'] = temp.groupby(['visitId'])['time'].diff()\n",
    "# Group the DataFrame by webpage and calculate the average time spent on each webpage\n",
    "time_diff = temp.groupby('hits_page_pageTitle')['time_diff'].mean().reset_index()\n",
    "time_diff.sort_values('time_diff', inplace=True, ascending=False)\n",
    "time_diff\n"
   ]
  },
  {
   "cell_type": "code",
   "execution_count": 21,
   "metadata": {},
   "outputs": [],
   "source": [
    "time_diff.to_csv('target_time_diff.csv', index=False)"
   ]
  },
  {
   "cell_type": "code",
   "execution_count": 22,
   "metadata": {},
   "outputs": [
    {
     "data": {
      "text/html": [
       "<div>\n",
       "<style scoped>\n",
       "    .dataframe tbody tr th:only-of-type {\n",
       "        vertical-align: middle;\n",
       "    }\n",
       "\n",
       "    .dataframe tbody tr th {\n",
       "        vertical-align: top;\n",
       "    }\n",
       "\n",
       "    .dataframe thead th {\n",
       "        text-align: right;\n",
       "    }\n",
       "</style>\n",
       "<table border=\"1\" class=\"dataframe\">\n",
       "  <thead>\n",
       "    <tr style=\"text-align: right;\">\n",
       "      <th></th>\n",
       "      <th>page_title</th>\n",
       "      <th>avg_time_spent</th>\n",
       "    </tr>\n",
       "  </thead>\n",
       "  <tbody>\n",
       "    <tr>\n",
       "      <th>0</th>\n",
       "      <td>Home</td>\n",
       "      <td>0 days 00:00:43.416345142</td>\n",
       "    </tr>\n",
       "    <tr>\n",
       "      <th>1</th>\n",
       "      <td>Store search results</td>\n",
       "      <td>0 days 00:00:17.460518003</td>\n",
       "    </tr>\n",
       "    <tr>\n",
       "      <th>2</th>\n",
       "      <td>The Google Merchandise Store - Log In</td>\n",
       "      <td>0 days 00:00:40.691823899</td>\n",
       "    </tr>\n",
       "    <tr>\n",
       "      <th>3</th>\n",
       "      <td>The Google Merchandise Store - My Account</td>\n",
       "      <td>0 days 00:00:55.622732769</td>\n",
       "    </tr>\n",
       "    <tr>\n",
       "      <th>4</th>\n",
       "      <td>Shopping Cart</td>\n",
       "      <td>0 days 00:00:24.650588311</td>\n",
       "    </tr>\n",
       "    <tr>\n",
       "      <th>5</th>\n",
       "      <td>Payment Method</td>\n",
       "      <td>0 days 00:00:57.075310748</td>\n",
       "    </tr>\n",
       "    <tr>\n",
       "      <th>6</th>\n",
       "      <td>Checkout Review</td>\n",
       "      <td>0 days 00:01:07.720674774</td>\n",
       "    </tr>\n",
       "    <tr>\n",
       "      <th>7</th>\n",
       "      <td>Checkout Confirmation</td>\n",
       "      <td>0 days 00:00:21.778310365</td>\n",
       "    </tr>\n",
       "  </tbody>\n",
       "</table>\n",
       "</div>"
      ],
      "text/plain": [
       "                                  page_title            avg_time_spent\n",
       "0                                       Home 0 days 00:00:43.416345142\n",
       "1                       Store search results 0 days 00:00:17.460518003\n",
       "2      The Google Merchandise Store - Log In 0 days 00:00:40.691823899\n",
       "3  The Google Merchandise Store - My Account 0 days 00:00:55.622732769\n",
       "4                              Shopping Cart 0 days 00:00:24.650588311\n",
       "5                             Payment Method 0 days 00:00:57.075310748\n",
       "6                            Checkout Review 0 days 00:01:07.720674774\n",
       "7                      Checkout Confirmation 0 days 00:00:21.778310365"
      ]
     },
     "execution_count": 22,
     "metadata": {},
     "output_type": "execute_result"
    }
   ],
   "source": [
    "# 홈 페이지의 평균 체류시간을 확인\n",
    "# Home                                                               \n",
    "# The Google Merchandise Store - Log In\n",
    "# The Google Merchandise Store - My Account                               \n",
    "# Shopping Cart                                                                                                                                                    \n",
    "# Payment Method  \n",
    "# Checkout Confirmation \n",
    "# 의 순서로 보고\n",
    "time_spent = vip.sort_values('hits_hitNumber')\n",
    "time_spent['time_spent'] = time_spent.groupby(['visitId'])['time'].diff()\n",
    "\n",
    "result = pd.DataFrame(columns=['page_title', 'avg_time_spent'])\n",
    "lst = [\"Checkout Confirmation\", \"Checkout Review\", \"Payment Method\", \"Shopping Cart\", \"The Google Merchandise Store - My Account\", \"The Google Merchandise Store - Log In\", \"Store search results\",\"Home\"]                                                            \n",
    "for i, page in enumerate(lst):\n",
    "    time = time_spent[time_spent['hits_page_pageTitle'] == page]['time_spent'].mean()\n",
    "    new_row = {'page_title' : page, 'time_spent' : time}\n",
    "    result = pd.concat([pd.DataFrame([[page,time]], columns=result.columns), result], ignore_index=True)\n",
    "\n",
    "result"
   ]
  },
  {
   "cell_type": "code",
   "execution_count": 24,
   "metadata": {},
   "outputs": [],
   "source": [
    "result.to_csv('page_avg_using_time.csv', index=False)"
   ]
  },
  {
   "cell_type": "code",
   "execution_count": 96,
   "metadata": {},
   "outputs": [
    {
     "data": {
      "text/html": [
       "<div>\n",
       "<style scoped>\n",
       "    .dataframe tbody tr th:only-of-type {\n",
       "        vertical-align: middle;\n",
       "    }\n",
       "\n",
       "    .dataframe tbody tr th {\n",
       "        vertical-align: top;\n",
       "    }\n",
       "\n",
       "    .dataframe thead th {\n",
       "        text-align: right;\n",
       "    }\n",
       "</style>\n",
       "<table border=\"1\" class=\"dataframe\">\n",
       "  <thead>\n",
       "    <tr style=\"text-align: right;\">\n",
       "      <th></th>\n",
       "      <th>hits_page_pageTitle</th>\n",
       "      <th>totals_bounces</th>\n",
       "    </tr>\n",
       "  </thead>\n",
       "  <tbody>\n",
       "    <tr>\n",
       "      <th>0</th>\n",
       "      <td>10,400mAh cargador de alta capacidad de Google</td>\n",
       "      <td>0</td>\n",
       "    </tr>\n",
       "    <tr>\n",
       "      <th>391</th>\n",
       "      <td>Men's Softshell Jacket Black/Grey</td>\n",
       "      <td>0</td>\n",
       "    </tr>\n",
       "    <tr>\n",
       "      <th>393</th>\n",
       "      <td>Men's Weatherblock Shell Jacket Black</td>\n",
       "      <td>0</td>\n",
       "    </tr>\n",
       "    <tr>\n",
       "      <th>394</th>\n",
       "      <td>Men's-Outerwear</td>\n",
       "      <td>0</td>\n",
       "    </tr>\n",
       "    <tr>\n",
       "      <th>395</th>\n",
       "      <td>Men's-Performance Wear</td>\n",
       "      <td>0</td>\n",
       "    </tr>\n",
       "    <tr>\n",
       "      <th>...</th>\n",
       "      <td>...</td>\n",
       "      <td>...</td>\n",
       "    </tr>\n",
       "    <tr>\n",
       "      <th>198</th>\n",
       "      <td>Google Men's Lightweight Microfleece Jacket Black</td>\n",
       "      <td>0</td>\n",
       "    </tr>\n",
       "    <tr>\n",
       "      <th>199</th>\n",
       "      <td>Google Men's Long &amp; Lean Tee Charcoal</td>\n",
       "      <td>0</td>\n",
       "    </tr>\n",
       "    <tr>\n",
       "      <th>200</th>\n",
       "      <td>Google Men's Long &amp; Lean Tee Grey</td>\n",
       "      <td>0</td>\n",
       "    </tr>\n",
       "    <tr>\n",
       "      <th>201</th>\n",
       "      <td>Google Men's Long Sleeve Baseball Raglan Cranb...</td>\n",
       "      <td>0</td>\n",
       "    </tr>\n",
       "    <tr>\n",
       "      <th>594</th>\n",
       "      <td>mochilas | bolsas | Google tienda de artículos</td>\n",
       "      <td>0</td>\n",
       "    </tr>\n",
       "  </tbody>\n",
       "</table>\n",
       "<p>595 rows × 2 columns</p>\n",
       "</div>"
      ],
      "text/plain": [
       "                                   hits_page_pageTitle  totals_bounces\n",
       "0       10,400mAh cargador de alta capacidad de Google               0\n",
       "391                  Men's Softshell Jacket Black/Grey               0\n",
       "393              Men's Weatherblock Shell Jacket Black               0\n",
       "394                                    Men's-Outerwear               0\n",
       "395                             Men's-Performance Wear               0\n",
       "..                                                 ...             ...\n",
       "198  Google Men's Lightweight Microfleece Jacket Black               0\n",
       "199              Google Men's Long & Lean Tee Charcoal               0\n",
       "200                  Google Men's Long & Lean Tee Grey               0\n",
       "201  Google Men's Long Sleeve Baseball Raglan Cranb...               0\n",
       "594     mochilas | bolsas | Google tienda de artículos               0\n",
       "\n",
       "[595 rows x 2 columns]"
      ]
     },
     "execution_count": 96,
     "metadata": {},
     "output_type": "execute_result"
    }
   ],
   "source": [
    "# 이탈 -- totals.bounce -- 전부 null 값\n",
    "bounce = vip.sort_values('hits_hitNumber')\n",
    "temp = bounce.groupby(['hits_page_pageTitle'])['totals_bounces'].count().reset_index()\n",
    "temp.sort_values('totals_bounces', ascending=False)"
   ]
  },
  {
   "cell_type": "markdown",
   "metadata": {},
   "source": [
    "Payment Method 페이지에서 11% 가 세션을 종료. 다음 액션까지 평균 57초의 체류시간.\n",
    "\n",
    "Checkout Review 페이지에서 9% 가 세션을 종료. 다음 액션까지 평균 1분 7초의 체류시간.\n"
   ]
  },
  {
   "cell_type": "code",
   "execution_count": 25,
   "metadata": {},
   "outputs": [
    {
     "data": {
      "application/vnd.plotly.v1+json": {
       "config": {
        "plotlyServerURL": "https://plot.ly"
       },
       "data": [
        {
         "type": "funnel",
         "x": [
          169980,
          128298,
          128298,
          128298,
          120318,
          120318
         ],
         "y": [
          "Home",
          "Log-in",
          "Shopping Cart",
          "Payment Method",
          "Checkout Review",
          "Checkout Confirmation"
         ]
        }
       ],
       "layout": {
        "template": {
         "data": {
          "bar": [
           {
            "error_x": {
             "color": "#2a3f5f"
            },
            "error_y": {
             "color": "#2a3f5f"
            },
            "marker": {
             "line": {
              "color": "#E5ECF6",
              "width": 0.5
             },
             "pattern": {
              "fillmode": "overlay",
              "size": 10,
              "solidity": 0.2
             }
            },
            "type": "bar"
           }
          ],
          "barpolar": [
           {
            "marker": {
             "line": {
              "color": "#E5ECF6",
              "width": 0.5
             },
             "pattern": {
              "fillmode": "overlay",
              "size": 10,
              "solidity": 0.2
             }
            },
            "type": "barpolar"
           }
          ],
          "carpet": [
           {
            "aaxis": {
             "endlinecolor": "#2a3f5f",
             "gridcolor": "white",
             "linecolor": "white",
             "minorgridcolor": "white",
             "startlinecolor": "#2a3f5f"
            },
            "baxis": {
             "endlinecolor": "#2a3f5f",
             "gridcolor": "white",
             "linecolor": "white",
             "minorgridcolor": "white",
             "startlinecolor": "#2a3f5f"
            },
            "type": "carpet"
           }
          ],
          "choropleth": [
           {
            "colorbar": {
             "outlinewidth": 0,
             "ticks": ""
            },
            "type": "choropleth"
           }
          ],
          "contour": [
           {
            "colorbar": {
             "outlinewidth": 0,
             "ticks": ""
            },
            "colorscale": [
             [
              0,
              "#0d0887"
             ],
             [
              0.1111111111111111,
              "#46039f"
             ],
             [
              0.2222222222222222,
              "#7201a8"
             ],
             [
              0.3333333333333333,
              "#9c179e"
             ],
             [
              0.4444444444444444,
              "#bd3786"
             ],
             [
              0.5555555555555556,
              "#d8576b"
             ],
             [
              0.6666666666666666,
              "#ed7953"
             ],
             [
              0.7777777777777778,
              "#fb9f3a"
             ],
             [
              0.8888888888888888,
              "#fdca26"
             ],
             [
              1,
              "#f0f921"
             ]
            ],
            "type": "contour"
           }
          ],
          "contourcarpet": [
           {
            "colorbar": {
             "outlinewidth": 0,
             "ticks": ""
            },
            "type": "contourcarpet"
           }
          ],
          "heatmap": [
           {
            "colorbar": {
             "outlinewidth": 0,
             "ticks": ""
            },
            "colorscale": [
             [
              0,
              "#0d0887"
             ],
             [
              0.1111111111111111,
              "#46039f"
             ],
             [
              0.2222222222222222,
              "#7201a8"
             ],
             [
              0.3333333333333333,
              "#9c179e"
             ],
             [
              0.4444444444444444,
              "#bd3786"
             ],
             [
              0.5555555555555556,
              "#d8576b"
             ],
             [
              0.6666666666666666,
              "#ed7953"
             ],
             [
              0.7777777777777778,
              "#fb9f3a"
             ],
             [
              0.8888888888888888,
              "#fdca26"
             ],
             [
              1,
              "#f0f921"
             ]
            ],
            "type": "heatmap"
           }
          ],
          "heatmapgl": [
           {
            "colorbar": {
             "outlinewidth": 0,
             "ticks": ""
            },
            "colorscale": [
             [
              0,
              "#0d0887"
             ],
             [
              0.1111111111111111,
              "#46039f"
             ],
             [
              0.2222222222222222,
              "#7201a8"
             ],
             [
              0.3333333333333333,
              "#9c179e"
             ],
             [
              0.4444444444444444,
              "#bd3786"
             ],
             [
              0.5555555555555556,
              "#d8576b"
             ],
             [
              0.6666666666666666,
              "#ed7953"
             ],
             [
              0.7777777777777778,
              "#fb9f3a"
             ],
             [
              0.8888888888888888,
              "#fdca26"
             ],
             [
              1,
              "#f0f921"
             ]
            ],
            "type": "heatmapgl"
           }
          ],
          "histogram": [
           {
            "marker": {
             "pattern": {
              "fillmode": "overlay",
              "size": 10,
              "solidity": 0.2
             }
            },
            "type": "histogram"
           }
          ],
          "histogram2d": [
           {
            "colorbar": {
             "outlinewidth": 0,
             "ticks": ""
            },
            "colorscale": [
             [
              0,
              "#0d0887"
             ],
             [
              0.1111111111111111,
              "#46039f"
             ],
             [
              0.2222222222222222,
              "#7201a8"
             ],
             [
              0.3333333333333333,
              "#9c179e"
             ],
             [
              0.4444444444444444,
              "#bd3786"
             ],
             [
              0.5555555555555556,
              "#d8576b"
             ],
             [
              0.6666666666666666,
              "#ed7953"
             ],
             [
              0.7777777777777778,
              "#fb9f3a"
             ],
             [
              0.8888888888888888,
              "#fdca26"
             ],
             [
              1,
              "#f0f921"
             ]
            ],
            "type": "histogram2d"
           }
          ],
          "histogram2dcontour": [
           {
            "colorbar": {
             "outlinewidth": 0,
             "ticks": ""
            },
            "colorscale": [
             [
              0,
              "#0d0887"
             ],
             [
              0.1111111111111111,
              "#46039f"
             ],
             [
              0.2222222222222222,
              "#7201a8"
             ],
             [
              0.3333333333333333,
              "#9c179e"
             ],
             [
              0.4444444444444444,
              "#bd3786"
             ],
             [
              0.5555555555555556,
              "#d8576b"
             ],
             [
              0.6666666666666666,
              "#ed7953"
             ],
             [
              0.7777777777777778,
              "#fb9f3a"
             ],
             [
              0.8888888888888888,
              "#fdca26"
             ],
             [
              1,
              "#f0f921"
             ]
            ],
            "type": "histogram2dcontour"
           }
          ],
          "mesh3d": [
           {
            "colorbar": {
             "outlinewidth": 0,
             "ticks": ""
            },
            "type": "mesh3d"
           }
          ],
          "parcoords": [
           {
            "line": {
             "colorbar": {
              "outlinewidth": 0,
              "ticks": ""
             }
            },
            "type": "parcoords"
           }
          ],
          "pie": [
           {
            "automargin": true,
            "type": "pie"
           }
          ],
          "scatter": [
           {
            "fillpattern": {
             "fillmode": "overlay",
             "size": 10,
             "solidity": 0.2
            },
            "type": "scatter"
           }
          ],
          "scatter3d": [
           {
            "line": {
             "colorbar": {
              "outlinewidth": 0,
              "ticks": ""
             }
            },
            "marker": {
             "colorbar": {
              "outlinewidth": 0,
              "ticks": ""
             }
            },
            "type": "scatter3d"
           }
          ],
          "scattercarpet": [
           {
            "marker": {
             "colorbar": {
              "outlinewidth": 0,
              "ticks": ""
             }
            },
            "type": "scattercarpet"
           }
          ],
          "scattergeo": [
           {
            "marker": {
             "colorbar": {
              "outlinewidth": 0,
              "ticks": ""
             }
            },
            "type": "scattergeo"
           }
          ],
          "scattergl": [
           {
            "marker": {
             "colorbar": {
              "outlinewidth": 0,
              "ticks": ""
             }
            },
            "type": "scattergl"
           }
          ],
          "scattermapbox": [
           {
            "marker": {
             "colorbar": {
              "outlinewidth": 0,
              "ticks": ""
             }
            },
            "type": "scattermapbox"
           }
          ],
          "scatterpolar": [
           {
            "marker": {
             "colorbar": {
              "outlinewidth": 0,
              "ticks": ""
             }
            },
            "type": "scatterpolar"
           }
          ],
          "scatterpolargl": [
           {
            "marker": {
             "colorbar": {
              "outlinewidth": 0,
              "ticks": ""
             }
            },
            "type": "scatterpolargl"
           }
          ],
          "scatterternary": [
           {
            "marker": {
             "colorbar": {
              "outlinewidth": 0,
              "ticks": ""
             }
            },
            "type": "scatterternary"
           }
          ],
          "surface": [
           {
            "colorbar": {
             "outlinewidth": 0,
             "ticks": ""
            },
            "colorscale": [
             [
              0,
              "#0d0887"
             ],
             [
              0.1111111111111111,
              "#46039f"
             ],
             [
              0.2222222222222222,
              "#7201a8"
             ],
             [
              0.3333333333333333,
              "#9c179e"
             ],
             [
              0.4444444444444444,
              "#bd3786"
             ],
             [
              0.5555555555555556,
              "#d8576b"
             ],
             [
              0.6666666666666666,
              "#ed7953"
             ],
             [
              0.7777777777777778,
              "#fb9f3a"
             ],
             [
              0.8888888888888888,
              "#fdca26"
             ],
             [
              1,
              "#f0f921"
             ]
            ],
            "type": "surface"
           }
          ],
          "table": [
           {
            "cells": {
             "fill": {
              "color": "#EBF0F8"
             },
             "line": {
              "color": "white"
             }
            },
            "header": {
             "fill": {
              "color": "#C8D4E3"
             },
             "line": {
              "color": "white"
             }
            },
            "type": "table"
           }
          ]
         },
         "layout": {
          "annotationdefaults": {
           "arrowcolor": "#2a3f5f",
           "arrowhead": 0,
           "arrowwidth": 1
          },
          "autotypenumbers": "strict",
          "coloraxis": {
           "colorbar": {
            "outlinewidth": 0,
            "ticks": ""
           }
          },
          "colorscale": {
           "diverging": [
            [
             0,
             "#8e0152"
            ],
            [
             0.1,
             "#c51b7d"
            ],
            [
             0.2,
             "#de77ae"
            ],
            [
             0.3,
             "#f1b6da"
            ],
            [
             0.4,
             "#fde0ef"
            ],
            [
             0.5,
             "#f7f7f7"
            ],
            [
             0.6,
             "#e6f5d0"
            ],
            [
             0.7,
             "#b8e186"
            ],
            [
             0.8,
             "#7fbc41"
            ],
            [
             0.9,
             "#4d9221"
            ],
            [
             1,
             "#276419"
            ]
           ],
           "sequential": [
            [
             0,
             "#0d0887"
            ],
            [
             0.1111111111111111,
             "#46039f"
            ],
            [
             0.2222222222222222,
             "#7201a8"
            ],
            [
             0.3333333333333333,
             "#9c179e"
            ],
            [
             0.4444444444444444,
             "#bd3786"
            ],
            [
             0.5555555555555556,
             "#d8576b"
            ],
            [
             0.6666666666666666,
             "#ed7953"
            ],
            [
             0.7777777777777778,
             "#fb9f3a"
            ],
            [
             0.8888888888888888,
             "#fdca26"
            ],
            [
             1,
             "#f0f921"
            ]
           ],
           "sequentialminus": [
            [
             0,
             "#0d0887"
            ],
            [
             0.1111111111111111,
             "#46039f"
            ],
            [
             0.2222222222222222,
             "#7201a8"
            ],
            [
             0.3333333333333333,
             "#9c179e"
            ],
            [
             0.4444444444444444,
             "#bd3786"
            ],
            [
             0.5555555555555556,
             "#d8576b"
            ],
            [
             0.6666666666666666,
             "#ed7953"
            ],
            [
             0.7777777777777778,
             "#fb9f3a"
            ],
            [
             0.8888888888888888,
             "#fdca26"
            ],
            [
             1,
             "#f0f921"
            ]
           ]
          },
          "colorway": [
           "#636efa",
           "#EF553B",
           "#00cc96",
           "#ab63fa",
           "#FFA15A",
           "#19d3f3",
           "#FF6692",
           "#B6E880",
           "#FF97FF",
           "#FECB52"
          ],
          "font": {
           "color": "#2a3f5f"
          },
          "geo": {
           "bgcolor": "white",
           "lakecolor": "white",
           "landcolor": "#E5ECF6",
           "showlakes": true,
           "showland": true,
           "subunitcolor": "white"
          },
          "hoverlabel": {
           "align": "left"
          },
          "hovermode": "closest",
          "mapbox": {
           "style": "light"
          },
          "paper_bgcolor": "white",
          "plot_bgcolor": "#E5ECF6",
          "polar": {
           "angularaxis": {
            "gridcolor": "white",
            "linecolor": "white",
            "ticks": ""
           },
           "bgcolor": "#E5ECF6",
           "radialaxis": {
            "gridcolor": "white",
            "linecolor": "white",
            "ticks": ""
           }
          },
          "scene": {
           "xaxis": {
            "backgroundcolor": "#E5ECF6",
            "gridcolor": "white",
            "gridwidth": 2,
            "linecolor": "white",
            "showbackground": true,
            "ticks": "",
            "zerolinecolor": "white"
           },
           "yaxis": {
            "backgroundcolor": "#E5ECF6",
            "gridcolor": "white",
            "gridwidth": 2,
            "linecolor": "white",
            "showbackground": true,
            "ticks": "",
            "zerolinecolor": "white"
           },
           "zaxis": {
            "backgroundcolor": "#E5ECF6",
            "gridcolor": "white",
            "gridwidth": 2,
            "linecolor": "white",
            "showbackground": true,
            "ticks": "",
            "zerolinecolor": "white"
           }
          },
          "shapedefaults": {
           "line": {
            "color": "#2a3f5f"
           }
          },
          "ternary": {
           "aaxis": {
            "gridcolor": "white",
            "linecolor": "white",
            "ticks": ""
           },
           "baxis": {
            "gridcolor": "white",
            "linecolor": "white",
            "ticks": ""
           },
           "bgcolor": "#E5ECF6",
           "caxis": {
            "gridcolor": "white",
            "linecolor": "white",
            "ticks": ""
           }
          },
          "title": {
           "x": 0.05
          },
          "xaxis": {
           "automargin": true,
           "gridcolor": "white",
           "linecolor": "white",
           "ticks": "",
           "title": {
            "standoff": 15
           },
           "zerolinecolor": "white",
           "zerolinewidth": 2
          },
          "yaxis": {
           "automargin": true,
           "gridcolor": "white",
           "linecolor": "white",
           "ticks": "",
           "title": {
            "standoff": 15
           },
           "zerolinecolor": "white",
           "zerolinewidth": 2
          }
         }
        }
       }
      }
     },
     "metadata": {},
     "output_type": "display_data"
    }
   ],
   "source": [
    "# The Google Merchandise Store - Home --> Log In --> Shopping Cart --> payment method --> checkout Review --> Checkout Confirmation 이 정상적인 흐름이라고 생각함.\n",
    "# vip 잔존률 (세션 기준)\n",
    "vip = df[df['fullVisitorId'].isin(vvip_ids)]\n",
    "vip = vip[vip['totals_totalTransactionRevenue'] != 0]\n",
    "\n",
    "selected = vip.groupby('visitId').filter(lambda x: (\"Home\" in x['hits_page_pageTitle'].values))\n",
    "home = selected['visitId'].count()\n",
    "\n",
    "selected = selected.groupby('visitId').filter(lambda x: (\"The Google Merchandise Store - Log In\" in x['hits_page_pageTitle'].values))\n",
    "login = selected['visitId'].count()\n",
    "\n",
    "selected = selected.groupby('visitId').filter(lambda x: (\"Shopping Cart\" in x['hits_page_pageTitle'].values))\n",
    "cart = selected['visitId'].count()\n",
    "\n",
    "selected = selected.groupby('visitId').filter(lambda x: (\"Payment Method\" in x['hits_page_pageTitle'].values))\n",
    "payment = selected['visitId'].count()\n",
    "\n",
    "selected = selected.groupby('visitId').filter(lambda x: (\"Checkout Review\" in x['hits_page_pageTitle'].values))\n",
    "review = selected['visitId'].count()\n",
    "\n",
    "selected = selected.groupby('visitId').filter(lambda x: (\"Checkout Confirmation\" in x['hits_page_pageTitle'].values))\n",
    "confirmation = selected['visitId'].count()\n",
    "\n",
    "# 퍼널 분석 시각화\n",
    "result = pd.DataFrame(columns=['stage', 'number'])\n",
    "stages =[\"Home\", \"Log-in\", \"Shopping Cart\", \"Payment Method\", \"Checkout Review\", \"Checkout Confirmation\"]\n",
    "numbers =[home, login, cart, payment, review, confirmation]\n",
    "\n",
    "from plotly import graph_objects as go\n",
    "\n",
    "fig = go.Figure(go.Funnel(\n",
    "    y = stages,\n",
    "    x = numbers))\n",
    "\n",
    "fig.show()"
   ]
  },
  {
   "cell_type": "code",
   "execution_count": 28,
   "metadata": {},
   "outputs": [],
   "source": [
    "stages =[\"Home\", \"Log-in\", \"Shopping Cart\", \"Payment Method\", \"Checkout Review\", \"Checkout Confirmation\"]\n",
    "numbers =[home, login, cart, payment, review, confirmation]\n",
    "dic = {'label': stages, 'val': numbers}\n",
    "pd.DataFrame(dic).to_csv('target_funnel.csv', index=False)"
   ]
  },
  {
   "cell_type": "markdown",
   "metadata": {},
   "source": [
    "vip 거의 모두 정상적인 흐름을 따른다."
   ]
  },
  {
   "cell_type": "code",
   "execution_count": 119,
   "metadata": {},
   "outputs": [
    {
     "data": {
      "application/vnd.plotly.v1+json": {
       "config": {
        "plotlyServerURL": "https://plot.ly"
       },
       "data": [
        {
         "type": "funnel",
         "x": [
          176002,
          138663,
          138632,
          138584,
          119612,
          119612
         ],
         "y": [
          "Home",
          "Log-in",
          "Shopping Cart",
          "Payment Method",
          "Checkout Review",
          "Checkout Confirmation"
         ]
        }
       ],
       "layout": {
        "template": {
         "data": {
          "bar": [
           {
            "error_x": {
             "color": "#2a3f5f"
            },
            "error_y": {
             "color": "#2a3f5f"
            },
            "marker": {
             "line": {
              "color": "#E5ECF6",
              "width": 0.5
             },
             "pattern": {
              "fillmode": "overlay",
              "size": 10,
              "solidity": 0.2
             }
            },
            "type": "bar"
           }
          ],
          "barpolar": [
           {
            "marker": {
             "line": {
              "color": "#E5ECF6",
              "width": 0.5
             },
             "pattern": {
              "fillmode": "overlay",
              "size": 10,
              "solidity": 0.2
             }
            },
            "type": "barpolar"
           }
          ],
          "carpet": [
           {
            "aaxis": {
             "endlinecolor": "#2a3f5f",
             "gridcolor": "white",
             "linecolor": "white",
             "minorgridcolor": "white",
             "startlinecolor": "#2a3f5f"
            },
            "baxis": {
             "endlinecolor": "#2a3f5f",
             "gridcolor": "white",
             "linecolor": "white",
             "minorgridcolor": "white",
             "startlinecolor": "#2a3f5f"
            },
            "type": "carpet"
           }
          ],
          "choropleth": [
           {
            "colorbar": {
             "outlinewidth": 0,
             "ticks": ""
            },
            "type": "choropleth"
           }
          ],
          "contour": [
           {
            "colorbar": {
             "outlinewidth": 0,
             "ticks": ""
            },
            "colorscale": [
             [
              0,
              "#0d0887"
             ],
             [
              0.1111111111111111,
              "#46039f"
             ],
             [
              0.2222222222222222,
              "#7201a8"
             ],
             [
              0.3333333333333333,
              "#9c179e"
             ],
             [
              0.4444444444444444,
              "#bd3786"
             ],
             [
              0.5555555555555556,
              "#d8576b"
             ],
             [
              0.6666666666666666,
              "#ed7953"
             ],
             [
              0.7777777777777778,
              "#fb9f3a"
             ],
             [
              0.8888888888888888,
              "#fdca26"
             ],
             [
              1,
              "#f0f921"
             ]
            ],
            "type": "contour"
           }
          ],
          "contourcarpet": [
           {
            "colorbar": {
             "outlinewidth": 0,
             "ticks": ""
            },
            "type": "contourcarpet"
           }
          ],
          "heatmap": [
           {
            "colorbar": {
             "outlinewidth": 0,
             "ticks": ""
            },
            "colorscale": [
             [
              0,
              "#0d0887"
             ],
             [
              0.1111111111111111,
              "#46039f"
             ],
             [
              0.2222222222222222,
              "#7201a8"
             ],
             [
              0.3333333333333333,
              "#9c179e"
             ],
             [
              0.4444444444444444,
              "#bd3786"
             ],
             [
              0.5555555555555556,
              "#d8576b"
             ],
             [
              0.6666666666666666,
              "#ed7953"
             ],
             [
              0.7777777777777778,
              "#fb9f3a"
             ],
             [
              0.8888888888888888,
              "#fdca26"
             ],
             [
              1,
              "#f0f921"
             ]
            ],
            "type": "heatmap"
           }
          ],
          "heatmapgl": [
           {
            "colorbar": {
             "outlinewidth": 0,
             "ticks": ""
            },
            "colorscale": [
             [
              0,
              "#0d0887"
             ],
             [
              0.1111111111111111,
              "#46039f"
             ],
             [
              0.2222222222222222,
              "#7201a8"
             ],
             [
              0.3333333333333333,
              "#9c179e"
             ],
             [
              0.4444444444444444,
              "#bd3786"
             ],
             [
              0.5555555555555556,
              "#d8576b"
             ],
             [
              0.6666666666666666,
              "#ed7953"
             ],
             [
              0.7777777777777778,
              "#fb9f3a"
             ],
             [
              0.8888888888888888,
              "#fdca26"
             ],
             [
              1,
              "#f0f921"
             ]
            ],
            "type": "heatmapgl"
           }
          ],
          "histogram": [
           {
            "marker": {
             "pattern": {
              "fillmode": "overlay",
              "size": 10,
              "solidity": 0.2
             }
            },
            "type": "histogram"
           }
          ],
          "histogram2d": [
           {
            "colorbar": {
             "outlinewidth": 0,
             "ticks": ""
            },
            "colorscale": [
             [
              0,
              "#0d0887"
             ],
             [
              0.1111111111111111,
              "#46039f"
             ],
             [
              0.2222222222222222,
              "#7201a8"
             ],
             [
              0.3333333333333333,
              "#9c179e"
             ],
             [
              0.4444444444444444,
              "#bd3786"
             ],
             [
              0.5555555555555556,
              "#d8576b"
             ],
             [
              0.6666666666666666,
              "#ed7953"
             ],
             [
              0.7777777777777778,
              "#fb9f3a"
             ],
             [
              0.8888888888888888,
              "#fdca26"
             ],
             [
              1,
              "#f0f921"
             ]
            ],
            "type": "histogram2d"
           }
          ],
          "histogram2dcontour": [
           {
            "colorbar": {
             "outlinewidth": 0,
             "ticks": ""
            },
            "colorscale": [
             [
              0,
              "#0d0887"
             ],
             [
              0.1111111111111111,
              "#46039f"
             ],
             [
              0.2222222222222222,
              "#7201a8"
             ],
             [
              0.3333333333333333,
              "#9c179e"
             ],
             [
              0.4444444444444444,
              "#bd3786"
             ],
             [
              0.5555555555555556,
              "#d8576b"
             ],
             [
              0.6666666666666666,
              "#ed7953"
             ],
             [
              0.7777777777777778,
              "#fb9f3a"
             ],
             [
              0.8888888888888888,
              "#fdca26"
             ],
             [
              1,
              "#f0f921"
             ]
            ],
            "type": "histogram2dcontour"
           }
          ],
          "mesh3d": [
           {
            "colorbar": {
             "outlinewidth": 0,
             "ticks": ""
            },
            "type": "mesh3d"
           }
          ],
          "parcoords": [
           {
            "line": {
             "colorbar": {
              "outlinewidth": 0,
              "ticks": ""
             }
            },
            "type": "parcoords"
           }
          ],
          "pie": [
           {
            "automargin": true,
            "type": "pie"
           }
          ],
          "scatter": [
           {
            "fillpattern": {
             "fillmode": "overlay",
             "size": 10,
             "solidity": 0.2
            },
            "type": "scatter"
           }
          ],
          "scatter3d": [
           {
            "line": {
             "colorbar": {
              "outlinewidth": 0,
              "ticks": ""
             }
            },
            "marker": {
             "colorbar": {
              "outlinewidth": 0,
              "ticks": ""
             }
            },
            "type": "scatter3d"
           }
          ],
          "scattercarpet": [
           {
            "marker": {
             "colorbar": {
              "outlinewidth": 0,
              "ticks": ""
             }
            },
            "type": "scattercarpet"
           }
          ],
          "scattergeo": [
           {
            "marker": {
             "colorbar": {
              "outlinewidth": 0,
              "ticks": ""
             }
            },
            "type": "scattergeo"
           }
          ],
          "scattergl": [
           {
            "marker": {
             "colorbar": {
              "outlinewidth": 0,
              "ticks": ""
             }
            },
            "type": "scattergl"
           }
          ],
          "scattermapbox": [
           {
            "marker": {
             "colorbar": {
              "outlinewidth": 0,
              "ticks": ""
             }
            },
            "type": "scattermapbox"
           }
          ],
          "scatterpolar": [
           {
            "marker": {
             "colorbar": {
              "outlinewidth": 0,
              "ticks": ""
             }
            },
            "type": "scatterpolar"
           }
          ],
          "scatterpolargl": [
           {
            "marker": {
             "colorbar": {
              "outlinewidth": 0,
              "ticks": ""
             }
            },
            "type": "scatterpolargl"
           }
          ],
          "scatterternary": [
           {
            "marker": {
             "colorbar": {
              "outlinewidth": 0,
              "ticks": ""
             }
            },
            "type": "scatterternary"
           }
          ],
          "surface": [
           {
            "colorbar": {
             "outlinewidth": 0,
             "ticks": ""
            },
            "colorscale": [
             [
              0,
              "#0d0887"
             ],
             [
              0.1111111111111111,
              "#46039f"
             ],
             [
              0.2222222222222222,
              "#7201a8"
             ],
             [
              0.3333333333333333,
              "#9c179e"
             ],
             [
              0.4444444444444444,
              "#bd3786"
             ],
             [
              0.5555555555555556,
              "#d8576b"
             ],
             [
              0.6666666666666666,
              "#ed7953"
             ],
             [
              0.7777777777777778,
              "#fb9f3a"
             ],
             [
              0.8888888888888888,
              "#fdca26"
             ],
             [
              1,
              "#f0f921"
             ]
            ],
            "type": "surface"
           }
          ],
          "table": [
           {
            "cells": {
             "fill": {
              "color": "#EBF0F8"
             },
             "line": {
              "color": "white"
             }
            },
            "header": {
             "fill": {
              "color": "#C8D4E3"
             },
             "line": {
              "color": "white"
             }
            },
            "type": "table"
           }
          ]
         },
         "layout": {
          "annotationdefaults": {
           "arrowcolor": "#2a3f5f",
           "arrowhead": 0,
           "arrowwidth": 1
          },
          "autotypenumbers": "strict",
          "coloraxis": {
           "colorbar": {
            "outlinewidth": 0,
            "ticks": ""
           }
          },
          "colorscale": {
           "diverging": [
            [
             0,
             "#8e0152"
            ],
            [
             0.1,
             "#c51b7d"
            ],
            [
             0.2,
             "#de77ae"
            ],
            [
             0.3,
             "#f1b6da"
            ],
            [
             0.4,
             "#fde0ef"
            ],
            [
             0.5,
             "#f7f7f7"
            ],
            [
             0.6,
             "#e6f5d0"
            ],
            [
             0.7,
             "#b8e186"
            ],
            [
             0.8,
             "#7fbc41"
            ],
            [
             0.9,
             "#4d9221"
            ],
            [
             1,
             "#276419"
            ]
           ],
           "sequential": [
            [
             0,
             "#0d0887"
            ],
            [
             0.1111111111111111,
             "#46039f"
            ],
            [
             0.2222222222222222,
             "#7201a8"
            ],
            [
             0.3333333333333333,
             "#9c179e"
            ],
            [
             0.4444444444444444,
             "#bd3786"
            ],
            [
             0.5555555555555556,
             "#d8576b"
            ],
            [
             0.6666666666666666,
             "#ed7953"
            ],
            [
             0.7777777777777778,
             "#fb9f3a"
            ],
            [
             0.8888888888888888,
             "#fdca26"
            ],
            [
             1,
             "#f0f921"
            ]
           ],
           "sequentialminus": [
            [
             0,
             "#0d0887"
            ],
            [
             0.1111111111111111,
             "#46039f"
            ],
            [
             0.2222222222222222,
             "#7201a8"
            ],
            [
             0.3333333333333333,
             "#9c179e"
            ],
            [
             0.4444444444444444,
             "#bd3786"
            ],
            [
             0.5555555555555556,
             "#d8576b"
            ],
            [
             0.6666666666666666,
             "#ed7953"
            ],
            [
             0.7777777777777778,
             "#fb9f3a"
            ],
            [
             0.8888888888888888,
             "#fdca26"
            ],
            [
             1,
             "#f0f921"
            ]
           ]
          },
          "colorway": [
           "#636efa",
           "#EF553B",
           "#00cc96",
           "#ab63fa",
           "#FFA15A",
           "#19d3f3",
           "#FF6692",
           "#B6E880",
           "#FF97FF",
           "#FECB52"
          ],
          "font": {
           "color": "#2a3f5f"
          },
          "geo": {
           "bgcolor": "white",
           "lakecolor": "white",
           "landcolor": "#E5ECF6",
           "showlakes": true,
           "showland": true,
           "subunitcolor": "white"
          },
          "hoverlabel": {
           "align": "left"
          },
          "hovermode": "closest",
          "mapbox": {
           "style": "light"
          },
          "paper_bgcolor": "white",
          "plot_bgcolor": "#E5ECF6",
          "polar": {
           "angularaxis": {
            "gridcolor": "white",
            "linecolor": "white",
            "ticks": ""
           },
           "bgcolor": "#E5ECF6",
           "radialaxis": {
            "gridcolor": "white",
            "linecolor": "white",
            "ticks": ""
           }
          },
          "scene": {
           "xaxis": {
            "backgroundcolor": "#E5ECF6",
            "gridcolor": "white",
            "gridwidth": 2,
            "linecolor": "white",
            "showbackground": true,
            "ticks": "",
            "zerolinecolor": "white"
           },
           "yaxis": {
            "backgroundcolor": "#E5ECF6",
            "gridcolor": "white",
            "gridwidth": 2,
            "linecolor": "white",
            "showbackground": true,
            "ticks": "",
            "zerolinecolor": "white"
           },
           "zaxis": {
            "backgroundcolor": "#E5ECF6",
            "gridcolor": "white",
            "gridwidth": 2,
            "linecolor": "white",
            "showbackground": true,
            "ticks": "",
            "zerolinecolor": "white"
           }
          },
          "shapedefaults": {
           "line": {
            "color": "#2a3f5f"
           }
          },
          "ternary": {
           "aaxis": {
            "gridcolor": "white",
            "linecolor": "white",
            "ticks": ""
           },
           "baxis": {
            "gridcolor": "white",
            "linecolor": "white",
            "ticks": ""
           },
           "bgcolor": "#E5ECF6",
           "caxis": {
            "gridcolor": "white",
            "linecolor": "white",
            "ticks": ""
           }
          },
          "title": {
           "x": 0.05
          },
          "xaxis": {
           "automargin": true,
           "gridcolor": "white",
           "linecolor": "white",
           "ticks": "",
           "title": {
            "standoff": 15
           },
           "zerolinecolor": "white",
           "zerolinewidth": 2
          },
          "yaxis": {
           "automargin": true,
           "gridcolor": "white",
           "linecolor": "white",
           "ticks": "",
           "title": {
            "standoff": 15
           },
           "zerolinecolor": "white",
           "zerolinewidth": 2
          }
         }
        }
       }
      }
     },
     "metadata": {},
     "output_type": "display_data"
    }
   ],
   "source": [
    "# plain 은?\n",
    "plain = df[df['fullVisitorId'].isin(plain_ids)]\n",
    "plain = plain[plain['totals_totalTransactionRevenue'] != 0]\n",
    "\n",
    "selected = plain.groupby('visitId').filter(lambda x: (\"Home\" in x['hits_page_pageTitle'].values))\n",
    "home = selected['visitId'].count()\n",
    "\n",
    "selected = selected.groupby('visitId').filter(lambda x: (\"The Google Merchandise Store - Log In\" in x['hits_page_pageTitle'].values))\n",
    "login = selected['visitId'].count()\n",
    "\n",
    "selected = selected.groupby('visitId').filter(lambda x: (\"Shopping Cart\" in x['hits_page_pageTitle'].values))\n",
    "cart = selected['visitId'].count()\n",
    "\n",
    "selected = selected.groupby('visitId').filter(lambda x: (\"Payment Method\" in x['hits_page_pageTitle'].values))\n",
    "payment = selected['visitId'].count()\n",
    "\n",
    "selected = selected.groupby('visitId').filter(lambda x: (\"Checkout Review\" in x['hits_page_pageTitle'].values))\n",
    "review = selected['visitId'].count()\n",
    "\n",
    "selected = selected.groupby('visitId').filter(lambda x: (\"Checkout Confirmation\" in x['hits_page_pageTitle'].values))\n",
    "confirmation = selected['visitId'].count()\n",
    "\n",
    "# 퍼널 분석 시각화\n",
    "result = pd.DataFrame(columns=['stage', 'number'])\n",
    "stages =[\"Home\", \"Log-in\", \"Shopping Cart\", \"Payment Method\", \"Checkout Review\", \"Checkout Confirmation\"]\n",
    "numbers =[home, login, cart, payment, review, confirmation]\n",
    "\n",
    "from plotly import graph_objects as go\n",
    "\n",
    "fig = go.Figure(go.Funnel(\n",
    "    y = stages,\n",
    "    x = numbers))\n",
    "\n",
    "fig.show()"
   ]
  },
  {
   "cell_type": "markdown",
   "metadata": {},
   "source": []
  },
  {
   "cell_type": "markdown",
   "metadata": {},
   "source": [
    "plain 고객 또한 마찬가지."
   ]
  },
  {
   "cell_type": "code",
   "execution_count": 29,
   "metadata": {},
   "outputs": [
    {
     "data": {
      "application/vnd.plotly.v1+json": {
       "config": {
        "plotlyServerURL": "https://plot.ly"
       },
       "data": [
        {
         "type": "funnel",
         "x": [
          1680201,
          370514,
          288008,
          125243,
          47348,
          19591
         ],
         "y": [
          "Home",
          "Log-in",
          "Shopping Cart",
          "Payment Method",
          "Checkout Review",
          "Checkout Confirmation"
         ]
        }
       ],
       "layout": {
        "template": {
         "data": {
          "bar": [
           {
            "error_x": {
             "color": "#2a3f5f"
            },
            "error_y": {
             "color": "#2a3f5f"
            },
            "marker": {
             "line": {
              "color": "#E5ECF6",
              "width": 0.5
             },
             "pattern": {
              "fillmode": "overlay",
              "size": 10,
              "solidity": 0.2
             }
            },
            "type": "bar"
           }
          ],
          "barpolar": [
           {
            "marker": {
             "line": {
              "color": "#E5ECF6",
              "width": 0.5
             },
             "pattern": {
              "fillmode": "overlay",
              "size": 10,
              "solidity": 0.2
             }
            },
            "type": "barpolar"
           }
          ],
          "carpet": [
           {
            "aaxis": {
             "endlinecolor": "#2a3f5f",
             "gridcolor": "white",
             "linecolor": "white",
             "minorgridcolor": "white",
             "startlinecolor": "#2a3f5f"
            },
            "baxis": {
             "endlinecolor": "#2a3f5f",
             "gridcolor": "white",
             "linecolor": "white",
             "minorgridcolor": "white",
             "startlinecolor": "#2a3f5f"
            },
            "type": "carpet"
           }
          ],
          "choropleth": [
           {
            "colorbar": {
             "outlinewidth": 0,
             "ticks": ""
            },
            "type": "choropleth"
           }
          ],
          "contour": [
           {
            "colorbar": {
             "outlinewidth": 0,
             "ticks": ""
            },
            "colorscale": [
             [
              0,
              "#0d0887"
             ],
             [
              0.1111111111111111,
              "#46039f"
             ],
             [
              0.2222222222222222,
              "#7201a8"
             ],
             [
              0.3333333333333333,
              "#9c179e"
             ],
             [
              0.4444444444444444,
              "#bd3786"
             ],
             [
              0.5555555555555556,
              "#d8576b"
             ],
             [
              0.6666666666666666,
              "#ed7953"
             ],
             [
              0.7777777777777778,
              "#fb9f3a"
             ],
             [
              0.8888888888888888,
              "#fdca26"
             ],
             [
              1,
              "#f0f921"
             ]
            ],
            "type": "contour"
           }
          ],
          "contourcarpet": [
           {
            "colorbar": {
             "outlinewidth": 0,
             "ticks": ""
            },
            "type": "contourcarpet"
           }
          ],
          "heatmap": [
           {
            "colorbar": {
             "outlinewidth": 0,
             "ticks": ""
            },
            "colorscale": [
             [
              0,
              "#0d0887"
             ],
             [
              0.1111111111111111,
              "#46039f"
             ],
             [
              0.2222222222222222,
              "#7201a8"
             ],
             [
              0.3333333333333333,
              "#9c179e"
             ],
             [
              0.4444444444444444,
              "#bd3786"
             ],
             [
              0.5555555555555556,
              "#d8576b"
             ],
             [
              0.6666666666666666,
              "#ed7953"
             ],
             [
              0.7777777777777778,
              "#fb9f3a"
             ],
             [
              0.8888888888888888,
              "#fdca26"
             ],
             [
              1,
              "#f0f921"
             ]
            ],
            "type": "heatmap"
           }
          ],
          "heatmapgl": [
           {
            "colorbar": {
             "outlinewidth": 0,
             "ticks": ""
            },
            "colorscale": [
             [
              0,
              "#0d0887"
             ],
             [
              0.1111111111111111,
              "#46039f"
             ],
             [
              0.2222222222222222,
              "#7201a8"
             ],
             [
              0.3333333333333333,
              "#9c179e"
             ],
             [
              0.4444444444444444,
              "#bd3786"
             ],
             [
              0.5555555555555556,
              "#d8576b"
             ],
             [
              0.6666666666666666,
              "#ed7953"
             ],
             [
              0.7777777777777778,
              "#fb9f3a"
             ],
             [
              0.8888888888888888,
              "#fdca26"
             ],
             [
              1,
              "#f0f921"
             ]
            ],
            "type": "heatmapgl"
           }
          ],
          "histogram": [
           {
            "marker": {
             "pattern": {
              "fillmode": "overlay",
              "size": 10,
              "solidity": 0.2
             }
            },
            "type": "histogram"
           }
          ],
          "histogram2d": [
           {
            "colorbar": {
             "outlinewidth": 0,
             "ticks": ""
            },
            "colorscale": [
             [
              0,
              "#0d0887"
             ],
             [
              0.1111111111111111,
              "#46039f"
             ],
             [
              0.2222222222222222,
              "#7201a8"
             ],
             [
              0.3333333333333333,
              "#9c179e"
             ],
             [
              0.4444444444444444,
              "#bd3786"
             ],
             [
              0.5555555555555556,
              "#d8576b"
             ],
             [
              0.6666666666666666,
              "#ed7953"
             ],
             [
              0.7777777777777778,
              "#fb9f3a"
             ],
             [
              0.8888888888888888,
              "#fdca26"
             ],
             [
              1,
              "#f0f921"
             ]
            ],
            "type": "histogram2d"
           }
          ],
          "histogram2dcontour": [
           {
            "colorbar": {
             "outlinewidth": 0,
             "ticks": ""
            },
            "colorscale": [
             [
              0,
              "#0d0887"
             ],
             [
              0.1111111111111111,
              "#46039f"
             ],
             [
              0.2222222222222222,
              "#7201a8"
             ],
             [
              0.3333333333333333,
              "#9c179e"
             ],
             [
              0.4444444444444444,
              "#bd3786"
             ],
             [
              0.5555555555555556,
              "#d8576b"
             ],
             [
              0.6666666666666666,
              "#ed7953"
             ],
             [
              0.7777777777777778,
              "#fb9f3a"
             ],
             [
              0.8888888888888888,
              "#fdca26"
             ],
             [
              1,
              "#f0f921"
             ]
            ],
            "type": "histogram2dcontour"
           }
          ],
          "mesh3d": [
           {
            "colorbar": {
             "outlinewidth": 0,
             "ticks": ""
            },
            "type": "mesh3d"
           }
          ],
          "parcoords": [
           {
            "line": {
             "colorbar": {
              "outlinewidth": 0,
              "ticks": ""
             }
            },
            "type": "parcoords"
           }
          ],
          "pie": [
           {
            "automargin": true,
            "type": "pie"
           }
          ],
          "scatter": [
           {
            "fillpattern": {
             "fillmode": "overlay",
             "size": 10,
             "solidity": 0.2
            },
            "type": "scatter"
           }
          ],
          "scatter3d": [
           {
            "line": {
             "colorbar": {
              "outlinewidth": 0,
              "ticks": ""
             }
            },
            "marker": {
             "colorbar": {
              "outlinewidth": 0,
              "ticks": ""
             }
            },
            "type": "scatter3d"
           }
          ],
          "scattercarpet": [
           {
            "marker": {
             "colorbar": {
              "outlinewidth": 0,
              "ticks": ""
             }
            },
            "type": "scattercarpet"
           }
          ],
          "scattergeo": [
           {
            "marker": {
             "colorbar": {
              "outlinewidth": 0,
              "ticks": ""
             }
            },
            "type": "scattergeo"
           }
          ],
          "scattergl": [
           {
            "marker": {
             "colorbar": {
              "outlinewidth": 0,
              "ticks": ""
             }
            },
            "type": "scattergl"
           }
          ],
          "scattermapbox": [
           {
            "marker": {
             "colorbar": {
              "outlinewidth": 0,
              "ticks": ""
             }
            },
            "type": "scattermapbox"
           }
          ],
          "scatterpolar": [
           {
            "marker": {
             "colorbar": {
              "outlinewidth": 0,
              "ticks": ""
             }
            },
            "type": "scatterpolar"
           }
          ],
          "scatterpolargl": [
           {
            "marker": {
             "colorbar": {
              "outlinewidth": 0,
              "ticks": ""
             }
            },
            "type": "scatterpolargl"
           }
          ],
          "scatterternary": [
           {
            "marker": {
             "colorbar": {
              "outlinewidth": 0,
              "ticks": ""
             }
            },
            "type": "scatterternary"
           }
          ],
          "surface": [
           {
            "colorbar": {
             "outlinewidth": 0,
             "ticks": ""
            },
            "colorscale": [
             [
              0,
              "#0d0887"
             ],
             [
              0.1111111111111111,
              "#46039f"
             ],
             [
              0.2222222222222222,
              "#7201a8"
             ],
             [
              0.3333333333333333,
              "#9c179e"
             ],
             [
              0.4444444444444444,
              "#bd3786"
             ],
             [
              0.5555555555555556,
              "#d8576b"
             ],
             [
              0.6666666666666666,
              "#ed7953"
             ],
             [
              0.7777777777777778,
              "#fb9f3a"
             ],
             [
              0.8888888888888888,
              "#fdca26"
             ],
             [
              1,
              "#f0f921"
             ]
            ],
            "type": "surface"
           }
          ],
          "table": [
           {
            "cells": {
             "fill": {
              "color": "#EBF0F8"
             },
             "line": {
              "color": "white"
             }
            },
            "header": {
             "fill": {
              "color": "#C8D4E3"
             },
             "line": {
              "color": "white"
             }
            },
            "type": "table"
           }
          ]
         },
         "layout": {
          "annotationdefaults": {
           "arrowcolor": "#2a3f5f",
           "arrowhead": 0,
           "arrowwidth": 1
          },
          "autotypenumbers": "strict",
          "coloraxis": {
           "colorbar": {
            "outlinewidth": 0,
            "ticks": ""
           }
          },
          "colorscale": {
           "diverging": [
            [
             0,
             "#8e0152"
            ],
            [
             0.1,
             "#c51b7d"
            ],
            [
             0.2,
             "#de77ae"
            ],
            [
             0.3,
             "#f1b6da"
            ],
            [
             0.4,
             "#fde0ef"
            ],
            [
             0.5,
             "#f7f7f7"
            ],
            [
             0.6,
             "#e6f5d0"
            ],
            [
             0.7,
             "#b8e186"
            ],
            [
             0.8,
             "#7fbc41"
            ],
            [
             0.9,
             "#4d9221"
            ],
            [
             1,
             "#276419"
            ]
           ],
           "sequential": [
            [
             0,
             "#0d0887"
            ],
            [
             0.1111111111111111,
             "#46039f"
            ],
            [
             0.2222222222222222,
             "#7201a8"
            ],
            [
             0.3333333333333333,
             "#9c179e"
            ],
            [
             0.4444444444444444,
             "#bd3786"
            ],
            [
             0.5555555555555556,
             "#d8576b"
            ],
            [
             0.6666666666666666,
             "#ed7953"
            ],
            [
             0.7777777777777778,
             "#fb9f3a"
            ],
            [
             0.8888888888888888,
             "#fdca26"
            ],
            [
             1,
             "#f0f921"
            ]
           ],
           "sequentialminus": [
            [
             0,
             "#0d0887"
            ],
            [
             0.1111111111111111,
             "#46039f"
            ],
            [
             0.2222222222222222,
             "#7201a8"
            ],
            [
             0.3333333333333333,
             "#9c179e"
            ],
            [
             0.4444444444444444,
             "#bd3786"
            ],
            [
             0.5555555555555556,
             "#d8576b"
            ],
            [
             0.6666666666666666,
             "#ed7953"
            ],
            [
             0.7777777777777778,
             "#fb9f3a"
            ],
            [
             0.8888888888888888,
             "#fdca26"
            ],
            [
             1,
             "#f0f921"
            ]
           ]
          },
          "colorway": [
           "#636efa",
           "#EF553B",
           "#00cc96",
           "#ab63fa",
           "#FFA15A",
           "#19d3f3",
           "#FF6692",
           "#B6E880",
           "#FF97FF",
           "#FECB52"
          ],
          "font": {
           "color": "#2a3f5f"
          },
          "geo": {
           "bgcolor": "white",
           "lakecolor": "white",
           "landcolor": "#E5ECF6",
           "showlakes": true,
           "showland": true,
           "subunitcolor": "white"
          },
          "hoverlabel": {
           "align": "left"
          },
          "hovermode": "closest",
          "mapbox": {
           "style": "light"
          },
          "paper_bgcolor": "white",
          "plot_bgcolor": "#E5ECF6",
          "polar": {
           "angularaxis": {
            "gridcolor": "white",
            "linecolor": "white",
            "ticks": ""
           },
           "bgcolor": "#E5ECF6",
           "radialaxis": {
            "gridcolor": "white",
            "linecolor": "white",
            "ticks": ""
           }
          },
          "scene": {
           "xaxis": {
            "backgroundcolor": "#E5ECF6",
            "gridcolor": "white",
            "gridwidth": 2,
            "linecolor": "white",
            "showbackground": true,
            "ticks": "",
            "zerolinecolor": "white"
           },
           "yaxis": {
            "backgroundcolor": "#E5ECF6",
            "gridcolor": "white",
            "gridwidth": 2,
            "linecolor": "white",
            "showbackground": true,
            "ticks": "",
            "zerolinecolor": "white"
           },
           "zaxis": {
            "backgroundcolor": "#E5ECF6",
            "gridcolor": "white",
            "gridwidth": 2,
            "linecolor": "white",
            "showbackground": true,
            "ticks": "",
            "zerolinecolor": "white"
           }
          },
          "shapedefaults": {
           "line": {
            "color": "#2a3f5f"
           }
          },
          "ternary": {
           "aaxis": {
            "gridcolor": "white",
            "linecolor": "white",
            "ticks": ""
           },
           "baxis": {
            "gridcolor": "white",
            "linecolor": "white",
            "ticks": ""
           },
           "bgcolor": "#E5ECF6",
           "caxis": {
            "gridcolor": "white",
            "linecolor": "white",
            "ticks": ""
           }
          },
          "title": {
           "x": 0.05
          },
          "xaxis": {
           "automargin": true,
           "gridcolor": "white",
           "linecolor": "white",
           "ticks": "",
           "title": {
            "standoff": 15
           },
           "zerolinecolor": "white",
           "zerolinewidth": 2
          },
          "yaxis": {
           "automargin": true,
           "gridcolor": "white",
           "linecolor": "white",
           "ticks": "",
           "title": {
            "standoff": 15
           },
           "zerolinecolor": "white",
           "zerolinewidth": 2
          }
         }
        }
       }
      }
     },
     "metadata": {},
     "output_type": "display_data"
    }
   ],
   "source": [
    "# 비구매 고객은\n",
    "nonzero = df[df['totals_totalTransactionRevenue'] == 0]\n",
    "\n",
    "selected = nonzero.groupby('visitId').filter(lambda x: (\"Home\" in x['hits_page_pageTitle'].values))\n",
    "home = selected['visitId'].count()\n",
    "\n",
    "selected = selected.groupby('visitId').filter(lambda x: (\"The Google Merchandise Store - Log In\" in x['hits_page_pageTitle'].values))\n",
    "login = selected['visitId'].count()\n",
    "\n",
    "selected = selected.groupby('visitId').filter(lambda x: (\"Shopping Cart\" in x['hits_page_pageTitle'].values))\n",
    "cart = selected['visitId'].count()\n",
    "\n",
    "selected = selected.groupby('visitId').filter(lambda x: (\"Payment Method\" in x['hits_page_pageTitle'].values))\n",
    "payment = selected['visitId'].count()\n",
    "\n",
    "selected = selected.groupby('visitId').filter(lambda x: (\"Checkout Review\" in x['hits_page_pageTitle'].values))\n",
    "review = selected['visitId'].count()\n",
    "\n",
    "selected = selected.groupby('visitId').filter(lambda x: (\"Checkout Confirmation\" in x['hits_page_pageTitle'].values))\n",
    "confirmation = selected['visitId'].count()\n",
    "\n",
    "# 퍼널 분석 시각화\n",
    "result = pd.DataFrame(columns=['stage', 'number'])\n",
    "stages =[\"Home\", \"Log-in\", \"Shopping Cart\", \"Payment Method\", \"Checkout Review\", \"Checkout Confirmation\"]\n",
    "numbers =[home, login, cart, payment, review, confirmation]\n",
    "\n",
    "from plotly import graph_objects as go\n",
    "\n",
    "fig = go.Figure(go.Funnel(\n",
    "    y = stages,\n",
    "    x = numbers))\n",
    "\n",
    "fig.show()"
   ]
  },
  {
   "cell_type": "code",
   "execution_count": 31,
   "metadata": {},
   "outputs": [],
   "source": [
    "stages =[\"Home\", \"Log-in\", \"Shopping Cart\", \"Payment Method\", \"Checkout Review\", \"Checkout Confirmation\"]\n",
    "numbers =[home, login, cart, payment, review, confirmation]\n",
    "dic = {'label': stages, 'val': numbers}\n",
    "pd.DataFrame(dic).to_csv('nonrev_funnel.csv', index=False)"
   ]
  },
  {
   "cell_type": "markdown",
   "metadata": {},
   "source": [
    "구매고객의 경우 정상적인 흐름으로 구매가 이루어지지만, 비구매 고객의 경우 로그인을 안하고 이탈하거나(log-in), 결제를 하지않고 (payment method) 이탈해버린다. "
   ]
  },
  {
   "cell_type": "code",
   "execution_count": 19,
   "metadata": {},
   "outputs": [
    {
     "name": "stdout",
     "output_type": "stream",
     "text": [
      "vip 장바구니 담는 평균 시간: 0 days 00:12:13.290218270, 최대 시간: 0 days 03:12:00\n",
      "vip 체크아웃 평균 시간: 0 days 00:04:32.328840970, 최대 시간: 0 days 00:41:00\n"
     ]
    }
   ],
   "source": [
    "#어느 페이지 혹은 어느 제품에서 멈춰있던 체류시간이 긴지?\n",
    "# 쿠팡은 결제까지 6분이 걸린다. 22분이 걸리는 이유가 장바구니를 너무 많이 담아서 그런거면 오케이. 그렇지 않다면 결제 전까지 걸리는 부분이 있는것!\n",
    "\n",
    "# vip 장바구니 추가하는 시간 vs 추가 다하고 결제하는 시간 보기 -- 'hits_page_pageTitle'\n",
    "# 처음 접속 시간 부터 마지막 장바구니 시간 vs 마지막 장바구니에서 결제 페이지까지의 시간\n",
    "# visitStartTime -- vip[\"Shopping Cart\"] vs vip[\"payment method\"] -- vip['checkout confirmation]\n",
    "vip = df[df['fullVisitorId'].isin(vvip_ids)]\n",
    "vip = vip[vip['totals_totalTransactionRevenue'] != 0]\n",
    "\n",
    "vip['time_str'] = vip['visitStartTime'].dt.strftime('%Y-%m-%d') + \" \" + vip['hits_hour'].astype(str).str.zfill(2) + ':' + vip['hits_minute'].astype(str).str.zfill(2)\n",
    "vip['hit_time'] = pd.to_datetime(vip['time_str'], format='%Y-%m-%d %H:%M')\n",
    "vip.drop(columns=['time_str'], inplace=True)\n",
    "\n",
    "# 마지막 장바구니 히트 타임\n",
    "last_shopping_cart = vip[vip['hits_page_pageTitle'] == 'Shopping Cart'].groupby('visitId')['hit_time'].agg('max').reset_index()\n",
    "last_shopping_cart.rename(columns={'hit_time': 'last_cart_time'}, inplace=True)\n",
    "\n",
    "# 맨 처음 시각 - 마지막 장바구니 히트 타임\n",
    "first_visit = vip[vip['hits_page_pageTitle'] == 'Shopping Cart'].groupby('visitId')['hit_time'].agg('min').reset_index()\n",
    "first_visit.rename(columns={'hit_time': 'first_visit_time'}, inplace=True)\n",
    "\n",
    "# checkout confirmation 히트 타임\n",
    "checkout_time = vip[vip['hits_page_pageTitle'] == 'Checkout Confirmation'].groupby('visitId')['hit_time'].agg('max').reset_index()\n",
    "checkout_time.rename(columns={'hit_time': 'checkout_time'}, inplace=True)\n",
    "\n",
    "# 처음 시각 - 마지막 장바구니\n",
    "cart_time = first_visit.merge(last_shopping_cart, on='visitId', how='left')\n",
    "cart_time = cart_time.merge(checkout_time, on='visitId', how='left')\n",
    "cart_time['cart_diff'] = cart_time['last_cart_time'] - cart_time['first_visit_time']\n",
    "cart_time['checkout_diff'] = cart_time['checkout_time'] - cart_time['last_cart_time']\n",
    "\n",
    "mean = cart_time['cart_diff'].mean()\n",
    "max_time = cart_time['cart_diff'].max()\n",
    "print(f'vip 장바구니 담는 평균 시간: {mean}, 최대 시간: {max_time}')\n",
    "\n",
    "mean = cart_time['checkout_diff'].mean()\n",
    "max_time = cart_time['checkout_diff'].max()\n",
    "print(f'vip 체크아웃 평균 시간: {mean}, 최대 시간: {max_time}')"
   ]
  },
  {
   "cell_type": "code",
   "execution_count": 15,
   "metadata": {},
   "outputs": [
    {
     "data": {
      "text/plain": [
       "218        3\n",
       "322        3\n",
       "435        3\n",
       "471        3\n",
       "473        3\n",
       "          ..\n",
       "2464570    3\n",
       "2464817    3\n",
       "2464835    3\n",
       "2464845    3\n",
       "2464862    3\n",
       "Name: hits_eCommerceAction_action_type, Length: 56161, dtype: int64"
      ]
     },
     "execution_count": 15,
     "metadata": {},
     "output_type": "execute_result"
    }
   ],
   "source": [
    "#리텐션니어링 확인"
   ]
  },
  {
   "cell_type": "code",
   "execution_count": 22,
   "metadata": {},
   "outputs": [
    {
     "data": {
      "text/plain": [
       "6796"
      ]
     },
     "execution_count": 22,
     "metadata": {},
     "output_type": "execute_result"
    }
   ],
   "source": [
    "len(plain_ids)"
   ]
  },
  {
   "cell_type": "code",
   "execution_count": 23,
   "metadata": {},
   "outputs": [
    {
     "data": {
      "text/plain": [
       "321492"
      ]
     },
     "execution_count": 23,
     "metadata": {},
     "output_type": "execute_result"
    }
   ],
   "source": [
    "df[df['fullVisitorId'].isin(plain_ids)].shape[0]"
   ]
  },
  {
   "cell_type": "code",
   "execution_count": null,
   "metadata": {},
   "outputs": [],
   "source": []
  }
 ],
 "metadata": {
  "kernelspec": {
   "display_name": "Python 3",
   "language": "python",
   "name": "python3"
  },
  "language_info": {
   "codemirror_mode": {
    "name": "ipython",
    "version": 3
   },
   "file_extension": ".py",
   "mimetype": "text/x-python",
   "name": "python",
   "nbconvert_exporter": "python",
   "pygments_lexer": "ipython3",
   "version": "3.10.11"
  }
 },
 "nbformat": 4,
 "nbformat_minor": 2
}
