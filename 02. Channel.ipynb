{
 "cells": [
  {
   "cell_type": "code",
   "execution_count": 1,
   "metadata": {},
   "outputs": [],
   "source": [
    "import os\n",
    "import json\n",
    "from glob import glob\n",
    "from tqdm import tqdm\n",
    "import pandas as pd\n",
    "import numpy as np\n",
    "import matplotlib.pyplot as plt\n",
    "import random\n",
    "from datetime import datetime, timedelta\n",
    "\n",
    "from google.cloud import bigquery\n",
    "from google.oauth2 import service_account\n",
    "\n",
    "pd.set_option('display.max_seq_items', None)\n",
    "pd.set_option('display.max_columns', None)\n",
    "\n",
    "import matplotlib.pyplot as plt\n",
    "import seaborn as sns\n",
    "import plotly.express as px\n",
    "#matplotlib 패키지 한글 깨짐 처리 시작\n",
    "plt.rc('font', family='AppleGothic') #맥\n",
    "\n",
    "import warnings\n",
    "warnings.filterwarnings(action='ignore')\n",
    "\n",
    "# main data\n",
    "df = pd.read_csv('ga4_data.csv')\n",
    "\n",
    "# cluster data\n",
    "clustering = pd.read_csv('clustering.csv')"
   ]
  },
  {
   "cell_type": "code",
   "execution_count": 2,
   "metadata": {},
   "outputs": [],
   "source": [
    "# 전처리 \n",
    "df['visitStartTime'] = pd.to_datetime(df['visitStartTime'])\n",
    "df['totals_totalTransactionRevenue'] = df['totals_totalTransactionRevenue'].fillna(0)\n",
    "df['hits_transaction_transactionRevenue'] = df['hits_transaction_transactionRevenue'].fillna(0)\n",
    "df.visitStartTime = (df.visitStartTime - timedelta(hours=8))\n",
    "\n",
    "# 매번 필요\n",
    "def pad_with_zeros(string):\n",
    "    \"\"\"\n",
    "    문자열의 길이가 19이 될 때까지 앞에 0을 추가하는 함수\n",
    "    \"\"\"\n",
    "    # 문자열의 길이를 세기\n",
    "    length = len(string)\n",
    "    \n",
    "    # 문자열의 길이가 20이 될 때까지 앞에 0을 추가\n",
    "    while length < 19:\n",
    "        string = '0' + string\n",
    "        length += 1\n",
    "    \n",
    "    return string\n",
    "\n",
    "clustering['fullVisitorId'] = clustering['fullVisitorId'].astype(str)\n",
    "clustering['fullVisitorId'] = clustering['fullVisitorId'].apply(pad_with_zeros)\n",
    "\n",
    "df['fullVisitorId'] = df['fullVisitorId'].astype(str)\n",
    "df['fullVisitorId'] = df['fullVisitorId'].apply(pad_with_zeros)\n",
    "\n",
    "# merge\n",
    "main = df.merge(clustering, on='fullVisitorId', how='left')"
   ]
  },
  {
   "cell_type": "code",
   "execution_count": 3,
   "metadata": {},
   "outputs": [
    {
     "data": {
      "text/plain": [
       "channelGrouping\n",
       "Referral          47.71\n",
       "Direct            25.90\n",
       "Organic Search    21.19\n",
       "Paid Search        3.26\n",
       "Display            1.50\n",
       "Social             0.38\n",
       "Affiliates         0.05\n",
       "(Other)            0.00\n",
       "Name: hits_transaction_transactionRevenue, dtype: float64"
      ]
     },
     "execution_count": 3,
     "metadata": {},
     "output_type": "execute_result"
    }
   ],
   "source": [
    "zero = main[main['labels'] == 0]\n",
    "total_revenue = zero['hits_transaction_transactionRevenue'].sum()\n",
    "channel_revenue = zero.groupby(['channelGrouping'])['hits_transaction_transactionRevenue'].sum()\n",
    "channel_revenue = round(channel_revenue / total_revenue * 100, 2) \n",
    "channel_revenue.sort_values(ascending=False)"
   ]
  },
  {
   "cell_type": "code",
   "execution_count": 4,
   "metadata": {},
   "outputs": [],
   "source": [
    "channel_revenue.to_csv('acquisition.csv', index=False)"
   ]
  }
 ],
 "metadata": {
  "kernelspec": {
   "display_name": "Python 3",
   "language": "python",
   "name": "python3"
  },
  "language_info": {
   "codemirror_mode": {
    "name": "ipython",
    "version": 3
   },
   "file_extension": ".py",
   "mimetype": "text/x-python",
   "name": "python",
   "nbconvert_exporter": "python",
   "pygments_lexer": "ipython3",
   "version": "3.10.11"
  }
 },
 "nbformat": 4,
 "nbformat_minor": 2
}
